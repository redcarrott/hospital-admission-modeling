{
 "cells": [
  {
   "cell_type": "markdown",
   "id": "fa240594",
   "metadata": {},
   "source": [
    "# Data science take-home assignment\n",
    "\n",
    "### Overview\n",
    "The objective of this assignment is to create a model that predicts the likelihood that a patient will have a hospital admission in the next 180 days. This assignment gives the candidate the opportunity to demonstrate their data wrangling, feature engineering and model building capabilities.\n",
    "\n",
    "It is strongly recommended that the output of this assignment be a well structured jupyter notebook. Pandas and Sklearn are recommended, but not required. If you want to prototype in Matlab, R or Excel, feel free to do so. If that is the case, a transformed jupyter notebook or source code plus write-up can help us post-process the results.\n",
    "\n",
    "**The minimum model performance metrics that must be reported are the model’s ROC AUC and precision-recall curve AUC.**\n",
    "\n",
    "### Data Dictionary\n",
    "All patient data has been de-identified and event dates have been replaced with days until prediction."
   ]
  },
  {
   "cell_type": "markdown",
   "id": "4be0844c",
   "metadata": {},
   "source": [
    "TO DO:\n",
    "- predict likelihood that pt will have hospital admission in next 180 days"
   ]
  },
  {
   "cell_type": "code",
   "execution_count": 1,
   "id": "92356a8c",
   "metadata": {},
   "outputs": [],
   "source": [
    "import pandas as pd\n",
    "import numpy as np\n",
    "import matplotlib.pyplot as plt"
   ]
  },
  {
   "cell_type": "code",
   "execution_count": 2,
   "id": "e69a1767",
   "metadata": {},
   "outputs": [],
   "source": [
    "### patient data ###\n",
    "prediction_obj = pd.read_csv('patient_data/prediction_objective.csv')\n",
    "demographics = pd.read_csv('patient_data/demographics.csv')\n",
    "medications = pd.read_csv('patient_data/medications.csv')\n",
    "claims = pd.read_csv('patient_data/claims.csv')\n",
    "diagnosis = pd.read_csv('patient_data/diagnosis.csv')\n",
    "\n",
    "### reference data ###\n",
    "atc_crosswalk = pd.read_csv('reference_data/atc_crosswalk.csv')\n",
    "ccs_crosswalk = pd.read_csv('reference_data/ccs_crosswalk.csv')"
   ]
  },
  {
   "cell_type": "markdown",
   "id": "fffd4497",
   "metadata": {},
   "source": [
    "## Data Exploration"
   ]
  },
  {
   "cell_type": "code",
   "execution_count": 3,
   "id": "0c33aad6",
   "metadata": {},
   "outputs": [],
   "source": [
    "def calc_prevalence(y_actual):\n",
    "    return (sum(y_actual)/len(y_actual))"
   ]
  },
  {
   "cell_type": "code",
   "execution_count": 4,
   "id": "cf23bad4",
   "metadata": {},
   "outputs": [
    {
     "name": "stdout",
     "output_type": "stream",
     "text": [
      "Index(['PATIENT_ID', 'HAS_ADMISSION'], dtype='object')\n",
      "\n",
      "<class 'pandas.core.frame.DataFrame'>\n",
      "RangeIndex: 100000 entries, 0 to 99999\n",
      "Data columns (total 2 columns):\n",
      " #   Column         Non-Null Count   Dtype\n",
      "---  ------         --------------   -----\n",
      " 0   PATIENT_ID     100000 non-null  int64\n",
      " 1   HAS_ADMISSION  100000 non-null  int64\n",
      "dtypes: int64(2)\n",
      "memory usage: 1.5 MB\n",
      "\n",
      "Number of patients: 100000\n",
      "Prevalence: 0.0459\n",
      "Number of patients with admission: 4590\n"
     ]
    }
   ],
   "source": [
    "# \"prediction_obj\" data\n",
    "print(prediction_obj.columns)\n",
    "print('')\n",
    "prediction_obj.info()\n",
    "print('')\n",
    "print('Number of patients:', len(prediction_obj))\n",
    "print(f'Prevalence:', calc_prevalence(prediction_obj['HAS_ADMISSION'].values))\n",
    "print('Number of patients with admission:', len(prediction_obj[prediction_obj['HAS_ADMISSION']==1]))"
   ]
  },
  {
   "cell_type": "markdown",
   "id": "3c4154ee",
   "metadata": {},
   "source": [
    "**\"prediction_obj\" dataset**\n",
    "- There are no non-values (NaNs) in the dataset. Not dropping any rows.\n",
    "- Around 4.6% of the population has admission. This represents a class imbalance, which may be a problem when feeding into a predictive model (because model will be biased towards the majority class). "
   ]
  },
  {
   "cell_type": "code",
   "execution_count": 5,
   "id": "5ac25b2c",
   "metadata": {
    "scrolled": true
   },
   "outputs": [
    {
     "name": "stdout",
     "output_type": "stream",
     "text": [
      "Index(['PATIENT_ID', 'SEX', 'AGE'], dtype='object')\n",
      "\n",
      "<class 'pandas.core.frame.DataFrame'>\n",
      "RangeIndex: 100000 entries, 0 to 99999\n",
      "Data columns (total 3 columns):\n",
      " #   Column      Non-Null Count   Dtype \n",
      "---  ------      --------------   ----- \n",
      " 0   PATIENT_ID  100000 non-null  int64 \n",
      " 1   SEX         100000 non-null  object\n",
      " 2   AGE         100000 non-null  int64 \n",
      "dtypes: int64(2), object(1)\n",
      "memory usage: 2.3+ MB\n"
     ]
    },
    {
     "data": {
      "image/png": "[encoded data removed]",
      "text/plain": [
       "<Figure size 432x288 with 1 Axes>"
      ]
     },
     "metadata": {
      "needs_background": "light"
     },
     "output_type": "display_data"
    },
    {
     "data": {
      "image/png": "[encoded data removed]",
      "text/plain": [
       "<Figure size 432x288 with 1 Axes>"
      ]
     },
     "metadata": {
      "needs_background": "light"
     },
     "output_type": "display_data"
    }
   ],
   "source": [
    "# \"demographics\" data\n",
    "print(demographics.columns)\n",
    "print('')\n",
    "demographics.info()\n",
    "\n",
    "plt.hist(demographics[\"SEX\"])\n",
    "plt.title(\"Distribution of sex in patient demographics\")\n",
    "plt.xlabel(\"Patient Sex\")\n",
    "plt.ylabel(\"Count\")\n",
    "plt.show()\n",
    "\n",
    "plt.hist(demographics[\"AGE\"])\n",
    "plt.title(\"Distribution of age in patient demographics\")\n",
    "plt.xlabel(\"Patient Age\")\n",
    "plt.ylabel(\"Count\")\n",
    "plt.show()"
   ]
  },
  {
   "cell_type": "markdown",
   "id": "03ef876a",
   "metadata": {},
   "source": [
    "**\"demographics\" dataset**\n",
    "- There are no non-values (NaNs) in the dataset. Not dropping any rows. \n",
    "- quick glance at SEX column, seems like Female:Male ratio is skewed towards Females. However, not huge imbalance. May need to re-balance later before feeding into model.\n",
    "- quick glance at AGE column, seems like distribution is somewhat normal, but right skewed (more patients <20y.o. vs. >80y.o.)"
   ]
  },
  {
   "cell_type": "code",
   "execution_count": 6,
   "id": "5231403a",
   "metadata": {},
   "outputs": [
    {
     "name": "stdout",
     "output_type": "stream",
     "text": [
      "Index(['PATIENT_ID', 'DATESTART', 'MEDICATION_NAME', 'NDC_CODE', 'DOSAGE',\n",
      "       'DISPENSING_QUANTITY', 'DAYS_SUPPLY', 'ROUTE', 'STRENGTH'],\n",
      "      dtype='object')\n",
      "\n",
      "<class 'pandas.core.frame.DataFrame'>\n",
      "RangeIndex: 2198090 entries, 0 to 2198089\n",
      "Data columns (total 9 columns):\n",
      " #   Column               Dtype  \n",
      "---  ------               -----  \n",
      " 0   PATIENT_ID           int64  \n",
      " 1   DATESTART            int64  \n",
      " 2   MEDICATION_NAME      object \n",
      " 3   NDC_CODE             int64  \n",
      " 4   DOSAGE               float64\n",
      " 5   DISPENSING_QUANTITY  float64\n",
      " 6   DAYS_SUPPLY          int64  \n",
      " 7   ROUTE                object \n",
      " 8   STRENGTH             float64\n",
      "dtypes: float64(3), int64(4), object(2)\n",
      "memory usage: 150.9+ MB\n",
      "\n",
      " MEDICATION_NAME column null values: 94\n",
      " DOSAGE column null values: 1781918\n",
      " DISPENSING_QUANTITY column null values: 26\n",
      " ROUTE column null values: 643897\n",
      " STRENGTH column null values: 1781918\n"
     ]
    },
    {
     "data": {
      "image/png": "[encoded data removed]",
      "text/plain": [
       "<Figure size 432x288 with 1 Axes>"
      ]
     },
     "metadata": {
      "needs_background": "light"
     },
     "output_type": "display_data"
    },
    {
     "data": {
      "image/png": "[encoded data removed]",
      "text/plain": [
       "<Figure size 432x288 with 1 Axes>"
      ]
     },
     "metadata": {
      "needs_background": "light"
     },
     "output_type": "display_data"
    },
    {
     "data": {
      "image/png": "[encoded data removed]",
      "text/plain": [
       "<Figure size 432x288 with 1 Axes>"
      ]
     },
     "metadata": {
      "needs_background": "light"
     },
     "output_type": "display_data"
    },
    {
     "data": {
      "image/png": "[encoded data removed]",
      "text/plain": [
       "<Figure size 432x288 with 1 Axes>"
      ]
     },
     "metadata": {
      "needs_background": "light"
     },
     "output_type": "display_data"
    },
    {
     "data": {
      "image/png": "[encoded data removed]",
      "text/plain": [
       "<Figure size 432x288 with 1 Axes>"
      ]
     },
     "metadata": {
      "needs_background": "light"
     },
     "output_type": "display_data"
    }
   ],
   "source": [
    "# \"medications\" data\n",
    "print(medications.columns)\n",
    "print('')\n",
    "medications.info()\n",
    "print('')\n",
    "\n",
    "for col in medications.columns:\n",
    "    col_null_sum = medications[col].isnull().sum()\n",
    "    if col_null_sum != 0:\n",
    "        print(f'', col, 'column null values:', col_null_sum)\n",
    "\n",
    "new_medications_cols = [x for x in medications.columns \n",
    "                        if x not in(\"DOSAGE\", \"STRENGTH\", \"ROUTE\")]\n",
    "for col in new_medications_cols:\n",
    "    if col not in (\"MEDICATION_NAME\"):\n",
    "        plt.hist(medications[col])\n",
    "        plt.title('Distribution of '+col)\n",
    "        plt.xlabel(col)\n",
    "        plt.ylabel(\"Count\")\n",
    "        plt.show()"
   ]
  },
  {
   "cell_type": "markdown",
   "id": "258be27c",
   "metadata": {},
   "source": [
    "**\"medications\" dataset**\n",
    "- There are 2,198,090 rows while this dataset only has 100,000 patients -- meaning that patients may have multiple different prescribed medications. \n",
    "- DOSAGE and STRENGTH columns have over 1 million null values, and ROUTE column has over 600,000 null values. Due to large null values which represent data incompleteness, will dropping these columns from analysis. Large data incompleteness may introduce noise in ML model.\n",
    "- NCD_CODE histogram not normally distributed but ok because represents national drug code, which is categorical.\n",
    "- DISPENSING_QUANTITY and DAYS_SUPPLY histograms super right skewed, looks like there may be outlier(s). The outliers don't look too abnormal -- **ask whether the outliers may be input errors**, but include them in analysis for now. "
   ]
  },
  {
   "cell_type": "code",
   "execution_count": 7,
   "id": "dc94d35d",
   "metadata": {
    "scrolled": true
   },
   "outputs": [
    {
     "name": "stdout",
     "output_type": "stream",
     "text": [
      "Index(['PATIENT_ID', 'CLAIM_ID', 'ADMISSION_DATE', 'DISCHARGE_DATE',\n",
      "       'DRG_CODE', 'REVENUE_CODE', 'CPT_CODE', 'PLACE_OF_SERVICE'],\n",
      "      dtype='object')\n",
      "\n",
      "<class 'pandas.core.frame.DataFrame'>\n",
      "RangeIndex: 3175892 entries, 0 to 3175891\n",
      "Data columns (total 8 columns):\n",
      " #   Column            Dtype  \n",
      "---  ------            -----  \n",
      " 0   PATIENT_ID        int64  \n",
      " 1   CLAIM_ID          object \n",
      " 2   ADMISSION_DATE    int64  \n",
      " 3   DISCHARGE_DATE    float64\n",
      " 4   DRG_CODE          float64\n",
      " 5   REVENUE_CODE      float64\n",
      " 6   CPT_CODE          object \n",
      " 7   PLACE_OF_SERVICE  int64  \n",
      "dtypes: float64(3), int64(3), object(2)\n",
      "memory usage: 193.8+ MB\n",
      "\n",
      " DISCHARGE_DATE column null values: 470071\n",
      " DRG_CODE column null values: 3059566\n",
      " REVENUE_CODE column null values: 2689603\n",
      " CPT_CODE column null values: 166380\n"
     ]
    },
    {
     "data": {
      "image/png": "[encoded data removed]",
      "text/plain": [
       "<Figure size 432x288 with 1 Axes>"
      ]
     },
     "metadata": {
      "needs_background": "light"
     },
     "output_type": "display_data"
    },
    {
     "data": {
      "image/png": "[encoded data removed]",
      "text/plain": [
       "<Figure size 432x288 with 1 Axes>"
      ]
     },
     "metadata": {
      "needs_background": "light"
     },
     "output_type": "display_data"
    },
    {
     "data": {
      "image/png": "[encoded data removed]",
      "text/plain": [
       "<Figure size 432x288 with 1 Axes>"
      ]
     },
     "metadata": {
      "needs_background": "light"
     },
     "output_type": "display_data"
    },
    {
     "data": {
      "image/png": "[encoded data removed]",
      "text/plain": [
       "<Figure size 432x288 with 1 Axes>"
      ]
     },
     "metadata": {
      "needs_background": "light"
     },
     "output_type": "display_data"
    }
   ],
   "source": [
    "# \"claims\" data\n",
    "print(claims.columns)\n",
    "print('')\n",
    "claims.info()\n",
    "print('')\n",
    "\n",
    "for col in claims.columns:\n",
    "    col_null_sum = claims[col].isnull().sum()\n",
    "    if col_null_sum != 0:\n",
    "        print(f'', col, 'column null values:', col_null_sum)\n",
    "        \n",
    "new_claims_cols = [x for x in claims.columns if x not in(\"DRG_CODE\", \"REVENUE_CODE\")]\n",
    "for col in new_claims_cols:\n",
    "    if col not in (\"CLAIM_ID\", \"CPT_CODE\"):\n",
    "        plt.hist(claims[col])\n",
    "        plt.title('Distribution of '+col)\n",
    "        plt.xlabel(col)\n",
    "        plt.ylabel(\"Count\")\n",
    "        plt.show()"
   ]
  },
  {
   "cell_type": "markdown",
   "id": "ff7ea8dc",
   "metadata": {},
   "source": [
    "**\"claims\" dataset**\n",
    "- There are 3,175,892 rows.\n",
    "- DRG_CODE has over 3 million null values, and REVENUE_CODE has over 2.6 million. These columns will be dropped due to data incompleteness. DISCHARGE_DATE and CPT_CODE have less than 500,000 null values, so will be kept in the analysis. \n",
    "- CLAIM_ID drop from analysis because each row is a new claim ID ?\n",
    "- CPT_CODE no histogram because codes are a mix of letters + numbers ... use bar chart to visualize data? \n",
    "- negative DISCHARGE_DATE?? \n",
    "- may need to create a new column that calculated difference between ADMISSION_DATE and DISCHARGE_DATE"
   ]
  },
  {
   "cell_type": "code",
   "execution_count": 8,
   "id": "0ebe8619",
   "metadata": {
    "scrolled": true
   },
   "outputs": [
    {
     "name": "stdout",
     "output_type": "stream",
     "text": [
      "Index(['CLAIM_ID', 'PRIORITY', 'CODE_TYPE', 'CODE', 'CODE_DESCRIPTION'], dtype='object')\n",
      "\n",
      "<class 'pandas.core.frame.DataFrame'>\n",
      "RangeIndex: 2809365 entries, 0 to 2809364\n",
      "Data columns (total 5 columns):\n",
      " #   Column            Dtype \n",
      "---  ------            ----- \n",
      " 0   CLAIM_ID          object\n",
      " 1   PRIORITY          int64 \n",
      " 2   CODE_TYPE         object\n",
      " 3   CODE              object\n",
      " 4   CODE_DESCRIPTION  object\n",
      "dtypes: int64(1), object(4)\n",
      "memory usage: 107.2+ MB\n",
      "\n",
      " CODE_DESCRIPTION column null values: 77\n"
     ]
    },
    {
     "data": {
      "image/png": "[encoded data removed]",
      "text/plain": [
       "<Figure size 432x288 with 1 Axes>"
      ]
     },
     "metadata": {
      "needs_background": "light"
     },
     "output_type": "display_data"
    },
    {
     "data": {
      "image/png": "[encoded data removed]",
      "text/plain": [
       "<Figure size 432x288 with 1 Axes>"
      ]
     },
     "metadata": {
      "needs_background": "light"
     },
     "output_type": "display_data"
    }
   ],
   "source": [
    "# \"diagnosis\" data\n",
    "\n",
    "print(diagnosis.columns)\n",
    "print('')\n",
    "diagnosis.info()\n",
    "print('')\n",
    "\n",
    "for col in diagnosis.columns:\n",
    "    col_null_sum = diagnosis[col].isnull().sum()\n",
    "    if col_null_sum != 0:\n",
    "        print(f'', col, 'column null values:', col_null_sum)\n",
    "\n",
    "new_diagnosis_cols = [x for x in diagnosis.columns if x not in(\"CLAIM_ID\", \"CODE_DESCRIPTION\", \"CODE\")]\n",
    "for col in new_diagnosis_cols:\n",
    "    plt.hist(diagnosis[col])\n",
    "    plt.title('Distribution of '+col)\n",
    "    plt.xlabel(col)\n",
    "    plt.ylabel(\"Count\")\n",
    "    plt.show()"
   ]
  },
  {
   "cell_type": "markdown",
   "id": "6446cfd6",
   "metadata": {},
   "source": [
    "**\"diagnosis\" dataset**\n",
    "- CLAIM_ID most likely unique for each row, and CODE_DESCRIPTION irrelevant to predicting hospital admission. Drop both columns from analysis.\n",
    "- can use CODE_DESCRIPTION later on if using NLP (eg., BERT) to parse through the descriptions to find patterns\n",
    "- need bar chart for CODE ?\n",
    "- may want to use CODE and not CODE_TYPE, because CODE more unique whereas there are only 2 ICD CODE_TYPE in this dataset"
   ]
  },
  {
   "cell_type": "markdown",
   "id": "5c6a77b8",
   "metadata": {},
   "source": [
    "## Feature Engineering\n",
    "Create features for the predictive model. End result: new columns with features we want for the model will be added to a new dataframe. "
   ]
  },
  {
   "cell_type": "markdown",
   "id": "751a92c0",
   "metadata": {},
   "source": [
    "**only work with columns we want**\n",
    "(Reference PDF to see justification for column selection)\n",
    "\n",
    "*prediction_objective.csv*\n",
    "- PATIENT_ID\n",
    "- HAS_ADMISSION\n",
    "\n",
    "*demographics.csv*\n",
    "- PATIENT_ID\n",
    "- SEX (have to one-hot encode) \n",
    "- AGE\n",
    "\n",
    "*medications.csv*\n",
    "- PATIENT_ID\n",
    "- DATESTART\n",
    "- NDC_CODE (map to ATC_code) \n",
    "\n",
    "*claims.csv*\n",
    "- PATIENT_ID\n",
    "- CLAIM_ID\n",
    "- ADMISSION_DATE\n",
    "- PLACE_OF_SERVICE (have to one-hot encode)\n",
    "\n",
    "*diagnosis.csv*\n",
    "- CLAIM_ID\n",
    "- PRIORITY (group + one-hot encode) \n",
    "- CODE (map to CCS_code) \n",
    "\n",
    "*atc_crosswalk.csv, ccs_crosswalk.csv*"
   ]
  },
  {
   "cell_type": "code",
   "execution_count": 9,
   "id": "6e36df37",
   "metadata": {},
   "outputs": [],
   "source": [
    "pred_df = prediction_obj[['PATIENT_ID', 'HAS_ADMISSION']]\n",
    "dem_df = demographics[['PATIENT_ID', 'SEX', 'AGE']]\n",
    "med_df = medications[['PATIENT_ID', 'DATESTART', 'NDC_CODE']]\n",
    "claim_df = claims[['PATIENT_ID', 'CLAIM_ID', 'ADMISSION_DATE', 'PLACE_OF_SERVICE']]\n",
    "diag_df = diagnosis[['CLAIM_ID', 'PRIORITY', 'CODE']]"
   ]
  },
  {
   "cell_type": "markdown",
   "id": "dd323bf2",
   "metadata": {},
   "source": [
    "medications df: **map medications.csv NDC_CODE --> atc_crosswalk.csv ATC numbers**"
   ]
  },
  {
   "cell_type": "code",
   "execution_count": 10,
   "id": "59629126",
   "metadata": {},
   "outputs": [
    {
     "data": {
      "text/plain": [
       "NDC          object\n",
       "ATC          string\n",
       "ATC_LABEL    string\n",
       "dtype: object"
      ]
     },
     "execution_count": 10,
     "metadata": {},
     "output_type": "execute_result"
    }
   ],
   "source": [
    "atc_crosswalk = atc_crosswalk.astype({\"ATC\":'string', \"ATC_LABEL\":'string'})\n",
    "atc_crosswalk.dtypes"
   ]
  },
  {
   "cell_type": "code",
   "execution_count": 11,
   "id": "9772d25a",
   "metadata": {},
   "outputs": [
    {
     "data": {
      "text/plain": [
       "NDC          float64\n",
       "ATC           string\n",
       "ATC_LABEL     string\n",
       "dtype: object"
      ]
     },
     "execution_count": 11,
     "metadata": {},
     "output_type": "execute_result"
    }
   ],
   "source": [
    "atc_crosswalk[['NDC']] = atc_crosswalk[['NDC']].apply(pd.to_numeric, errors='coerce')\n",
    "atc_crosswalk.dtypes"
   ]
  },
  {
   "cell_type": "code",
   "execution_count": 12,
   "id": "76e093b3",
   "metadata": {},
   "outputs": [
    {
     "name": "stdout",
     "output_type": "stream",
     "text": [
      "Number of null NDC codes: 757\n",
      "Previous atc_crosswalk df shape: (1844783, 3)\n",
      "New (dropped) atc_crosswalk df shape: (1844026, 3)\n"
     ]
    },
    {
     "name": "stderr",
     "output_type": "stream",
     "text": [
      "/var/folders/vl/j3jtwcfn5n1d4dwn0jdsmv880000gp/T/ipykernel_905/2633572640.py:12: SettingWithCopyWarning: \n",
      "A value is trying to be set on a copy of a slice from a DataFrame.\n",
      "Try using .loc[row_indexer,col_indexer] = value instead\n",
      "\n",
      "See the caveats in the documentation: https://pandas.pydata.org/pandas-docs/stable/user_guide/indexing.html#returning-a-view-versus-a-copy\n",
      "  med_df['ATC_code'] = med_df.NDC_CODE.map(mapping)\n"
     ]
    },
    {
     "data": {
      "text/html": [
       "<div>\n",
       "<style scoped>\n",
       "    .dataframe tbody tr th:only-of-type {\n",
       "        vertical-align: middle;\n",
       "    }\n",
       "\n",
       "    .dataframe tbody tr th {\n",
       "        vertical-align: top;\n",
       "    }\n",
       "\n",
       "    .dataframe thead th {\n",
       "        text-align: right;\n",
       "    }\n",
       "</style>\n",
       "<table border=\"1\" class=\"dataframe\">\n",
       "  <thead>\n",
       "    <tr style=\"text-align: right;\">\n",
       "      <th></th>\n",
       "      <th>PATIENT_ID</th>\n",
       "      <th>DATESTART</th>\n",
       "      <th>ATC_code</th>\n",
       "    </tr>\n",
       "  </thead>\n",
       "  <tbody>\n",
       "    <tr>\n",
       "      <th>0</th>\n",
       "      <td>98790</td>\n",
       "      <td>145</td>\n",
       "      <td>N03AX12</td>\n",
       "    </tr>\n",
       "    <tr>\n",
       "      <th>1</th>\n",
       "      <td>90595</td>\n",
       "      <td>98</td>\n",
       "      <td>C03AA03</td>\n",
       "    </tr>\n",
       "    <tr>\n",
       "      <th>2</th>\n",
       "      <td>59974</td>\n",
       "      <td>307</td>\n",
       "      <td>A02BC01</td>\n",
       "    </tr>\n",
       "    <tr>\n",
       "      <th>3</th>\n",
       "      <td>57910</td>\n",
       "      <td>58</td>\n",
       "      <td>P03AX05</td>\n",
       "    </tr>\n",
       "    <tr>\n",
       "      <th>4</th>\n",
       "      <td>98790</td>\n",
       "      <td>286</td>\n",
       "      <td>N02AA05</td>\n",
       "    </tr>\n",
       "  </tbody>\n",
       "</table>\n",
       "</div>"
      ],
      "text/plain": [
       "   PATIENT_ID  DATESTART ATC_code\n",
       "0       98790        145  N03AX12\n",
       "1       90595         98  C03AA03\n",
       "2       59974        307  A02BC01\n",
       "3       57910         58  P03AX05\n",
       "4       98790        286  N02AA05"
      ]
     },
     "execution_count": 12,
     "metadata": {},
     "output_type": "execute_result"
    }
   ],
   "source": [
    "# there are 757 null (ie. contains letters in the NDC code) values\n",
    "# will drop these from analysis\n",
    "print(f'Number of null NDC codes:', atc_crosswalk['NDC'].isnull().sum())\n",
    "print(f'Previous atc_crosswalk df shape:', atc_crosswalk.shape)\n",
    "atc_1 = atc_crosswalk.dropna()\n",
    "print(f'New (dropped) atc_crosswalk df shape:', atc_1.shape)\n",
    "\n",
    "#atc_1[['NDC']] = atc_1[['NDC']].astype(int)\n",
    "#atc_1.dtypes\n",
    "\n",
    "mapping = dict(atc_1[['NDC','ATC']].values)\n",
    "med_df['ATC_code'] = med_df.NDC_CODE.map(mapping)\n",
    "med_df = med_df.drop('NDC_CODE', axis=1) # NDC codes no longer needed\n",
    "med_df.head()"
   ]
  },
  {
   "cell_type": "code",
   "execution_count": 13,
   "id": "c972ab69",
   "metadata": {},
   "outputs": [
    {
     "name": "stdout",
     "output_type": "stream",
     "text": [
      "(2198090, 3)\n",
      "Number of null ATC_code(s): 78134\n"
     ]
    }
   ],
   "source": [
    "print(med_df.shape) # same number of rows as original medications df\n",
    "print(f'Number of null ATC_code(s):', med_df['ATC_code'].isnull().sum())"
   ]
  },
  {
   "cell_type": "markdown",
   "id": "ddac1354",
   "metadata": {},
   "source": [
    "diagnosis df: **map diagnosis.csv diagnosis code (CODE) numbers -->  ccs_crosswalk.csv CCS code (diag_code -> ccs_code)**"
   ]
  },
  {
   "cell_type": "code",
   "execution_count": 14,
   "id": "e11128fb",
   "metadata": {},
   "outputs": [
    {
     "name": "stderr",
     "output_type": "stream",
     "text": [
      "/var/folders/vl/j3jtwcfn5n1d4dwn0jdsmv880000gp/T/ipykernel_905/1259761944.py:4: SettingWithCopyWarning: \n",
      "A value is trying to be set on a copy of a slice from a DataFrame.\n",
      "Try using .loc[row_indexer,col_indexer] = value instead\n",
      "\n",
      "See the caveats in the documentation: https://pandas.pydata.org/pandas-docs/stable/user_guide/indexing.html#returning-a-view-versus-a-copy\n",
      "  diag_df['CCS_code'] = diag_df.CODE.map(mapping_2)\n"
     ]
    },
    {
     "data": {
      "text/html": [
       "<div>\n",
       "<style scoped>\n",
       "    .dataframe tbody tr th:only-of-type {\n",
       "        vertical-align: middle;\n",
       "    }\n",
       "\n",
       "    .dataframe tbody tr th {\n",
       "        vertical-align: top;\n",
       "    }\n",
       "\n",
       "    .dataframe thead th {\n",
       "        text-align: right;\n",
       "    }\n",
       "</style>\n",
       "<table border=\"1\" class=\"dataframe\">\n",
       "  <thead>\n",
       "    <tr style=\"text-align: right;\">\n",
       "      <th></th>\n",
       "      <th>CLAIM_ID</th>\n",
       "      <th>PRIORITY</th>\n",
       "      <th>CCS_code</th>\n",
       "    </tr>\n",
       "  </thead>\n",
       "  <tbody>\n",
       "    <tr>\n",
       "      <th>0</th>\n",
       "      <td>A106686371</td>\n",
       "      <td>4</td>\n",
       "      <td>49.0</td>\n",
       "    </tr>\n",
       "    <tr>\n",
       "      <th>1</th>\n",
       "      <td>A112336349</td>\n",
       "      <td>6</td>\n",
       "      <td>101.0</td>\n",
       "    </tr>\n",
       "    <tr>\n",
       "      <th>2</th>\n",
       "      <td>A12060184251289</td>\n",
       "      <td>16</td>\n",
       "      <td>54.0</td>\n",
       "    </tr>\n",
       "    <tr>\n",
       "      <th>3</th>\n",
       "      <td>A106226016</td>\n",
       "      <td>5</td>\n",
       "      <td>NaN</td>\n",
       "    </tr>\n",
       "    <tr>\n",
       "      <th>4</th>\n",
       "      <td>A100457749</td>\n",
       "      <td>1</td>\n",
       "      <td>133.0</td>\n",
       "    </tr>\n",
       "  </tbody>\n",
       "</table>\n",
       "</div>"
      ],
      "text/plain": [
       "          CLAIM_ID  PRIORITY  CCS_code\n",
       "0       A106686371         4      49.0\n",
       "1       A112336349         6     101.0\n",
       "2  A12060184251289        16      54.0\n",
       "3       A106226016         5       NaN\n",
       "4       A100457749         1     133.0"
      ]
     },
     "execution_count": 14,
     "metadata": {},
     "output_type": "execute_result"
    }
   ],
   "source": [
    "ccs_crosswalk['diag_code'] = ccs_crosswalk['diag_code'].replace('_', '.', regex=True)\n",
    "\n",
    "mapping_2 = dict(ccs_crosswalk[['diag_code', 'ccs_code']].values)\n",
    "diag_df['CCS_code'] = diag_df.CODE.map(mapping_2)\n",
    "diag_df = diag_df.drop('CODE', axis=1) # diagnosis CODE no longer needed\n",
    "diag_df.head()"
   ]
  },
  {
   "cell_type": "code",
   "execution_count": 15,
   "id": "0fe30ed9",
   "metadata": {},
   "outputs": [
    {
     "name": "stdout",
     "output_type": "stream",
     "text": [
      "Number of null CCS_code(s): 329119\n",
      "(2809365, 3)\n"
     ]
    }
   ],
   "source": [
    "# there are certain diagnosis codes (in diagnosis.csv) that do not exist in the ccs_crosswalk.csv\n",
    "ccs_crosswalk[ccs_crosswalk['diag_code'] == '338.29'] # example \n",
    "# so there are NaNs in the new CCS_code column\n",
    "print(f'Number of null CCS_code(s):', diag_df['CCS_code'].isnull().sum())\n",
    "# but, there are same number of rows as original diagnosis df\n",
    "print(diag_df.shape)"
   ]
  },
  {
   "cell_type": "markdown",
   "id": "6335a848",
   "metadata": {},
   "source": [
    "**merge prediction_objective + demographics on PATIENT_ID**"
   ]
  },
  {
   "cell_type": "code",
   "execution_count": 16,
   "id": "3ffc2e75",
   "metadata": {},
   "outputs": [
    {
     "name": "stdout",
     "output_type": "stream",
     "text": [
      "(100000, 4)\n"
     ]
    },
    {
     "data": {
      "text/html": [
       "<div>\n",
       "<style scoped>\n",
       "    .dataframe tbody tr th:only-of-type {\n",
       "        vertical-align: middle;\n",
       "    }\n",
       "\n",
       "    .dataframe tbody tr th {\n",
       "        vertical-align: top;\n",
       "    }\n",
       "\n",
       "    .dataframe thead th {\n",
       "        text-align: right;\n",
       "    }\n",
       "</style>\n",
       "<table border=\"1\" class=\"dataframe\">\n",
       "  <thead>\n",
       "    <tr style=\"text-align: right;\">\n",
       "      <th></th>\n",
       "      <th>PATIENT_ID</th>\n",
       "      <th>HAS_ADMISSION</th>\n",
       "      <th>SEX</th>\n",
       "      <th>AGE</th>\n",
       "    </tr>\n",
       "  </thead>\n",
       "  <tbody>\n",
       "    <tr>\n",
       "      <th>0</th>\n",
       "      <td>0</td>\n",
       "      <td>0</td>\n",
       "      <td>F</td>\n",
       "      <td>6</td>\n",
       "    </tr>\n",
       "    <tr>\n",
       "      <th>1</th>\n",
       "      <td>1</td>\n",
       "      <td>0</td>\n",
       "      <td>F</td>\n",
       "      <td>53</td>\n",
       "    </tr>\n",
       "    <tr>\n",
       "      <th>2</th>\n",
       "      <td>2</td>\n",
       "      <td>0</td>\n",
       "      <td>F</td>\n",
       "      <td>68</td>\n",
       "    </tr>\n",
       "    <tr>\n",
       "      <th>3</th>\n",
       "      <td>3</td>\n",
       "      <td>0</td>\n",
       "      <td>M</td>\n",
       "      <td>76</td>\n",
       "    </tr>\n",
       "    <tr>\n",
       "      <th>4</th>\n",
       "      <td>4</td>\n",
       "      <td>0</td>\n",
       "      <td>M</td>\n",
       "      <td>73</td>\n",
       "    </tr>\n",
       "  </tbody>\n",
       "</table>\n",
       "</div>"
      ],
      "text/plain": [
       "   PATIENT_ID  HAS_ADMISSION SEX  AGE\n",
       "0           0              0   F    6\n",
       "1           1              0   F   53\n",
       "2           2              0   F   68\n",
       "3           3              0   M   76\n",
       "4           4              0   M   73"
      ]
     },
     "execution_count": 16,
     "metadata": {},
     "output_type": "execute_result"
    }
   ],
   "source": [
    "# pt_df\n",
    "pt_df = pred_df.merge(dem_df, how='left', on='PATIENT_ID')\n",
    "print(pt_df.shape)\n",
    "pt_df.head()"
   ]
  },
  {
   "cell_type": "markdown",
   "id": "456d7a7a",
   "metadata": {},
   "source": [
    "***TO DO***\n",
    "- SEX one-hot encode"
   ]
  },
  {
   "cell_type": "code",
   "execution_count": 17,
   "id": "45b53a19",
   "metadata": {},
   "outputs": [],
   "source": [
    "from sklearn.preprocessing import OneHotEncoder\n",
    "from sklearn.compose import make_column_transformer\n",
    "\n",
    "transformer = make_column_transformer((OneHotEncoder(), ['SEX']), \n",
    "                                     remainder='passthrough')\n",
    "\n",
    "transformed = transformer.fit_transform(pt_df)\n",
    "transformed_pt_df = pd.DataFrame(\n",
    "    transformed, \n",
    "    columns=transformer.get_feature_names()\n",
    ")"
   ]
  },
  {
   "cell_type": "code",
   "execution_count": 18,
   "id": "c3cbfb41",
   "metadata": {},
   "outputs": [
    {
     "data": {
      "text/html": [
       "<div>\n",
       "<style scoped>\n",
       "    .dataframe tbody tr th:only-of-type {\n",
       "        vertical-align: middle;\n",
       "    }\n",
       "\n",
       "    .dataframe tbody tr th {\n",
       "        vertical-align: top;\n",
       "    }\n",
       "\n",
       "    .dataframe thead th {\n",
       "        text-align: right;\n",
       "    }\n",
       "</style>\n",
       "<table border=\"1\" class=\"dataframe\">\n",
       "  <thead>\n",
       "    <tr style=\"text-align: right;\">\n",
       "      <th></th>\n",
       "      <th>SEX_F</th>\n",
       "      <th>SEX_M</th>\n",
       "      <th>PATIENT_ID</th>\n",
       "      <th>HAS_ADMISSION</th>\n",
       "      <th>AGE</th>\n",
       "    </tr>\n",
       "  </thead>\n",
       "  <tbody>\n",
       "    <tr>\n",
       "      <th>0</th>\n",
       "      <td>1.0</td>\n",
       "      <td>0.0</td>\n",
       "      <td>0.0</td>\n",
       "      <td>0.0</td>\n",
       "      <td>6.0</td>\n",
       "    </tr>\n",
       "    <tr>\n",
       "      <th>1</th>\n",
       "      <td>1.0</td>\n",
       "      <td>0.0</td>\n",
       "      <td>1.0</td>\n",
       "      <td>0.0</td>\n",
       "      <td>53.0</td>\n",
       "    </tr>\n",
       "    <tr>\n",
       "      <th>2</th>\n",
       "      <td>1.0</td>\n",
       "      <td>0.0</td>\n",
       "      <td>2.0</td>\n",
       "      <td>0.0</td>\n",
       "      <td>68.0</td>\n",
       "    </tr>\n",
       "    <tr>\n",
       "      <th>3</th>\n",
       "      <td>0.0</td>\n",
       "      <td>1.0</td>\n",
       "      <td>3.0</td>\n",
       "      <td>0.0</td>\n",
       "      <td>76.0</td>\n",
       "    </tr>\n",
       "    <tr>\n",
       "      <th>4</th>\n",
       "      <td>0.0</td>\n",
       "      <td>1.0</td>\n",
       "      <td>4.0</td>\n",
       "      <td>0.0</td>\n",
       "      <td>73.0</td>\n",
       "    </tr>\n",
       "  </tbody>\n",
       "</table>\n",
       "</div>"
      ],
      "text/plain": [
       "   SEX_F  SEX_M  PATIENT_ID  HAS_ADMISSION   AGE\n",
       "0    1.0    0.0         0.0            0.0   6.0\n",
       "1    1.0    0.0         1.0            0.0  53.0\n",
       "2    1.0    0.0         2.0            0.0  68.0\n",
       "3    0.0    1.0         3.0            0.0  76.0\n",
       "4    0.0    1.0         4.0            0.0  73.0"
      ]
     },
     "execution_count": 18,
     "metadata": {},
     "output_type": "execute_result"
    }
   ],
   "source": [
    "transformed_pt_df.rename(columns={'onehotencoder__x0_F': 'SEX_F', \n",
    "                                  'onehotencoder__x0_M': 'SEX_M'}, inplace=True)\n",
    "transformed_pt_df.head()"
   ]
  },
  {
   "cell_type": "markdown",
   "id": "2374ea68",
   "metadata": {},
   "source": [
    "# use transformed_pt_df  !!"
   ]
  },
  {
   "cell_type": "markdown",
   "id": "344bc385",
   "metadata": {},
   "source": [
    "**merge claims + diagnosis on CLAIM_ID**"
   ]
  },
  {
   "cell_type": "code",
   "execution_count": 19,
   "id": "37b467cf",
   "metadata": {},
   "outputs": [
    {
     "name": "stdout",
     "output_type": "stream",
     "text": [
      "(9585423, 6)\n"
     ]
    },
    {
     "data": {
      "text/html": [
       "<div>\n",
       "<style scoped>\n",
       "    .dataframe tbody tr th:only-of-type {\n",
       "        vertical-align: middle;\n",
       "    }\n",
       "\n",
       "    .dataframe tbody tr th {\n",
       "        vertical-align: top;\n",
       "    }\n",
       "\n",
       "    .dataframe thead th {\n",
       "        text-align: right;\n",
       "    }\n",
       "</style>\n",
       "<table border=\"1\" class=\"dataframe\">\n",
       "  <thead>\n",
       "    <tr style=\"text-align: right;\">\n",
       "      <th></th>\n",
       "      <th>PATIENT_ID</th>\n",
       "      <th>CLAIM_ID</th>\n",
       "      <th>ADMISSION_DATE</th>\n",
       "      <th>PLACE_OF_SERVICE</th>\n",
       "      <th>PRIORITY</th>\n",
       "      <th>CCS_code</th>\n",
       "    </tr>\n",
       "  </thead>\n",
       "  <tbody>\n",
       "    <tr>\n",
       "      <th>0</th>\n",
       "      <td>50392</td>\n",
       "      <td>A42024972</td>\n",
       "      <td>299</td>\n",
       "      <td>23</td>\n",
       "      <td>1.0</td>\n",
       "      <td>205.0</td>\n",
       "    </tr>\n",
       "    <tr>\n",
       "      <th>1</th>\n",
       "      <td>50392</td>\n",
       "      <td>A42024972</td>\n",
       "      <td>299</td>\n",
       "      <td>23</td>\n",
       "      <td>4.0</td>\n",
       "      <td>48.0</td>\n",
       "    </tr>\n",
       "    <tr>\n",
       "      <th>2</th>\n",
       "      <td>50392</td>\n",
       "      <td>A42024972</td>\n",
       "      <td>299</td>\n",
       "      <td>23</td>\n",
       "      <td>2.0</td>\n",
       "      <td>98.0</td>\n",
       "    </tr>\n",
       "    <tr>\n",
       "      <th>3</th>\n",
       "      <td>50392</td>\n",
       "      <td>A42024972</td>\n",
       "      <td>299</td>\n",
       "      <td>23</td>\n",
       "      <td>3.0</td>\n",
       "      <td>106.0</td>\n",
       "    </tr>\n",
       "    <tr>\n",
       "      <th>4</th>\n",
       "      <td>50392</td>\n",
       "      <td>A42024972</td>\n",
       "      <td>299</td>\n",
       "      <td>23</td>\n",
       "      <td>1.0</td>\n",
       "      <td>205.0</td>\n",
       "    </tr>\n",
       "    <tr>\n",
       "      <th>...</th>\n",
       "      <td>...</td>\n",
       "      <td>...</td>\n",
       "      <td>...</td>\n",
       "      <td>...</td>\n",
       "      <td>...</td>\n",
       "      <td>...</td>\n",
       "    </tr>\n",
       "    <tr>\n",
       "      <th>9585418</th>\n",
       "      <td>38048</td>\n",
       "      <td>B54784753</td>\n",
       "      <td>169</td>\n",
       "      <td>12</td>\n",
       "      <td>3.0</td>\n",
       "      <td>95.0</td>\n",
       "    </tr>\n",
       "    <tr>\n",
       "      <th>9585419</th>\n",
       "      <td>38048</td>\n",
       "      <td>B54784753</td>\n",
       "      <td>169</td>\n",
       "      <td>12</td>\n",
       "      <td>1.0</td>\n",
       "      <td>199.0</td>\n",
       "    </tr>\n",
       "    <tr>\n",
       "      <th>9585420</th>\n",
       "      <td>38048</td>\n",
       "      <td>B54784753</td>\n",
       "      <td>169</td>\n",
       "      <td>12</td>\n",
       "      <td>2.0</td>\n",
       "      <td>199.0</td>\n",
       "    </tr>\n",
       "    <tr>\n",
       "      <th>9585421</th>\n",
       "      <td>99403</td>\n",
       "      <td>B89875090</td>\n",
       "      <td>224</td>\n",
       "      <td>12</td>\n",
       "      <td>1.0</td>\n",
       "      <td>NaN</td>\n",
       "    </tr>\n",
       "    <tr>\n",
       "      <th>9585422</th>\n",
       "      <td>87169</td>\n",
       "      <td>B153906049</td>\n",
       "      <td>145</td>\n",
       "      <td>12</td>\n",
       "      <td>1.0</td>\n",
       "      <td>49.0</td>\n",
       "    </tr>\n",
       "  </tbody>\n",
       "</table>\n",
       "<p>9585423 rows × 6 columns</p>\n",
       "</div>"
      ],
      "text/plain": [
       "         PATIENT_ID    CLAIM_ID  ADMISSION_DATE  PLACE_OF_SERVICE  PRIORITY  \\\n",
       "0             50392   A42024972             299                23       1.0   \n",
       "1             50392   A42024972             299                23       4.0   \n",
       "2             50392   A42024972             299                23       2.0   \n",
       "3             50392   A42024972             299                23       3.0   \n",
       "4             50392   A42024972             299                23       1.0   \n",
       "...             ...         ...             ...               ...       ...   \n",
       "9585418       38048   B54784753             169                12       3.0   \n",
       "9585419       38048   B54784753             169                12       1.0   \n",
       "9585420       38048   B54784753             169                12       2.0   \n",
       "9585421       99403   B89875090             224                12       1.0   \n",
       "9585422       87169  B153906049             145                12       1.0   \n",
       "\n",
       "         CCS_code  \n",
       "0           205.0  \n",
       "1            48.0  \n",
       "2            98.0  \n",
       "3           106.0  \n",
       "4           205.0  \n",
       "...           ...  \n",
       "9585418      95.0  \n",
       "9585419     199.0  \n",
       "9585420     199.0  \n",
       "9585421       NaN  \n",
       "9585422      49.0  \n",
       "\n",
       "[9585423 rows x 6 columns]"
      ]
     },
     "execution_count": 19,
     "metadata": {},
     "output_type": "execute_result"
    }
   ],
   "source": [
    "# diag_claim_df\n",
    "diag_claim_df = claim_df.merge(diag_df, how='outer', on='CLAIM_ID')\n",
    "print(diag_claim_df.shape)\n",
    "diag_claim_df"
   ]
  },
  {
   "cell_type": "markdown",
   "id": "1925fd9b",
   "metadata": {},
   "source": [
    "Looking at different CLAIM_ID values shows that each claim ID has same patient ID, admission date, and place of service. The only differing factors are priority and CCS code. "
   ]
  },
  {
   "cell_type": "markdown",
   "id": "f1ec126a",
   "metadata": {},
   "source": [
    "curious if we can group or see trends in the CCS_code, because one-hot encoding all the CCS codes introduce a lot of variables"
   ]
  },
  {
   "cell_type": "code",
   "execution_count": 20,
   "id": "0e10a0dc",
   "metadata": {},
   "outputs": [
    {
     "data": {
      "text/plain": [
       "<AxesSubplot:>"
      ]
     },
     "execution_count": 20,
     "metadata": {},
     "output_type": "execute_result"
    },
    {
     "data": {
      "image/png": "[encoded data removed]",
      "text/plain": [
       "<Figure size 432x288 with 1 Axes>"
      ]
     },
     "metadata": {
      "needs_background": "light"
     },
     "output_type": "display_data"
    }
   ],
   "source": [
    "# look at histogram of CCS_code\n",
    "diag_claim_df['CCS_code'].hist()"
   ]
  },
  {
   "cell_type": "code",
   "execution_count": 21,
   "id": "7c8a03fb",
   "metadata": {},
   "outputs": [
    {
     "data": {
      "text/plain": [
       "(9547890, 6)"
      ]
     },
     "execution_count": 21,
     "metadata": {},
     "output_type": "execute_result"
    }
   ],
   "source": [
    "# there are only 280 ccs code categories\n",
    "# drop all ccs codes that are greater than 280 \n",
    "# ASK: are these errors? \n",
    "dc_df = diag_claim_df.drop(index=diag_claim_df[diag_claim_df['CCS_code'] > 280].index)\n",
    "dc_df.shape"
   ]
  },
  {
   "cell_type": "code",
   "execution_count": 22,
   "id": "5177c622",
   "metadata": {},
   "outputs": [
    {
     "data": {
      "text/plain": [
       "<AxesSubplot:>"
      ]
     },
     "execution_count": 22,
     "metadata": {},
     "output_type": "execute_result"
    },
    {
     "data": {
      "image/png": "[encoded data removed]",
      "text/plain": [
       "<Figure size 432x288 with 1 Axes>"
      ]
     },
     "metadata": {
      "needs_background": "light"
     },
     "output_type": "display_data"
    }
   ],
   "source": [
    "# look at new df histogram of CCS_code\n",
    "dc_df['CCS_code'].hist()"
   ]
  },
  {
   "cell_type": "markdown",
   "id": "72347ce6",
   "metadata": {},
   "source": [
    "We could group by doing top 10 CCS codes, but that may reduce a lot of the data, so deciding to one-hot encode."
   ]
  },
  {
   "cell_type": "markdown",
   "id": "1ee9892c",
   "metadata": {},
   "source": [
    "***TO DO***\n",
    "- CCS_code one-hot encode\n",
    "- PLACE_OF_SERVICE one-hot encode\n",
    "- PRIORITY group + one-hot encode\n",
    "- ADMISSION_DATE group + one-hot encode"
   ]
  },
  {
   "cell_type": "code",
   "execution_count": 23,
   "id": "f99c7ff7",
   "metadata": {},
   "outputs": [
    {
     "name": "stdout",
     "output_type": "stream",
     "text": [
      "Number of priorities: 25\n"
     ]
    },
    {
     "data": {
      "text/plain": [
       "PRIORITY\n",
       "1.0     3261706\n",
       "2.0     1946174\n",
       "3.0     1296767\n",
       "4.0      895516\n",
       "5.0      469162\n",
       "6.0      375713\n",
       "7.0      294877\n",
       "8.0      242165\n",
       "9.0      186488\n",
       "10.0     151268\n",
       "11.0     124240\n",
       "12.0      99839\n",
       "13.0      48123\n",
       "14.0      38145\n",
       "15.0      31709\n",
       "16.0      25769\n",
       "17.0      20306\n",
       "18.0      16875\n",
       "19.0       6531\n",
       "20.0       4653\n",
       "21.0       3805\n",
       "22.0       2943\n",
       "23.0       2373\n",
       "24.0       1600\n",
       "25.0       1142\n",
       "dtype: int64"
      ]
     },
     "execution_count": 23,
     "metadata": {},
     "output_type": "execute_result"
    }
   ],
   "source": [
    "## group PRIORITY column ##\n",
    "print('Number of priorities:', dc_df.PRIORITY.nunique())\n",
    "dc_df.groupby('PRIORITY').size().sort_values(ascending=False)"
   ]
  },
  {
   "cell_type": "markdown",
   "id": "b9797371",
   "metadata": {},
   "source": [
    "Looks like the top 5 highest priorities have the most data points, which may indicate higher significance. So, will create 6 options (the top 5 priorities and a 6-25 priority column)."
   ]
  },
  {
   "cell_type": "code",
   "execution_count": 24,
   "id": "d8f6a6c0",
   "metadata": {},
   "outputs": [
    {
     "name": "stdout",
     "output_type": "stream",
     "text": [
      "[1, 2, 3, 4, 5]\n"
     ]
    }
   ],
   "source": [
    "top_5 = np.arange(1,6).tolist()\n",
    "print(top_5)"
   ]
  },
  {
   "cell_type": "code",
   "execution_count": 25,
   "id": "e781de0c",
   "metadata": {},
   "outputs": [],
   "source": [
    "# make a new column with duplicated data\n",
    "dc_df['priority'] = dc_df['PRIORITY'].copy()\n",
    "\n",
    "# replace all priorities not in top 10 with '11-25' category\n",
    "dc_df.loc[~dc_df.priority.isin(top_5),'priority'] = '6-25'\n",
    "\n",
    "# drop the original PRIORITY column \n",
    "dc_df = dc_df.drop(columns='PRIORITY')"
   ]
  },
  {
   "cell_type": "code",
   "execution_count": 26,
   "id": "ff8098a0",
   "metadata": {},
   "outputs": [
    {
     "data": {
      "text/plain": [
       "priority\n",
       "1.0     3261706\n",
       "2.0     1946174\n",
       "3.0     1296767\n",
       "4.0      895516\n",
       "5.0      469162\n",
       "6-25    1678565\n",
       "dtype: int64"
      ]
     },
     "execution_count": 26,
     "metadata": {},
     "output_type": "execute_result"
    }
   ],
   "source": [
    "dc_df.groupby('priority').size()"
   ]
  },
  {
   "cell_type": "code",
   "execution_count": 27,
   "id": "56dfdd3c",
   "metadata": {},
   "outputs": [
    {
     "data": {
      "text/plain": [
       "<AxesSubplot:>"
      ]
     },
     "execution_count": 27,
     "metadata": {},
     "output_type": "execute_result"
    },
    {
     "data": {
      "image/png": "[encoded data removed]",
      "text/plain": [
       "<Figure size 432x288 with 1 Axes>"
      ]
     },
     "metadata": {
      "needs_background": "light"
     },
     "output_type": "display_data"
    }
   ],
   "source": [
    "## group ADMISSION_DATE column ##\n",
    "dc_df['ADMISSION_DATE'].hist()\n",
    "# group ADMISSION_DATE by 100 days? (can change around later--fine tune)"
   ]
  },
  {
   "cell_type": "code",
   "execution_count": 28,
   "id": "ef7e40ba",
   "metadata": {},
   "outputs": [
    {
     "data": {
      "text/plain": [
       "(0, 100]      3254412\n",
       "(100, 200]    3057193\n",
       "(200, 300]    2119403\n",
       "(300, 400]    1092159\n",
       "(400, 500]        761\n",
       "(500, 600]         14\n",
       "Name: ADMISSION_DATE_bin_cut, dtype: int64"
      ]
     },
     "execution_count": 28,
     "metadata": {},
     "output_type": "execute_result"
    }
   ],
   "source": [
    "bins = pd.interval_range(start=0, end=600, periods=6)\n",
    "#bin_labels = ['0-99', '100-199', '200-299', '300-399', '400-499', '500-600']\n",
    "\n",
    "dc_df['ADMISSION_DATE_bin_cut'] = pd.cut(dc_df['ADMISSION_DATE'], \n",
    "                                       bins=bins)\n",
    "\n",
    "dc_df['ADMISSION_DATE_bin_cut'].value_counts()"
   ]
  },
  {
   "cell_type": "code",
   "execution_count": 29,
   "id": "b83347b2",
   "metadata": {},
   "outputs": [
    {
     "name": "stdout",
     "output_type": "stream",
     "text": [
      "<class 'pandas.core.frame.DataFrame'>\n",
      "Int64Index: 9547890 entries, 0 to 9585422\n",
      "Data columns (total 7 columns):\n",
      " #   Column                  Dtype   \n",
      "---  ------                  -----   \n",
      " 0   PATIENT_ID              int64   \n",
      " 1   CLAIM_ID                object  \n",
      " 2   ADMISSION_DATE          int64   \n",
      " 3   PLACE_OF_SERVICE        int64   \n",
      " 4   CCS_code                float64 \n",
      " 5   priority                object  \n",
      " 6   ADMISSION_DATE_bin_cut  category\n",
      "dtypes: category(1), float64(1), int64(3), object(2)\n",
      "memory usage: 519.0+ MB\n"
     ]
    }
   ],
   "source": [
    "dc_df.info()"
   ]
  },
  {
   "cell_type": "code",
   "execution_count": 30,
   "id": "b8156420",
   "metadata": {},
   "outputs": [],
   "source": [
    "# drop CLAIM_ID column, because not needed (irrelevant) now.\n",
    "dc_df = dc_df.drop(columns='CLAIM_ID')\n",
    "# drop ADMISSION_DATE column, because data captured in ADMISSION_DATE_bin_cut now.\n",
    "dc_df = dc_df.drop(columns='ADMISSION_DATE')"
   ]
  },
  {
   "cell_type": "code",
   "execution_count": 31,
   "id": "f7f643a3",
   "metadata": {},
   "outputs": [],
   "source": [
    "# convert numerical data into strings to create one-hot encodings \n",
    "# for the 4 columns: priority, CCS_code, PLACE_OF_SERVICE, ADMISSION_DATE_bin_cut\n",
    "cols_to_convert = ['priority', 'CCS_code', 'PLACE_OF_SERVICE', 'ADMISSION_DATE_bin_cut']\n",
    "dc_df[cols_to_convert] = dc_df[cols_to_convert].astype('str')"
   ]
  },
  {
   "cell_type": "code",
   "execution_count": 32,
   "id": "2ac6c478",
   "metadata": {},
   "outputs": [
    {
     "data": {
      "text/html": [
       "<div>\n",
       "<style scoped>\n",
       "    .dataframe tbody tr th:only-of-type {\n",
       "        vertical-align: middle;\n",
       "    }\n",
       "\n",
       "    .dataframe tbody tr th {\n",
       "        vertical-align: top;\n",
       "    }\n",
       "\n",
       "    .dataframe thead th {\n",
       "        text-align: right;\n",
       "    }\n",
       "</style>\n",
       "<table border=\"1\" class=\"dataframe\">\n",
       "  <thead>\n",
       "    <tr style=\"text-align: right;\">\n",
       "      <th></th>\n",
       "      <th>onehotencoder__x0_1.0</th>\n",
       "      <th>onehotencoder__x0_2.0</th>\n",
       "      <th>onehotencoder__x0_3.0</th>\n",
       "      <th>onehotencoder__x0_4.0</th>\n",
       "      <th>onehotencoder__x0_5.0</th>\n",
       "      <th>onehotencoder__x0_6-25</th>\n",
       "      <th>onehotencoder__x1_1.0</th>\n",
       "      <th>onehotencoder__x1_10.0</th>\n",
       "      <th>onehotencoder__x1_100.0</th>\n",
       "      <th>onehotencoder__x1_101.0</th>\n",
       "      <th>...</th>\n",
       "      <th>onehotencoder__x2_98</th>\n",
       "      <th>onehotencoder__x2_99</th>\n",
       "      <th>onehotencoder__x3_(0, 100]</th>\n",
       "      <th>onehotencoder__x3_(100, 200]</th>\n",
       "      <th>onehotencoder__x3_(200, 300]</th>\n",
       "      <th>onehotencoder__x3_(300, 400]</th>\n",
       "      <th>onehotencoder__x3_(400, 500]</th>\n",
       "      <th>onehotencoder__x3_(500, 600]</th>\n",
       "      <th>onehotencoder__x3_nan</th>\n",
       "      <th>PATIENT_ID</th>\n",
       "    </tr>\n",
       "  </thead>\n",
       "  <tbody>\n",
       "    <tr>\n",
       "      <th>0</th>\n",
       "      <td>1.0</td>\n",
       "      <td>0.0</td>\n",
       "      <td>0.0</td>\n",
       "      <td>0.0</td>\n",
       "      <td>0.0</td>\n",
       "      <td>0.0</td>\n",
       "      <td>0.0</td>\n",
       "      <td>0.0</td>\n",
       "      <td>0.0</td>\n",
       "      <td>0.0</td>\n",
       "      <td>...</td>\n",
       "      <td>0.0</td>\n",
       "      <td>0.0</td>\n",
       "      <td>0.0</td>\n",
       "      <td>0.0</td>\n",
       "      <td>1.0</td>\n",
       "      <td>0.0</td>\n",
       "      <td>0.0</td>\n",
       "      <td>0.0</td>\n",
       "      <td>0.0</td>\n",
       "      <td>50392.0</td>\n",
       "    </tr>\n",
       "    <tr>\n",
       "      <th>1</th>\n",
       "      <td>0.0</td>\n",
       "      <td>0.0</td>\n",
       "      <td>0.0</td>\n",
       "      <td>1.0</td>\n",
       "      <td>0.0</td>\n",
       "      <td>0.0</td>\n",
       "      <td>0.0</td>\n",
       "      <td>0.0</td>\n",
       "      <td>0.0</td>\n",
       "      <td>0.0</td>\n",
       "      <td>...</td>\n",
       "      <td>0.0</td>\n",
       "      <td>0.0</td>\n",
       "      <td>0.0</td>\n",
       "      <td>0.0</td>\n",
       "      <td>1.0</td>\n",
       "      <td>0.0</td>\n",
       "      <td>0.0</td>\n",
       "      <td>0.0</td>\n",
       "      <td>0.0</td>\n",
       "      <td>50392.0</td>\n",
       "    </tr>\n",
       "    <tr>\n",
       "      <th>2</th>\n",
       "      <td>0.0</td>\n",
       "      <td>1.0</td>\n",
       "      <td>0.0</td>\n",
       "      <td>0.0</td>\n",
       "      <td>0.0</td>\n",
       "      <td>0.0</td>\n",
       "      <td>0.0</td>\n",
       "      <td>0.0</td>\n",
       "      <td>0.0</td>\n",
       "      <td>0.0</td>\n",
       "      <td>...</td>\n",
       "      <td>0.0</td>\n",
       "      <td>0.0</td>\n",
       "      <td>0.0</td>\n",
       "      <td>0.0</td>\n",
       "      <td>1.0</td>\n",
       "      <td>0.0</td>\n",
       "      <td>0.0</td>\n",
       "      <td>0.0</td>\n",
       "      <td>0.0</td>\n",
       "      <td>50392.0</td>\n",
       "    </tr>\n",
       "    <tr>\n",
       "      <th>3</th>\n",
       "      <td>0.0</td>\n",
       "      <td>0.0</td>\n",
       "      <td>1.0</td>\n",
       "      <td>0.0</td>\n",
       "      <td>0.0</td>\n",
       "      <td>0.0</td>\n",
       "      <td>0.0</td>\n",
       "      <td>0.0</td>\n",
       "      <td>0.0</td>\n",
       "      <td>0.0</td>\n",
       "      <td>...</td>\n",
       "      <td>0.0</td>\n",
       "      <td>0.0</td>\n",
       "      <td>0.0</td>\n",
       "      <td>0.0</td>\n",
       "      <td>1.0</td>\n",
       "      <td>0.0</td>\n",
       "      <td>0.0</td>\n",
       "      <td>0.0</td>\n",
       "      <td>0.0</td>\n",
       "      <td>50392.0</td>\n",
       "    </tr>\n",
       "    <tr>\n",
       "      <th>4</th>\n",
       "      <td>1.0</td>\n",
       "      <td>0.0</td>\n",
       "      <td>0.0</td>\n",
       "      <td>0.0</td>\n",
       "      <td>0.0</td>\n",
       "      <td>0.0</td>\n",
       "      <td>0.0</td>\n",
       "      <td>0.0</td>\n",
       "      <td>0.0</td>\n",
       "      <td>0.0</td>\n",
       "      <td>...</td>\n",
       "      <td>0.0</td>\n",
       "      <td>0.0</td>\n",
       "      <td>0.0</td>\n",
       "      <td>0.0</td>\n",
       "      <td>1.0</td>\n",
       "      <td>0.0</td>\n",
       "      <td>0.0</td>\n",
       "      <td>0.0</td>\n",
       "      <td>0.0</td>\n",
       "      <td>50392.0</td>\n",
       "    </tr>\n",
       "  </tbody>\n",
       "</table>\n",
       "<p>5 rows × 311 columns</p>\n",
       "</div>"
      ],
      "text/plain": [
       "   onehotencoder__x0_1.0  onehotencoder__x0_2.0  onehotencoder__x0_3.0  \\\n",
       "0                    1.0                    0.0                    0.0   \n",
       "1                    0.0                    0.0                    0.0   \n",
       "2                    0.0                    1.0                    0.0   \n",
       "3                    0.0                    0.0                    1.0   \n",
       "4                    1.0                    0.0                    0.0   \n",
       "\n",
       "   onehotencoder__x0_4.0  onehotencoder__x0_5.0  onehotencoder__x0_6-25  \\\n",
       "0                    0.0                    0.0                     0.0   \n",
       "1                    1.0                    0.0                     0.0   \n",
       "2                    0.0                    0.0                     0.0   \n",
       "3                    0.0                    0.0                     0.0   \n",
       "4                    0.0                    0.0                     0.0   \n",
       "\n",
       "   onehotencoder__x1_1.0  onehotencoder__x1_10.0  onehotencoder__x1_100.0  \\\n",
       "0                    0.0                     0.0                      0.0   \n",
       "1                    0.0                     0.0                      0.0   \n",
       "2                    0.0                     0.0                      0.0   \n",
       "3                    0.0                     0.0                      0.0   \n",
       "4                    0.0                     0.0                      0.0   \n",
       "\n",
       "   onehotencoder__x1_101.0  ...  onehotencoder__x2_98  onehotencoder__x2_99  \\\n",
       "0                      0.0  ...                   0.0                   0.0   \n",
       "1                      0.0  ...                   0.0                   0.0   \n",
       "2                      0.0  ...                   0.0                   0.0   \n",
       "3                      0.0  ...                   0.0                   0.0   \n",
       "4                      0.0  ...                   0.0                   0.0   \n",
       "\n",
       "   onehotencoder__x3_(0, 100]  onehotencoder__x3_(100, 200]  \\\n",
       "0                         0.0                           0.0   \n",
       "1                         0.0                           0.0   \n",
       "2                         0.0                           0.0   \n",
       "3                         0.0                           0.0   \n",
       "4                         0.0                           0.0   \n",
       "\n",
       "   onehotencoder__x3_(200, 300]  onehotencoder__x3_(300, 400]  \\\n",
       "0                           1.0                           0.0   \n",
       "1                           1.0                           0.0   \n",
       "2                           1.0                           0.0   \n",
       "3                           1.0                           0.0   \n",
       "4                           1.0                           0.0   \n",
       "\n",
       "   onehotencoder__x3_(400, 500]  onehotencoder__x3_(500, 600]  \\\n",
       "0                           0.0                           0.0   \n",
       "1                           0.0                           0.0   \n",
       "2                           0.0                           0.0   \n",
       "3                           0.0                           0.0   \n",
       "4                           0.0                           0.0   \n",
       "\n",
       "   onehotencoder__x3_nan  PATIENT_ID  \n",
       "0                    0.0     50392.0  \n",
       "1                    0.0     50392.0  \n",
       "2                    0.0     50392.0  \n",
       "3                    0.0     50392.0  \n",
       "4                    0.0     50392.0  \n",
       "\n",
       "[5 rows x 311 columns]"
      ]
     },
     "execution_count": 32,
     "metadata": {},
     "output_type": "execute_result"
    }
   ],
   "source": [
    "# one-hot encode the 4 columns\n",
    "transformer = make_column_transformer((OneHotEncoder(), ['priority', 'CCS_code', 'PLACE_OF_SERVICE', 'ADMISSION_DATE_bin_cut']), \n",
    "                                     remainder='passthrough')\n",
    "\n",
    "transformed = transformer.fit_transform(dc_df)\n",
    "transformed_dc_df = pd.DataFrame.sparse.from_spmatrix(\n",
    "    transformed, \n",
    "    columns=transformer.get_feature_names()\n",
    ")\n",
    "transformed_dc_df.head()"
   ]
  },
  {
   "cell_type": "code",
   "execution_count": 33,
   "id": "4f30cb7c",
   "metadata": {},
   "outputs": [
    {
     "data": {
      "text/plain": [
       "['onehotencoder__x0_1.0',\n",
       " 'onehotencoder__x0_2.0',\n",
       " 'onehotencoder__x0_3.0',\n",
       " 'onehotencoder__x0_4.0',\n",
       " 'onehotencoder__x0_5.0',\n",
       " 'onehotencoder__x0_6-25',\n",
       " 'onehotencoder__x1_1.0',\n",
       " 'onehotencoder__x1_10.0',\n",
       " 'onehotencoder__x1_100.0',\n",
       " 'onehotencoder__x1_101.0',\n",
       " 'onehotencoder__x1_102.0',\n",
       " 'onehotencoder__x1_103.0',\n",
       " 'onehotencoder__x1_104.0',\n",
       " 'onehotencoder__x1_105.0',\n",
       " 'onehotencoder__x1_106.0',\n",
       " 'onehotencoder__x1_107.0',\n",
       " 'onehotencoder__x1_108.0',\n",
       " 'onehotencoder__x1_109.0',\n",
       " 'onehotencoder__x1_11.0',\n",
       " 'onehotencoder__x1_110.0',\n",
       " 'onehotencoder__x1_111.0',\n",
       " 'onehotencoder__x1_112.0',\n",
       " 'onehotencoder__x1_113.0',\n",
       " 'onehotencoder__x1_114.0',\n",
       " 'onehotencoder__x1_115.0',\n",
       " 'onehotencoder__x1_116.0',\n",
       " 'onehotencoder__x1_117.0',\n",
       " 'onehotencoder__x1_118.0',\n",
       " 'onehotencoder__x1_119.0',\n",
       " 'onehotencoder__x1_12.0',\n",
       " 'onehotencoder__x1_120.0',\n",
       " 'onehotencoder__x1_121.0',\n",
       " 'onehotencoder__x1_122.0',\n",
       " 'onehotencoder__x1_123.0',\n",
       " 'onehotencoder__x1_124.0',\n",
       " 'onehotencoder__x1_125.0',\n",
       " 'onehotencoder__x1_126.0',\n",
       " 'onehotencoder__x1_127.0',\n",
       " 'onehotencoder__x1_128.0',\n",
       " 'onehotencoder__x1_129.0',\n",
       " 'onehotencoder__x1_13.0',\n",
       " 'onehotencoder__x1_130.0',\n",
       " 'onehotencoder__x1_131.0',\n",
       " 'onehotencoder__x1_132.0',\n",
       " 'onehotencoder__x1_133.0',\n",
       " 'onehotencoder__x1_134.0',\n",
       " 'onehotencoder__x1_135.0',\n",
       " 'onehotencoder__x1_136.0',\n",
       " 'onehotencoder__x1_137.0',\n",
       " 'onehotencoder__x1_138.0',\n",
       " 'onehotencoder__x1_139.0',\n",
       " 'onehotencoder__x1_14.0',\n",
       " 'onehotencoder__x1_140.0',\n",
       " 'onehotencoder__x1_141.0',\n",
       " 'onehotencoder__x1_142.0',\n",
       " 'onehotencoder__x1_143.0',\n",
       " 'onehotencoder__x1_144.0',\n",
       " 'onehotencoder__x1_145.0',\n",
       " 'onehotencoder__x1_146.0',\n",
       " 'onehotencoder__x1_147.0',\n",
       " 'onehotencoder__x1_148.0',\n",
       " 'onehotencoder__x1_149.0',\n",
       " 'onehotencoder__x1_15.0',\n",
       " 'onehotencoder__x1_150.0',\n",
       " 'onehotencoder__x1_151.0',\n",
       " 'onehotencoder__x1_152.0',\n",
       " 'onehotencoder__x1_153.0',\n",
       " 'onehotencoder__x1_154.0',\n",
       " 'onehotencoder__x1_155.0',\n",
       " 'onehotencoder__x1_156.0',\n",
       " 'onehotencoder__x1_157.0',\n",
       " 'onehotencoder__x1_158.0',\n",
       " 'onehotencoder__x1_159.0',\n",
       " 'onehotencoder__x1_16.0',\n",
       " 'onehotencoder__x1_160.0',\n",
       " 'onehotencoder__x1_161.0',\n",
       " 'onehotencoder__x1_162.0',\n",
       " 'onehotencoder__x1_163.0',\n",
       " 'onehotencoder__x1_164.0',\n",
       " 'onehotencoder__x1_165.0',\n",
       " 'onehotencoder__x1_166.0',\n",
       " 'onehotencoder__x1_167.0',\n",
       " 'onehotencoder__x1_168.0',\n",
       " 'onehotencoder__x1_169.0',\n",
       " 'onehotencoder__x1_17.0',\n",
       " 'onehotencoder__x1_170.0',\n",
       " 'onehotencoder__x1_171.0',\n",
       " 'onehotencoder__x1_172.0',\n",
       " 'onehotencoder__x1_173.0',\n",
       " 'onehotencoder__x1_174.0',\n",
       " 'onehotencoder__x1_175.0',\n",
       " 'onehotencoder__x1_176.0',\n",
       " 'onehotencoder__x1_177.0',\n",
       " 'onehotencoder__x1_178.0',\n",
       " 'onehotencoder__x1_179.0',\n",
       " 'onehotencoder__x1_18.0',\n",
       " 'onehotencoder__x1_180.0',\n",
       " 'onehotencoder__x1_181.0',\n",
       " 'onehotencoder__x1_182.0',\n",
       " 'onehotencoder__x1_183.0',\n",
       " 'onehotencoder__x1_184.0',\n",
       " 'onehotencoder__x1_185.0',\n",
       " 'onehotencoder__x1_186.0',\n",
       " 'onehotencoder__x1_187.0',\n",
       " 'onehotencoder__x1_188.0',\n",
       " 'onehotencoder__x1_189.0',\n",
       " 'onehotencoder__x1_19.0',\n",
       " 'onehotencoder__x1_190.0',\n",
       " 'onehotencoder__x1_191.0',\n",
       " 'onehotencoder__x1_192.0',\n",
       " 'onehotencoder__x1_193.0',\n",
       " 'onehotencoder__x1_194.0',\n",
       " 'onehotencoder__x1_195.0',\n",
       " 'onehotencoder__x1_196.0',\n",
       " 'onehotencoder__x1_197.0',\n",
       " 'onehotencoder__x1_198.0',\n",
       " 'onehotencoder__x1_199.0',\n",
       " 'onehotencoder__x1_2.0',\n",
       " 'onehotencoder__x1_20.0',\n",
       " 'onehotencoder__x1_200.0',\n",
       " 'onehotencoder__x1_201.0',\n",
       " 'onehotencoder__x1_202.0',\n",
       " 'onehotencoder__x1_203.0',\n",
       " 'onehotencoder__x1_204.0',\n",
       " 'onehotencoder__x1_205.0',\n",
       " 'onehotencoder__x1_206.0',\n",
       " 'onehotencoder__x1_207.0',\n",
       " 'onehotencoder__x1_208.0',\n",
       " 'onehotencoder__x1_209.0',\n",
       " 'onehotencoder__x1_21.0',\n",
       " 'onehotencoder__x1_210.0',\n",
       " 'onehotencoder__x1_211.0',\n",
       " 'onehotencoder__x1_212.0',\n",
       " 'onehotencoder__x1_213.0',\n",
       " 'onehotencoder__x1_214.0',\n",
       " 'onehotencoder__x1_215.0',\n",
       " 'onehotencoder__x1_216.0',\n",
       " 'onehotencoder__x1_217.0',\n",
       " 'onehotencoder__x1_218.0',\n",
       " 'onehotencoder__x1_219.0',\n",
       " 'onehotencoder__x1_22.0',\n",
       " 'onehotencoder__x1_220.0',\n",
       " 'onehotencoder__x1_221.0',\n",
       " 'onehotencoder__x1_222.0',\n",
       " 'onehotencoder__x1_223.0',\n",
       " 'onehotencoder__x1_224.0',\n",
       " 'onehotencoder__x1_225.0',\n",
       " 'onehotencoder__x1_226.0',\n",
       " 'onehotencoder__x1_227.0',\n",
       " 'onehotencoder__x1_228.0',\n",
       " 'onehotencoder__x1_229.0',\n",
       " 'onehotencoder__x1_23.0',\n",
       " 'onehotencoder__x1_230.0',\n",
       " 'onehotencoder__x1_231.0',\n",
       " 'onehotencoder__x1_232.0',\n",
       " 'onehotencoder__x1_233.0',\n",
       " 'onehotencoder__x1_234.0',\n",
       " 'onehotencoder__x1_235.0',\n",
       " 'onehotencoder__x1_236.0',\n",
       " 'onehotencoder__x1_237.0',\n",
       " 'onehotencoder__x1_238.0',\n",
       " 'onehotencoder__x1_239.0',\n",
       " 'onehotencoder__x1_24.0',\n",
       " 'onehotencoder__x1_240.0',\n",
       " 'onehotencoder__x1_241.0',\n",
       " 'onehotencoder__x1_242.0',\n",
       " 'onehotencoder__x1_243.0',\n",
       " 'onehotencoder__x1_244.0',\n",
       " 'onehotencoder__x1_245.0',\n",
       " 'onehotencoder__x1_246.0',\n",
       " 'onehotencoder__x1_247.0',\n",
       " 'onehotencoder__x1_248.0',\n",
       " 'onehotencoder__x1_249.0',\n",
       " 'onehotencoder__x1_25.0',\n",
       " 'onehotencoder__x1_250.0',\n",
       " 'onehotencoder__x1_251.0',\n",
       " 'onehotencoder__x1_252.0',\n",
       " 'onehotencoder__x1_253.0',\n",
       " 'onehotencoder__x1_254.0',\n",
       " 'onehotencoder__x1_255.0',\n",
       " 'onehotencoder__x1_256.0',\n",
       " 'onehotencoder__x1_257.0',\n",
       " 'onehotencoder__x1_258.0',\n",
       " 'onehotencoder__x1_26.0',\n",
       " 'onehotencoder__x1_260.0',\n",
       " 'onehotencoder__x1_27.0',\n",
       " 'onehotencoder__x1_28.0',\n",
       " 'onehotencoder__x1_29.0',\n",
       " 'onehotencoder__x1_3.0',\n",
       " 'onehotencoder__x1_30.0',\n",
       " 'onehotencoder__x1_31.0',\n",
       " 'onehotencoder__x1_32.0',\n",
       " 'onehotencoder__x1_33.0',\n",
       " 'onehotencoder__x1_34.0',\n",
       " 'onehotencoder__x1_35.0',\n",
       " 'onehotencoder__x1_36.0',\n",
       " 'onehotencoder__x1_37.0',\n",
       " 'onehotencoder__x1_38.0',\n",
       " 'onehotencoder__x1_39.0',\n",
       " 'onehotencoder__x1_4.0',\n",
       " 'onehotencoder__x1_40.0',\n",
       " 'onehotencoder__x1_41.0',\n",
       " 'onehotencoder__x1_42.0',\n",
       " 'onehotencoder__x1_43.0',\n",
       " 'onehotencoder__x1_44.0',\n",
       " 'onehotencoder__x1_45.0',\n",
       " 'onehotencoder__x1_46.0',\n",
       " 'onehotencoder__x1_47.0',\n",
       " 'onehotencoder__x1_48.0',\n",
       " 'onehotencoder__x1_49.0',\n",
       " 'onehotencoder__x1_5.0',\n",
       " 'onehotencoder__x1_50.0',\n",
       " 'onehotencoder__x1_51.0',\n",
       " 'onehotencoder__x1_52.0',\n",
       " 'onehotencoder__x1_53.0',\n",
       " 'onehotencoder__x1_54.0',\n",
       " 'onehotencoder__x1_55.0',\n",
       " 'onehotencoder__x1_56.0',\n",
       " 'onehotencoder__x1_57.0',\n",
       " 'onehotencoder__x1_58.0',\n",
       " 'onehotencoder__x1_59.0',\n",
       " 'onehotencoder__x1_6.0',\n",
       " 'onehotencoder__x1_60.0',\n",
       " 'onehotencoder__x1_61.0',\n",
       " 'onehotencoder__x1_62.0',\n",
       " 'onehotencoder__x1_63.0',\n",
       " 'onehotencoder__x1_64.0',\n",
       " 'onehotencoder__x1_65.0',\n",
       " 'onehotencoder__x1_66.0',\n",
       " 'onehotencoder__x1_67.0',\n",
       " 'onehotencoder__x1_68.0',\n",
       " 'onehotencoder__x1_69.0',\n",
       " 'onehotencoder__x1_7.0',\n",
       " 'onehotencoder__x1_70.0',\n",
       " 'onehotencoder__x1_71.0',\n",
       " 'onehotencoder__x1_72.0',\n",
       " 'onehotencoder__x1_73.0',\n",
       " 'onehotencoder__x1_74.0',\n",
       " 'onehotencoder__x1_75.0',\n",
       " 'onehotencoder__x1_76.0',\n",
       " 'onehotencoder__x1_77.0',\n",
       " 'onehotencoder__x1_78.0',\n",
       " 'onehotencoder__x1_79.0',\n",
       " 'onehotencoder__x1_8.0',\n",
       " 'onehotencoder__x1_80.0',\n",
       " 'onehotencoder__x1_81.0',\n",
       " 'onehotencoder__x1_82.0',\n",
       " 'onehotencoder__x1_83.0',\n",
       " 'onehotencoder__x1_84.0',\n",
       " 'onehotencoder__x1_85.0',\n",
       " 'onehotencoder__x1_86.0',\n",
       " 'onehotencoder__x1_87.0',\n",
       " 'onehotencoder__x1_88.0',\n",
       " 'onehotencoder__x1_89.0',\n",
       " 'onehotencoder__x1_9.0',\n",
       " 'onehotencoder__x1_90.0',\n",
       " 'onehotencoder__x1_91.0',\n",
       " 'onehotencoder__x1_92.0',\n",
       " 'onehotencoder__x1_93.0',\n",
       " 'onehotencoder__x1_94.0',\n",
       " 'onehotencoder__x1_95.0',\n",
       " 'onehotencoder__x1_96.0',\n",
       " 'onehotencoder__x1_97.0',\n",
       " 'onehotencoder__x1_98.0',\n",
       " 'onehotencoder__x1_99.0',\n",
       " 'onehotencoder__x1_nan',\n",
       " 'onehotencoder__x2_11',\n",
       " 'onehotencoder__x2_12',\n",
       " 'onehotencoder__x2_13',\n",
       " 'onehotencoder__x2_14',\n",
       " 'onehotencoder__x2_15',\n",
       " 'onehotencoder__x2_17',\n",
       " 'onehotencoder__x2_19',\n",
       " 'onehotencoder__x2_20',\n",
       " 'onehotencoder__x2_21',\n",
       " 'onehotencoder__x2_22',\n",
       " 'onehotencoder__x2_23',\n",
       " 'onehotencoder__x2_24',\n",
       " 'onehotencoder__x2_25',\n",
       " 'onehotencoder__x2_26',\n",
       " 'onehotencoder__x2_3',\n",
       " 'onehotencoder__x2_31',\n",
       " 'onehotencoder__x2_32',\n",
       " 'onehotencoder__x2_33',\n",
       " 'onehotencoder__x2_34',\n",
       " 'onehotencoder__x2_4',\n",
       " 'onehotencoder__x2_41',\n",
       " 'onehotencoder__x2_42',\n",
       " 'onehotencoder__x2_49',\n",
       " 'onehotencoder__x2_50',\n",
       " 'onehotencoder__x2_51',\n",
       " 'onehotencoder__x2_52',\n",
       " 'onehotencoder__x2_53',\n",
       " 'onehotencoder__x2_55',\n",
       " 'onehotencoder__x2_57',\n",
       " 'onehotencoder__x2_60',\n",
       " 'onehotencoder__x2_61',\n",
       " 'onehotencoder__x2_62',\n",
       " 'onehotencoder__x2_65',\n",
       " 'onehotencoder__x2_71',\n",
       " 'onehotencoder__x2_81',\n",
       " 'onehotencoder__x2_98',\n",
       " 'onehotencoder__x2_99',\n",
       " 'onehotencoder__x3_(0, 100]',\n",
       " 'onehotencoder__x3_(100, 200]',\n",
       " 'onehotencoder__x3_(200, 300]',\n",
       " 'onehotencoder__x3_(300, 400]',\n",
       " 'onehotencoder__x3_(400, 500]',\n",
       " 'onehotencoder__x3_(500, 600]',\n",
       " 'onehotencoder__x3_nan',\n",
       " 'PATIENT_ID']"
      ]
     },
     "execution_count": 33,
     "metadata": {},
     "output_type": "execute_result"
    }
   ],
   "source": [
    "list(transformed_dc_df.columns)"
   ]
  },
  {
   "cell_type": "code",
   "execution_count": 34,
   "id": "4a944724",
   "metadata": {},
   "outputs": [
    {
     "data": {
      "text/html": [
       "<div>\n",
       "<style scoped>\n",
       "    .dataframe tbody tr th:only-of-type {\n",
       "        vertical-align: middle;\n",
       "    }\n",
       "\n",
       "    .dataframe tbody tr th {\n",
       "        vertical-align: top;\n",
       "    }\n",
       "\n",
       "    .dataframe thead th {\n",
       "        text-align: right;\n",
       "    }\n",
       "</style>\n",
       "<table border=\"1\" class=\"dataframe\">\n",
       "  <thead>\n",
       "    <tr style=\"text-align: right;\">\n",
       "      <th></th>\n",
       "      <th>priority_1.0</th>\n",
       "      <th>priority_2.0</th>\n",
       "      <th>priority_3.0</th>\n",
       "      <th>priority_4.0</th>\n",
       "      <th>priority_5.0</th>\n",
       "      <th>priority_6-25</th>\n",
       "      <th>CCS_code_1.0</th>\n",
       "      <th>CCS_code_10.0</th>\n",
       "      <th>CCS_code_100.0</th>\n",
       "      <th>CCS_code_101.0</th>\n",
       "      <th>...</th>\n",
       "      <th>PLACE_OF_SERVICE_98</th>\n",
       "      <th>PLACE_OF_SERVICE_99</th>\n",
       "      <th>ADMISSION_DATE_bin_cut_(0, 100]</th>\n",
       "      <th>ADMISSION_DATE_bin_cut_(100, 200]</th>\n",
       "      <th>ADMISSION_DATE_bin_cut_(200, 300]</th>\n",
       "      <th>ADMISSION_DATE_bin_cut_(300, 400]</th>\n",
       "      <th>ADMISSION_DATE_bin_cut_(400, 500]</th>\n",
       "      <th>ADMISSION_DATE_bin_cut_(500, 600]</th>\n",
       "      <th>ADMISSION_DATE_bin_cut_nan</th>\n",
       "      <th>PATIENT_ID</th>\n",
       "    </tr>\n",
       "  </thead>\n",
       "  <tbody>\n",
       "    <tr>\n",
       "      <th>0</th>\n",
       "      <td>1.0</td>\n",
       "      <td>0.0</td>\n",
       "      <td>0.0</td>\n",
       "      <td>0.0</td>\n",
       "      <td>0.0</td>\n",
       "      <td>0.0</td>\n",
       "      <td>0.0</td>\n",
       "      <td>0.0</td>\n",
       "      <td>0.0</td>\n",
       "      <td>0.0</td>\n",
       "      <td>...</td>\n",
       "      <td>0.0</td>\n",
       "      <td>0.0</td>\n",
       "      <td>0.0</td>\n",
       "      <td>0.0</td>\n",
       "      <td>1.0</td>\n",
       "      <td>0.0</td>\n",
       "      <td>0.0</td>\n",
       "      <td>0.0</td>\n",
       "      <td>0.0</td>\n",
       "      <td>50392.0</td>\n",
       "    </tr>\n",
       "    <tr>\n",
       "      <th>1</th>\n",
       "      <td>0.0</td>\n",
       "      <td>0.0</td>\n",
       "      <td>0.0</td>\n",
       "      <td>1.0</td>\n",
       "      <td>0.0</td>\n",
       "      <td>0.0</td>\n",
       "      <td>0.0</td>\n",
       "      <td>0.0</td>\n",
       "      <td>0.0</td>\n",
       "      <td>0.0</td>\n",
       "      <td>...</td>\n",
       "      <td>0.0</td>\n",
       "      <td>0.0</td>\n",
       "      <td>0.0</td>\n",
       "      <td>0.0</td>\n",
       "      <td>1.0</td>\n",
       "      <td>0.0</td>\n",
       "      <td>0.0</td>\n",
       "      <td>0.0</td>\n",
       "      <td>0.0</td>\n",
       "      <td>50392.0</td>\n",
       "    </tr>\n",
       "    <tr>\n",
       "      <th>2</th>\n",
       "      <td>0.0</td>\n",
       "      <td>1.0</td>\n",
       "      <td>0.0</td>\n",
       "      <td>0.0</td>\n",
       "      <td>0.0</td>\n",
       "      <td>0.0</td>\n",
       "      <td>0.0</td>\n",
       "      <td>0.0</td>\n",
       "      <td>0.0</td>\n",
       "      <td>0.0</td>\n",
       "      <td>...</td>\n",
       "      <td>0.0</td>\n",
       "      <td>0.0</td>\n",
       "      <td>0.0</td>\n",
       "      <td>0.0</td>\n",
       "      <td>1.0</td>\n",
       "      <td>0.0</td>\n",
       "      <td>0.0</td>\n",
       "      <td>0.0</td>\n",
       "      <td>0.0</td>\n",
       "      <td>50392.0</td>\n",
       "    </tr>\n",
       "    <tr>\n",
       "      <th>3</th>\n",
       "      <td>0.0</td>\n",
       "      <td>0.0</td>\n",
       "      <td>1.0</td>\n",
       "      <td>0.0</td>\n",
       "      <td>0.0</td>\n",
       "      <td>0.0</td>\n",
       "      <td>0.0</td>\n",
       "      <td>0.0</td>\n",
       "      <td>0.0</td>\n",
       "      <td>0.0</td>\n",
       "      <td>...</td>\n",
       "      <td>0.0</td>\n",
       "      <td>0.0</td>\n",
       "      <td>0.0</td>\n",
       "      <td>0.0</td>\n",
       "      <td>1.0</td>\n",
       "      <td>0.0</td>\n",
       "      <td>0.0</td>\n",
       "      <td>0.0</td>\n",
       "      <td>0.0</td>\n",
       "      <td>50392.0</td>\n",
       "    </tr>\n",
       "    <tr>\n",
       "      <th>4</th>\n",
       "      <td>1.0</td>\n",
       "      <td>0.0</td>\n",
       "      <td>0.0</td>\n",
       "      <td>0.0</td>\n",
       "      <td>0.0</td>\n",
       "      <td>0.0</td>\n",
       "      <td>0.0</td>\n",
       "      <td>0.0</td>\n",
       "      <td>0.0</td>\n",
       "      <td>0.0</td>\n",
       "      <td>...</td>\n",
       "      <td>0.0</td>\n",
       "      <td>0.0</td>\n",
       "      <td>0.0</td>\n",
       "      <td>0.0</td>\n",
       "      <td>1.0</td>\n",
       "      <td>0.0</td>\n",
       "      <td>0.0</td>\n",
       "      <td>0.0</td>\n",
       "      <td>0.0</td>\n",
       "      <td>50392.0</td>\n",
       "    </tr>\n",
       "  </tbody>\n",
       "</table>\n",
       "<p>5 rows × 311 columns</p>\n",
       "</div>"
      ],
      "text/plain": [
       "   priority_1.0  priority_2.0  priority_3.0  priority_4.0  priority_5.0  \\\n",
       "0           1.0           0.0           0.0           0.0           0.0   \n",
       "1           0.0           0.0           0.0           1.0           0.0   \n",
       "2           0.0           1.0           0.0           0.0           0.0   \n",
       "3           0.0           0.0           1.0           0.0           0.0   \n",
       "4           1.0           0.0           0.0           0.0           0.0   \n",
       "\n",
       "   priority_6-25  CCS_code_1.0  CCS_code_10.0  CCS_code_100.0  CCS_code_101.0  \\\n",
       "0            0.0           0.0            0.0             0.0             0.0   \n",
       "1            0.0           0.0            0.0             0.0             0.0   \n",
       "2            0.0           0.0            0.0             0.0             0.0   \n",
       "3            0.0           0.0            0.0             0.0             0.0   \n",
       "4            0.0           0.0            0.0             0.0             0.0   \n",
       "\n",
       "   ...  PLACE_OF_SERVICE_98  PLACE_OF_SERVICE_99  \\\n",
       "0  ...                  0.0                  0.0   \n",
       "1  ...                  0.0                  0.0   \n",
       "2  ...                  0.0                  0.0   \n",
       "3  ...                  0.0                  0.0   \n",
       "4  ...                  0.0                  0.0   \n",
       "\n",
       "   ADMISSION_DATE_bin_cut_(0, 100]  ADMISSION_DATE_bin_cut_(100, 200]  \\\n",
       "0                              0.0                                0.0   \n",
       "1                              0.0                                0.0   \n",
       "2                              0.0                                0.0   \n",
       "3                              0.0                                0.0   \n",
       "4                              0.0                                0.0   \n",
       "\n",
       "   ADMISSION_DATE_bin_cut_(200, 300]  ADMISSION_DATE_bin_cut_(300, 400]  \\\n",
       "0                                1.0                                0.0   \n",
       "1                                1.0                                0.0   \n",
       "2                                1.0                                0.0   \n",
       "3                                1.0                                0.0   \n",
       "4                                1.0                                0.0   \n",
       "\n",
       "   ADMISSION_DATE_bin_cut_(400, 500]  ADMISSION_DATE_bin_cut_(500, 600]  \\\n",
       "0                                0.0                                0.0   \n",
       "1                                0.0                                0.0   \n",
       "2                                0.0                                0.0   \n",
       "3                                0.0                                0.0   \n",
       "4                                0.0                                0.0   \n",
       "\n",
       "   ADMISSION_DATE_bin_cut_nan  PATIENT_ID  \n",
       "0                         0.0     50392.0  \n",
       "1                         0.0     50392.0  \n",
       "2                         0.0     50392.0  \n",
       "3                         0.0     50392.0  \n",
       "4                         0.0     50392.0  \n",
       "\n",
       "[5 rows x 311 columns]"
      ]
     },
     "execution_count": 34,
     "metadata": {},
     "output_type": "execute_result"
    }
   ],
   "source": [
    "# rename the one-hot encoded columns \n",
    "transformed_dc_df.columns = transformed_dc_df.columns.str.replace(r\"onehotencoder__x0\", \"priority\")\n",
    "transformed_dc_df.columns = transformed_dc_df.columns.str.replace(r\"onehotencoder__x1\", \"CCS_code\")\n",
    "transformed_dc_df.columns = transformed_dc_df.columns.str.replace(r\"onehotencoder__x2\", \"PLACE_OF_SERVICE\")\n",
    "transformed_dc_df.columns = transformed_dc_df.columns.str.replace(r\"onehotencoder__x3\", \"ADMISSION_DATE_bin_cut\")\n",
    "\n",
    "transformed_dc_df.head()"
   ]
  },
  {
   "cell_type": "code",
   "execution_count": 35,
   "id": "a7fa003a",
   "metadata": {},
   "outputs": [
    {
     "data": {
      "text/html": [
       "<div>\n",
       "<style scoped>\n",
       "    .dataframe tbody tr th:only-of-type {\n",
       "        vertical-align: middle;\n",
       "    }\n",
       "\n",
       "    .dataframe tbody tr th {\n",
       "        vertical-align: top;\n",
       "    }\n",
       "\n",
       "    .dataframe thead th {\n",
       "        text-align: right;\n",
       "    }\n",
       "</style>\n",
       "<table border=\"1\" class=\"dataframe\">\n",
       "  <thead>\n",
       "    <tr style=\"text-align: right;\">\n",
       "      <th></th>\n",
       "      <th>priority_1.0</th>\n",
       "      <th>priority_2.0</th>\n",
       "      <th>priority_3.0</th>\n",
       "      <th>priority_4.0</th>\n",
       "      <th>priority_5.0</th>\n",
       "      <th>priority_6-25</th>\n",
       "      <th>CCS_code_1.0</th>\n",
       "      <th>CCS_code_10.0</th>\n",
       "      <th>CCS_code_100.0</th>\n",
       "      <th>CCS_code_101.0</th>\n",
       "      <th>...</th>\n",
       "      <th>PLACE_OF_SERVICE_98</th>\n",
       "      <th>PLACE_OF_SERVICE_99</th>\n",
       "      <th>ADMISSION_DATE_bin_cut_(0, 100]</th>\n",
       "      <th>ADMISSION_DATE_bin_cut_(100, 200]</th>\n",
       "      <th>ADMISSION_DATE_bin_cut_(200, 300]</th>\n",
       "      <th>ADMISSION_DATE_bin_cut_(300, 400]</th>\n",
       "      <th>ADMISSION_DATE_bin_cut_(400, 500]</th>\n",
       "      <th>ADMISSION_DATE_bin_cut_(500, 600]</th>\n",
       "      <th>ADMISSION_DATE_bin_cut_0</th>\n",
       "      <th>PATIENT_ID</th>\n",
       "    </tr>\n",
       "  </thead>\n",
       "  <tbody>\n",
       "    <tr>\n",
       "      <th>0</th>\n",
       "      <td>1.0</td>\n",
       "      <td>0.0</td>\n",
       "      <td>0.0</td>\n",
       "      <td>0.0</td>\n",
       "      <td>0.0</td>\n",
       "      <td>0.0</td>\n",
       "      <td>0.0</td>\n",
       "      <td>0.0</td>\n",
       "      <td>0.0</td>\n",
       "      <td>0.0</td>\n",
       "      <td>...</td>\n",
       "      <td>0.0</td>\n",
       "      <td>0.0</td>\n",
       "      <td>0.0</td>\n",
       "      <td>0.0</td>\n",
       "      <td>1.0</td>\n",
       "      <td>0.0</td>\n",
       "      <td>0.0</td>\n",
       "      <td>0.0</td>\n",
       "      <td>0.0</td>\n",
       "      <td>50392.0</td>\n",
       "    </tr>\n",
       "    <tr>\n",
       "      <th>1</th>\n",
       "      <td>0.0</td>\n",
       "      <td>0.0</td>\n",
       "      <td>0.0</td>\n",
       "      <td>1.0</td>\n",
       "      <td>0.0</td>\n",
       "      <td>0.0</td>\n",
       "      <td>0.0</td>\n",
       "      <td>0.0</td>\n",
       "      <td>0.0</td>\n",
       "      <td>0.0</td>\n",
       "      <td>...</td>\n",
       "      <td>0.0</td>\n",
       "      <td>0.0</td>\n",
       "      <td>0.0</td>\n",
       "      <td>0.0</td>\n",
       "      <td>1.0</td>\n",
       "      <td>0.0</td>\n",
       "      <td>0.0</td>\n",
       "      <td>0.0</td>\n",
       "      <td>0.0</td>\n",
       "      <td>50392.0</td>\n",
       "    </tr>\n",
       "    <tr>\n",
       "      <th>2</th>\n",
       "      <td>0.0</td>\n",
       "      <td>1.0</td>\n",
       "      <td>0.0</td>\n",
       "      <td>0.0</td>\n",
       "      <td>0.0</td>\n",
       "      <td>0.0</td>\n",
       "      <td>0.0</td>\n",
       "      <td>0.0</td>\n",
       "      <td>0.0</td>\n",
       "      <td>0.0</td>\n",
       "      <td>...</td>\n",
       "      <td>0.0</td>\n",
       "      <td>0.0</td>\n",
       "      <td>0.0</td>\n",
       "      <td>0.0</td>\n",
       "      <td>1.0</td>\n",
       "      <td>0.0</td>\n",
       "      <td>0.0</td>\n",
       "      <td>0.0</td>\n",
       "      <td>0.0</td>\n",
       "      <td>50392.0</td>\n",
       "    </tr>\n",
       "    <tr>\n",
       "      <th>3</th>\n",
       "      <td>0.0</td>\n",
       "      <td>0.0</td>\n",
       "      <td>1.0</td>\n",
       "      <td>0.0</td>\n",
       "      <td>0.0</td>\n",
       "      <td>0.0</td>\n",
       "      <td>0.0</td>\n",
       "      <td>0.0</td>\n",
       "      <td>0.0</td>\n",
       "      <td>0.0</td>\n",
       "      <td>...</td>\n",
       "      <td>0.0</td>\n",
       "      <td>0.0</td>\n",
       "      <td>0.0</td>\n",
       "      <td>0.0</td>\n",
       "      <td>1.0</td>\n",
       "      <td>0.0</td>\n",
       "      <td>0.0</td>\n",
       "      <td>0.0</td>\n",
       "      <td>0.0</td>\n",
       "      <td>50392.0</td>\n",
       "    </tr>\n",
       "    <tr>\n",
       "      <th>4</th>\n",
       "      <td>1.0</td>\n",
       "      <td>0.0</td>\n",
       "      <td>0.0</td>\n",
       "      <td>0.0</td>\n",
       "      <td>0.0</td>\n",
       "      <td>0.0</td>\n",
       "      <td>0.0</td>\n",
       "      <td>0.0</td>\n",
       "      <td>0.0</td>\n",
       "      <td>0.0</td>\n",
       "      <td>...</td>\n",
       "      <td>0.0</td>\n",
       "      <td>0.0</td>\n",
       "      <td>0.0</td>\n",
       "      <td>0.0</td>\n",
       "      <td>1.0</td>\n",
       "      <td>0.0</td>\n",
       "      <td>0.0</td>\n",
       "      <td>0.0</td>\n",
       "      <td>0.0</td>\n",
       "      <td>50392.0</td>\n",
       "    </tr>\n",
       "  </tbody>\n",
       "</table>\n",
       "<p>5 rows × 311 columns</p>\n",
       "</div>"
      ],
      "text/plain": [
       "   priority_1.0  priority_2.0  priority_3.0  priority_4.0  priority_5.0  \\\n",
       "0           1.0           0.0           0.0           0.0           0.0   \n",
       "1           0.0           0.0           0.0           1.0           0.0   \n",
       "2           0.0           1.0           0.0           0.0           0.0   \n",
       "3           0.0           0.0           1.0           0.0           0.0   \n",
       "4           1.0           0.0           0.0           0.0           0.0   \n",
       "\n",
       "   priority_6-25  CCS_code_1.0  CCS_code_10.0  CCS_code_100.0  CCS_code_101.0  \\\n",
       "0            0.0           0.0            0.0             0.0             0.0   \n",
       "1            0.0           0.0            0.0             0.0             0.0   \n",
       "2            0.0           0.0            0.0             0.0             0.0   \n",
       "3            0.0           0.0            0.0             0.0             0.0   \n",
       "4            0.0           0.0            0.0             0.0             0.0   \n",
       "\n",
       "   ...  PLACE_OF_SERVICE_98  PLACE_OF_SERVICE_99  \\\n",
       "0  ...                  0.0                  0.0   \n",
       "1  ...                  0.0                  0.0   \n",
       "2  ...                  0.0                  0.0   \n",
       "3  ...                  0.0                  0.0   \n",
       "4  ...                  0.0                  0.0   \n",
       "\n",
       "   ADMISSION_DATE_bin_cut_(0, 100]  ADMISSION_DATE_bin_cut_(100, 200]  \\\n",
       "0                              0.0                                0.0   \n",
       "1                              0.0                                0.0   \n",
       "2                              0.0                                0.0   \n",
       "3                              0.0                                0.0   \n",
       "4                              0.0                                0.0   \n",
       "\n",
       "   ADMISSION_DATE_bin_cut_(200, 300]  ADMISSION_DATE_bin_cut_(300, 400]  \\\n",
       "0                                1.0                                0.0   \n",
       "1                                1.0                                0.0   \n",
       "2                                1.0                                0.0   \n",
       "3                                1.0                                0.0   \n",
       "4                                1.0                                0.0   \n",
       "\n",
       "   ADMISSION_DATE_bin_cut_(400, 500]  ADMISSION_DATE_bin_cut_(500, 600]  \\\n",
       "0                                0.0                                0.0   \n",
       "1                                0.0                                0.0   \n",
       "2                                0.0                                0.0   \n",
       "3                                0.0                                0.0   \n",
       "4                                0.0                                0.0   \n",
       "\n",
       "   ADMISSION_DATE_bin_cut_0  PATIENT_ID  \n",
       "0                       0.0     50392.0  \n",
       "1                       0.0     50392.0  \n",
       "2                       0.0     50392.0  \n",
       "3                       0.0     50392.0  \n",
       "4                       0.0     50392.0  \n",
       "\n",
       "[5 rows x 311 columns]"
      ]
     },
     "execution_count": 35,
     "metadata": {},
     "output_type": "execute_result"
    }
   ],
   "source": [
    "# ADMISSION_DATE_bin_cut_nan represents admission date 0, so rename\n",
    "transformed_dc_df.columns = transformed_dc_df.columns.str.replace(r\"nan\", \"0\")\n",
    "transformed_dc_df.head()"
   ]
  },
  {
   "cell_type": "code",
   "execution_count": 40,
   "id": "a6f15617",
   "metadata": {},
   "outputs": [
    {
     "data": {
      "text/html": [
       "<div>\n",
       "<style scoped>\n",
       "    .dataframe tbody tr th:only-of-type {\n",
       "        vertical-align: middle;\n",
       "    }\n",
       "\n",
       "    .dataframe tbody tr th {\n",
       "        vertical-align: top;\n",
       "    }\n",
       "\n",
       "    .dataframe thead th {\n",
       "        text-align: right;\n",
       "    }\n",
       "</style>\n",
       "<table border=\"1\" class=\"dataframe\">\n",
       "  <thead>\n",
       "    <tr style=\"text-align: right;\">\n",
       "      <th></th>\n",
       "      <th>priority_1.0</th>\n",
       "      <th>priority_2.0</th>\n",
       "      <th>priority_3.0</th>\n",
       "      <th>priority_4.0</th>\n",
       "      <th>priority_5.0</th>\n",
       "      <th>priority_6-25</th>\n",
       "      <th>CCS_code_1.0</th>\n",
       "      <th>CCS_code_10.0</th>\n",
       "      <th>CCS_code_100.0</th>\n",
       "      <th>CCS_code_101.0</th>\n",
       "      <th>...</th>\n",
       "      <th>PLACE_OF_SERVICE_98</th>\n",
       "      <th>PLACE_OF_SERVICE_99</th>\n",
       "      <th>ADMISSION_DATE_bin_cut_(0, 100]</th>\n",
       "      <th>ADMISSION_DATE_bin_cut_(100, 200]</th>\n",
       "      <th>ADMISSION_DATE_bin_cut_(200, 300]</th>\n",
       "      <th>ADMISSION_DATE_bin_cut_(300, 400]</th>\n",
       "      <th>ADMISSION_DATE_bin_cut_(400, 500]</th>\n",
       "      <th>ADMISSION_DATE_bin_cut_(500, 600]</th>\n",
       "      <th>ADMISSION_DATE_bin_cut_0</th>\n",
       "      <th>PATIENT_ID</th>\n",
       "    </tr>\n",
       "  </thead>\n",
       "  <tbody>\n",
       "    <tr>\n",
       "      <th>0</th>\n",
       "      <td>1.0</td>\n",
       "      <td>0.0</td>\n",
       "      <td>0.0</td>\n",
       "      <td>0.0</td>\n",
       "      <td>0.0</td>\n",
       "      <td>0.0</td>\n",
       "      <td>0.0</td>\n",
       "      <td>0.0</td>\n",
       "      <td>0.0</td>\n",
       "      <td>0.0</td>\n",
       "      <td>...</td>\n",
       "      <td>0.0</td>\n",
       "      <td>0.0</td>\n",
       "      <td>0.0</td>\n",
       "      <td>0.0</td>\n",
       "      <td>1.0</td>\n",
       "      <td>0.0</td>\n",
       "      <td>0.0</td>\n",
       "      <td>0.0</td>\n",
       "      <td>0.0</td>\n",
       "      <td>50392.0</td>\n",
       "    </tr>\n",
       "    <tr>\n",
       "      <th>1</th>\n",
       "      <td>0.0</td>\n",
       "      <td>0.0</td>\n",
       "      <td>0.0</td>\n",
       "      <td>1.0</td>\n",
       "      <td>0.0</td>\n",
       "      <td>0.0</td>\n",
       "      <td>0.0</td>\n",
       "      <td>0.0</td>\n",
       "      <td>0.0</td>\n",
       "      <td>0.0</td>\n",
       "      <td>...</td>\n",
       "      <td>0.0</td>\n",
       "      <td>0.0</td>\n",
       "      <td>0.0</td>\n",
       "      <td>0.0</td>\n",
       "      <td>1.0</td>\n",
       "      <td>0.0</td>\n",
       "      <td>0.0</td>\n",
       "      <td>0.0</td>\n",
       "      <td>0.0</td>\n",
       "      <td>50392.0</td>\n",
       "    </tr>\n",
       "    <tr>\n",
       "      <th>2</th>\n",
       "      <td>0.0</td>\n",
       "      <td>1.0</td>\n",
       "      <td>0.0</td>\n",
       "      <td>0.0</td>\n",
       "      <td>0.0</td>\n",
       "      <td>0.0</td>\n",
       "      <td>0.0</td>\n",
       "      <td>0.0</td>\n",
       "      <td>0.0</td>\n",
       "      <td>0.0</td>\n",
       "      <td>...</td>\n",
       "      <td>0.0</td>\n",
       "      <td>0.0</td>\n",
       "      <td>0.0</td>\n",
       "      <td>0.0</td>\n",
       "      <td>1.0</td>\n",
       "      <td>0.0</td>\n",
       "      <td>0.0</td>\n",
       "      <td>0.0</td>\n",
       "      <td>0.0</td>\n",
       "      <td>50392.0</td>\n",
       "    </tr>\n",
       "    <tr>\n",
       "      <th>3</th>\n",
       "      <td>0.0</td>\n",
       "      <td>0.0</td>\n",
       "      <td>1.0</td>\n",
       "      <td>0.0</td>\n",
       "      <td>0.0</td>\n",
       "      <td>0.0</td>\n",
       "      <td>0.0</td>\n",
       "      <td>0.0</td>\n",
       "      <td>0.0</td>\n",
       "      <td>0.0</td>\n",
       "      <td>...</td>\n",
       "      <td>0.0</td>\n",
       "      <td>0.0</td>\n",
       "      <td>0.0</td>\n",
       "      <td>0.0</td>\n",
       "      <td>1.0</td>\n",
       "      <td>0.0</td>\n",
       "      <td>0.0</td>\n",
       "      <td>0.0</td>\n",
       "      <td>0.0</td>\n",
       "      <td>50392.0</td>\n",
       "    </tr>\n",
       "    <tr>\n",
       "      <th>4</th>\n",
       "      <td>1.0</td>\n",
       "      <td>0.0</td>\n",
       "      <td>0.0</td>\n",
       "      <td>0.0</td>\n",
       "      <td>0.0</td>\n",
       "      <td>0.0</td>\n",
       "      <td>0.0</td>\n",
       "      <td>0.0</td>\n",
       "      <td>0.0</td>\n",
       "      <td>0.0</td>\n",
       "      <td>...</td>\n",
       "      <td>0.0</td>\n",
       "      <td>0.0</td>\n",
       "      <td>0.0</td>\n",
       "      <td>0.0</td>\n",
       "      <td>1.0</td>\n",
       "      <td>0.0</td>\n",
       "      <td>0.0</td>\n",
       "      <td>0.0</td>\n",
       "      <td>0.0</td>\n",
       "      <td>50392.0</td>\n",
       "    </tr>\n",
       "    <tr>\n",
       "      <th>...</th>\n",
       "      <td>...</td>\n",
       "      <td>...</td>\n",
       "      <td>...</td>\n",
       "      <td>...</td>\n",
       "      <td>...</td>\n",
       "      <td>...</td>\n",
       "      <td>...</td>\n",
       "      <td>...</td>\n",
       "      <td>...</td>\n",
       "      <td>...</td>\n",
       "      <td>...</td>\n",
       "      <td>...</td>\n",
       "      <td>...</td>\n",
       "      <td>...</td>\n",
       "      <td>...</td>\n",
       "      <td>...</td>\n",
       "      <td>...</td>\n",
       "      <td>...</td>\n",
       "      <td>...</td>\n",
       "      <td>...</td>\n",
       "      <td>...</td>\n",
       "    </tr>\n",
       "    <tr>\n",
       "      <th>9547885</th>\n",
       "      <td>0.0</td>\n",
       "      <td>0.0</td>\n",
       "      <td>1.0</td>\n",
       "      <td>0.0</td>\n",
       "      <td>0.0</td>\n",
       "      <td>0.0</td>\n",
       "      <td>0.0</td>\n",
       "      <td>0.0</td>\n",
       "      <td>0.0</td>\n",
       "      <td>0.0</td>\n",
       "      <td>...</td>\n",
       "      <td>0.0</td>\n",
       "      <td>0.0</td>\n",
       "      <td>0.0</td>\n",
       "      <td>1.0</td>\n",
       "      <td>0.0</td>\n",
       "      <td>0.0</td>\n",
       "      <td>0.0</td>\n",
       "      <td>0.0</td>\n",
       "      <td>0.0</td>\n",
       "      <td>38048.0</td>\n",
       "    </tr>\n",
       "    <tr>\n",
       "      <th>9547886</th>\n",
       "      <td>1.0</td>\n",
       "      <td>0.0</td>\n",
       "      <td>0.0</td>\n",
       "      <td>0.0</td>\n",
       "      <td>0.0</td>\n",
       "      <td>0.0</td>\n",
       "      <td>0.0</td>\n",
       "      <td>0.0</td>\n",
       "      <td>0.0</td>\n",
       "      <td>0.0</td>\n",
       "      <td>...</td>\n",
       "      <td>0.0</td>\n",
       "      <td>0.0</td>\n",
       "      <td>0.0</td>\n",
       "      <td>1.0</td>\n",
       "      <td>0.0</td>\n",
       "      <td>0.0</td>\n",
       "      <td>0.0</td>\n",
       "      <td>0.0</td>\n",
       "      <td>0.0</td>\n",
       "      <td>38048.0</td>\n",
       "    </tr>\n",
       "    <tr>\n",
       "      <th>9547887</th>\n",
       "      <td>0.0</td>\n",
       "      <td>1.0</td>\n",
       "      <td>0.0</td>\n",
       "      <td>0.0</td>\n",
       "      <td>0.0</td>\n",
       "      <td>0.0</td>\n",
       "      <td>0.0</td>\n",
       "      <td>0.0</td>\n",
       "      <td>0.0</td>\n",
       "      <td>0.0</td>\n",
       "      <td>...</td>\n",
       "      <td>0.0</td>\n",
       "      <td>0.0</td>\n",
       "      <td>0.0</td>\n",
       "      <td>1.0</td>\n",
       "      <td>0.0</td>\n",
       "      <td>0.0</td>\n",
       "      <td>0.0</td>\n",
       "      <td>0.0</td>\n",
       "      <td>0.0</td>\n",
       "      <td>38048.0</td>\n",
       "    </tr>\n",
       "    <tr>\n",
       "      <th>9547888</th>\n",
       "      <td>1.0</td>\n",
       "      <td>0.0</td>\n",
       "      <td>0.0</td>\n",
       "      <td>0.0</td>\n",
       "      <td>0.0</td>\n",
       "      <td>0.0</td>\n",
       "      <td>0.0</td>\n",
       "      <td>0.0</td>\n",
       "      <td>0.0</td>\n",
       "      <td>0.0</td>\n",
       "      <td>...</td>\n",
       "      <td>0.0</td>\n",
       "      <td>0.0</td>\n",
       "      <td>0.0</td>\n",
       "      <td>0.0</td>\n",
       "      <td>1.0</td>\n",
       "      <td>0.0</td>\n",
       "      <td>0.0</td>\n",
       "      <td>0.0</td>\n",
       "      <td>0.0</td>\n",
       "      <td>99403.0</td>\n",
       "    </tr>\n",
       "    <tr>\n",
       "      <th>9547889</th>\n",
       "      <td>1.0</td>\n",
       "      <td>0.0</td>\n",
       "      <td>0.0</td>\n",
       "      <td>0.0</td>\n",
       "      <td>0.0</td>\n",
       "      <td>0.0</td>\n",
       "      <td>0.0</td>\n",
       "      <td>0.0</td>\n",
       "      <td>0.0</td>\n",
       "      <td>0.0</td>\n",
       "      <td>...</td>\n",
       "      <td>0.0</td>\n",
       "      <td>0.0</td>\n",
       "      <td>0.0</td>\n",
       "      <td>1.0</td>\n",
       "      <td>0.0</td>\n",
       "      <td>0.0</td>\n",
       "      <td>0.0</td>\n",
       "      <td>0.0</td>\n",
       "      <td>0.0</td>\n",
       "      <td>87169.0</td>\n",
       "    </tr>\n",
       "  </tbody>\n",
       "</table>\n",
       "<p>9547890 rows × 311 columns</p>\n",
       "</div>"
      ],
      "text/plain": [
       "         priority_1.0  priority_2.0  priority_3.0  priority_4.0  priority_5.0  \\\n",
       "0                 1.0           0.0           0.0           0.0           0.0   \n",
       "1                 0.0           0.0           0.0           1.0           0.0   \n",
       "2                 0.0           1.0           0.0           0.0           0.0   \n",
       "3                 0.0           0.0           1.0           0.0           0.0   \n",
       "4                 1.0           0.0           0.0           0.0           0.0   \n",
       "...               ...           ...           ...           ...           ...   \n",
       "9547885           0.0           0.0           1.0           0.0           0.0   \n",
       "9547886           1.0           0.0           0.0           0.0           0.0   \n",
       "9547887           0.0           1.0           0.0           0.0           0.0   \n",
       "9547888           1.0           0.0           0.0           0.0           0.0   \n",
       "9547889           1.0           0.0           0.0           0.0           0.0   \n",
       "\n",
       "         priority_6-25  CCS_code_1.0  CCS_code_10.0  CCS_code_100.0  \\\n",
       "0                  0.0           0.0            0.0             0.0   \n",
       "1                  0.0           0.0            0.0             0.0   \n",
       "2                  0.0           0.0            0.0             0.0   \n",
       "3                  0.0           0.0            0.0             0.0   \n",
       "4                  0.0           0.0            0.0             0.0   \n",
       "...                ...           ...            ...             ...   \n",
       "9547885            0.0           0.0            0.0             0.0   \n",
       "9547886            0.0           0.0            0.0             0.0   \n",
       "9547887            0.0           0.0            0.0             0.0   \n",
       "9547888            0.0           0.0            0.0             0.0   \n",
       "9547889            0.0           0.0            0.0             0.0   \n",
       "\n",
       "         CCS_code_101.0  ...  PLACE_OF_SERVICE_98  PLACE_OF_SERVICE_99  \\\n",
       "0                   0.0  ...                  0.0                  0.0   \n",
       "1                   0.0  ...                  0.0                  0.0   \n",
       "2                   0.0  ...                  0.0                  0.0   \n",
       "3                   0.0  ...                  0.0                  0.0   \n",
       "4                   0.0  ...                  0.0                  0.0   \n",
       "...                 ...  ...                  ...                  ...   \n",
       "9547885             0.0  ...                  0.0                  0.0   \n",
       "9547886             0.0  ...                  0.0                  0.0   \n",
       "9547887             0.0  ...                  0.0                  0.0   \n",
       "9547888             0.0  ...                  0.0                  0.0   \n",
       "9547889             0.0  ...                  0.0                  0.0   \n",
       "\n",
       "         ADMISSION_DATE_bin_cut_(0, 100]  ADMISSION_DATE_bin_cut_(100, 200]  \\\n",
       "0                                    0.0                                0.0   \n",
       "1                                    0.0                                0.0   \n",
       "2                                    0.0                                0.0   \n",
       "3                                    0.0                                0.0   \n",
       "4                                    0.0                                0.0   \n",
       "...                                  ...                                ...   \n",
       "9547885                              0.0                                1.0   \n",
       "9547886                              0.0                                1.0   \n",
       "9547887                              0.0                                1.0   \n",
       "9547888                              0.0                                0.0   \n",
       "9547889                              0.0                                1.0   \n",
       "\n",
       "         ADMISSION_DATE_bin_cut_(200, 300]  ADMISSION_DATE_bin_cut_(300, 400]  \\\n",
       "0                                      1.0                                0.0   \n",
       "1                                      1.0                                0.0   \n",
       "2                                      1.0                                0.0   \n",
       "3                                      1.0                                0.0   \n",
       "4                                      1.0                                0.0   \n",
       "...                                    ...                                ...   \n",
       "9547885                                0.0                                0.0   \n",
       "9547886                                0.0                                0.0   \n",
       "9547887                                0.0                                0.0   \n",
       "9547888                                1.0                                0.0   \n",
       "9547889                                0.0                                0.0   \n",
       "\n",
       "         ADMISSION_DATE_bin_cut_(400, 500]  ADMISSION_DATE_bin_cut_(500, 600]  \\\n",
       "0                                      0.0                                0.0   \n",
       "1                                      0.0                                0.0   \n",
       "2                                      0.0                                0.0   \n",
       "3                                      0.0                                0.0   \n",
       "4                                      0.0                                0.0   \n",
       "...                                    ...                                ...   \n",
       "9547885                                0.0                                0.0   \n",
       "9547886                                0.0                                0.0   \n",
       "9547887                                0.0                                0.0   \n",
       "9547888                                0.0                                0.0   \n",
       "9547889                                0.0                                0.0   \n",
       "\n",
       "         ADMISSION_DATE_bin_cut_0  PATIENT_ID  \n",
       "0                             0.0     50392.0  \n",
       "1                             0.0     50392.0  \n",
       "2                             0.0     50392.0  \n",
       "3                             0.0     50392.0  \n",
       "4                             0.0     50392.0  \n",
       "...                           ...         ...  \n",
       "9547885                       0.0     38048.0  \n",
       "9547886                       0.0     38048.0  \n",
       "9547887                       0.0     38048.0  \n",
       "9547888                       0.0     99403.0  \n",
       "9547889                       0.0     87169.0  \n",
       "\n",
       "[9547890 rows x 311 columns]"
      ]
     },
     "execution_count": 40,
     "metadata": {},
     "output_type": "execute_result"
    }
   ],
   "source": [
    "transformed_dc_df"
   ]
  },
  {
   "cell_type": "code",
   "execution_count": 41,
   "id": "bb99ab1c",
   "metadata": {},
   "outputs": [
    {
     "data": {
      "text/plain": [
       "PATIENT_ID\n",
       "0.0        0.0\n",
       "1.0        0.0\n",
       "2.0        0.0\n",
       "3.0        0.0\n",
       "4.0        0.0\n",
       "          ... \n",
       "99995.0    0.0\n",
       "99996.0    0.0\n",
       "99997.0    0.0\n",
       "99998.0    0.0\n",
       "99999.0    0.0\n",
       "Name: ADMISSION_DATE_bin_cut_0, Length: 99990, dtype: Sparse[float64, 0]"
      ]
     },
     "execution_count": 41,
     "metadata": {},
     "output_type": "execute_result"
    }
   ],
   "source": [
    "transformed_dc_df.groupby('PATIENT_ID').ADMISSION_DATE_bin_cut_0.agg('sum')"
   ]
  },
  {
   "cell_type": "code",
   "execution_count": 42,
   "id": "4887252e",
   "metadata": {},
   "outputs": [
    {
     "ename": "KeyboardInterrupt",
     "evalue": "",
     "output_type": "error",
     "traceback": [
      "\u001b[0;31m---------------------------------------------------------------------------\u001b[0m",
      "\u001b[0;31mNotImplementedError\u001b[0m                       Traceback (most recent call last)",
      "\u001b[0;32m~/opt/anaconda3/lib/python3.9/site-packages/pandas/core/groupby/generic.py\u001b[0m in \u001b[0;36marray_func\u001b[0;34m(values)\u001b[0m\n\u001b[1;32m   1067\u001b[0m             \u001b[0;32mtry\u001b[0m\u001b[0;34m:\u001b[0m\u001b[0;34m\u001b[0m\u001b[0;34m\u001b[0m\u001b[0m\n\u001b[0;32m-> 1068\u001b[0;31m                 result = self.grouper._cython_operation(\n\u001b[0m\u001b[1;32m   1069\u001b[0m                     \u001b[0;34m\"aggregate\"\u001b[0m\u001b[0;34m,\u001b[0m \u001b[0mvalues\u001b[0m\u001b[0;34m,\u001b[0m \u001b[0mhow\u001b[0m\u001b[0;34m,\u001b[0m \u001b[0maxis\u001b[0m\u001b[0;34m=\u001b[0m\u001b[0mdata\u001b[0m\u001b[0;34m.\u001b[0m\u001b[0mndim\u001b[0m \u001b[0;34m-\u001b[0m \u001b[0;36m1\u001b[0m\u001b[0;34m,\u001b[0m \u001b[0mmin_count\u001b[0m\u001b[0;34m=\u001b[0m\u001b[0mmin_count\u001b[0m\u001b[0;34m\u001b[0m\u001b[0;34m\u001b[0m\u001b[0m\n",
      "\u001b[0;32m~/opt/anaconda3/lib/python3.9/site-packages/pandas/core/groupby/ops.py\u001b[0m in \u001b[0;36m_cython_operation\u001b[0;34m(self, kind, values, how, axis, min_count, **kwargs)\u001b[0m\n\u001b[1;32m    998\u001b[0m         \u001b[0mngroups\u001b[0m \u001b[0;34m=\u001b[0m \u001b[0mself\u001b[0m\u001b[0;34m.\u001b[0m\u001b[0mngroups\u001b[0m\u001b[0;34m\u001b[0m\u001b[0;34m\u001b[0m\u001b[0m\n\u001b[0;32m--> 999\u001b[0;31m         return cy_op.cython_operation(\n\u001b[0m\u001b[1;32m   1000\u001b[0m             \u001b[0mvalues\u001b[0m\u001b[0;34m=\u001b[0m\u001b[0mvalues\u001b[0m\u001b[0;34m,\u001b[0m\u001b[0;34m\u001b[0m\u001b[0;34m\u001b[0m\u001b[0m\n",
      "\u001b[0;32m~/opt/anaconda3/lib/python3.9/site-packages/pandas/core/groupby/ops.py\u001b[0m in \u001b[0;36mcython_operation\u001b[0;34m(self, values, axis, min_count, comp_ids, ngroups, **kwargs)\u001b[0m\n\u001b[1;32m    651\u001b[0m             \u001b[0;31m# i.e. ExtensionArray\u001b[0m\u001b[0;34m\u001b[0m\u001b[0;34m\u001b[0m\u001b[0m\n\u001b[0;32m--> 652\u001b[0;31m             return self._ea_wrap_cython_operation(\n\u001b[0m\u001b[1;32m    653\u001b[0m                 \u001b[0mvalues\u001b[0m\u001b[0;34m,\u001b[0m\u001b[0;34m\u001b[0m\u001b[0;34m\u001b[0m\u001b[0m\n",
      "\u001b[0;32m~/opt/anaconda3/lib/python3.9/site-packages/pandas/core/groupby/ops.py\u001b[0m in \u001b[0;36m_ea_wrap_cython_operation\u001b[0;34m(self, values, min_count, ngroups, comp_ids, **kwargs)\u001b[0m\n\u001b[1;32m    450\u001b[0m \u001b[0;34m\u001b[0m\u001b[0m\n\u001b[0;32m--> 451\u001b[0;31m         raise NotImplementedError(\n\u001b[0m\u001b[1;32m    452\u001b[0m             \u001b[0;34mf\"function is not implemented for this dtype: {values.dtype}\"\u001b[0m\u001b[0;34m\u001b[0m\u001b[0;34m\u001b[0m\u001b[0m\n",
      "\u001b[0;31mNotImplementedError\u001b[0m: function is not implemented for this dtype: Sparse[float64, 0]",
      "\nDuring handling of the above exception, another exception occurred:\n",
      "\u001b[0;31mKeyboardInterrupt\u001b[0m                         Traceback (most recent call last)",
      "\u001b[0;32m/var/folders/vl/j3jtwcfn5n1d4dwn0jdsmv880000gp/T/ipykernel_905/546956151.py\u001b[0m in \u001b[0;36m<module>\u001b[0;34m\u001b[0m\n\u001b[1;32m      1\u001b[0m \u001b[0;31m#for ...\u001b[0m\u001b[0;34m\u001b[0m\u001b[0;34m\u001b[0m\u001b[0m\n\u001b[1;32m      2\u001b[0m \u001b[0;34m\u001b[0m\u001b[0m\n\u001b[0;32m----> 3\u001b[0;31m \u001b[0mdf\u001b[0m \u001b[0;34m=\u001b[0m \u001b[0mtransformed_dc_df\u001b[0m\u001b[0;34m.\u001b[0m\u001b[0mgroupby\u001b[0m\u001b[0;34m(\u001b[0m\u001b[0;34m'PATIENT_ID'\u001b[0m\u001b[0;34m)\u001b[0m\u001b[0;34m.\u001b[0m\u001b[0magg\u001b[0m\u001b[0;34m(\u001b[0m\u001b[0;34m'sum'\u001b[0m\u001b[0;34m)\u001b[0m\u001b[0;34m\u001b[0m\u001b[0;34m\u001b[0m\u001b[0m\n\u001b[0m\u001b[1;32m      4\u001b[0m \u001b[0mprint\u001b[0m\u001b[0;34m(\u001b[0m\u001b[0mdf\u001b[0m\u001b[0;34m)\u001b[0m\u001b[0;34m\u001b[0m\u001b[0;34m\u001b[0m\u001b[0m\n",
      "\u001b[0;32m~/opt/anaconda3/lib/python3.9/site-packages/pandas/core/groupby/generic.py\u001b[0m in \u001b[0;36maggregate\u001b[0;34m(self, func, engine, engine_kwargs, *args, **kwargs)\u001b[0m\n\u001b[1;32m    977\u001b[0m \u001b[0;34m\u001b[0m\u001b[0m\n\u001b[1;32m    978\u001b[0m         \u001b[0mop\u001b[0m \u001b[0;34m=\u001b[0m \u001b[0mGroupByApply\u001b[0m\u001b[0;34m(\u001b[0m\u001b[0mself\u001b[0m\u001b[0;34m,\u001b[0m \u001b[0mfunc\u001b[0m\u001b[0;34m,\u001b[0m \u001b[0margs\u001b[0m\u001b[0;34m,\u001b[0m \u001b[0mkwargs\u001b[0m\u001b[0;34m)\u001b[0m\u001b[0;34m\u001b[0m\u001b[0;34m\u001b[0m\u001b[0m\n\u001b[0;32m--> 979\u001b[0;31m         \u001b[0mresult\u001b[0m \u001b[0;34m=\u001b[0m \u001b[0mop\u001b[0m\u001b[0;34m.\u001b[0m\u001b[0magg\u001b[0m\u001b[0;34m(\u001b[0m\u001b[0;34m)\u001b[0m\u001b[0;34m\u001b[0m\u001b[0;34m\u001b[0m\u001b[0m\n\u001b[0m\u001b[1;32m    980\u001b[0m         \u001b[0;32mif\u001b[0m \u001b[0;32mnot\u001b[0m \u001b[0mis_dict_like\u001b[0m\u001b[0;34m(\u001b[0m\u001b[0mfunc\u001b[0m\u001b[0;34m)\u001b[0m \u001b[0;32mand\u001b[0m \u001b[0mresult\u001b[0m \u001b[0;32mis\u001b[0m \u001b[0;32mnot\u001b[0m \u001b[0;32mNone\u001b[0m\u001b[0;34m:\u001b[0m\u001b[0;34m\u001b[0m\u001b[0;34m\u001b[0m\u001b[0m\n\u001b[1;32m    981\u001b[0m             \u001b[0;32mreturn\u001b[0m \u001b[0mresult\u001b[0m\u001b[0;34m\u001b[0m\u001b[0;34m\u001b[0m\u001b[0m\n",
      "\u001b[0;32m~/opt/anaconda3/lib/python3.9/site-packages/pandas/core/apply.py\u001b[0m in \u001b[0;36magg\u001b[0;34m(self)\u001b[0m\n\u001b[1;32m    156\u001b[0m \u001b[0;34m\u001b[0m\u001b[0m\n\u001b[1;32m    157\u001b[0m         \u001b[0;32mif\u001b[0m \u001b[0misinstance\u001b[0m\u001b[0;34m(\u001b[0m\u001b[0marg\u001b[0m\u001b[0;34m,\u001b[0m \u001b[0mstr\u001b[0m\u001b[0;34m)\u001b[0m\u001b[0;34m:\u001b[0m\u001b[0;34m\u001b[0m\u001b[0;34m\u001b[0m\u001b[0m\n\u001b[0;32m--> 158\u001b[0;31m             \u001b[0;32mreturn\u001b[0m \u001b[0mself\u001b[0m\u001b[0;34m.\u001b[0m\u001b[0mapply_str\u001b[0m\u001b[0;34m(\u001b[0m\u001b[0;34m)\u001b[0m\u001b[0;34m\u001b[0m\u001b[0;34m\u001b[0m\u001b[0m\n\u001b[0m\u001b[1;32m    159\u001b[0m \u001b[0;34m\u001b[0m\u001b[0m\n\u001b[1;32m    160\u001b[0m         \u001b[0;32mif\u001b[0m \u001b[0mis_dict_like\u001b[0m\u001b[0;34m(\u001b[0m\u001b[0marg\u001b[0m\u001b[0;34m)\u001b[0m\u001b[0;34m:\u001b[0m\u001b[0;34m\u001b[0m\u001b[0;34m\u001b[0m\u001b[0m\n",
      "\u001b[0;32m~/opt/anaconda3/lib/python3.9/site-packages/pandas/core/apply.py\u001b[0m in \u001b[0;36mapply_str\u001b[0;34m(self)\u001b[0m\n\u001b[1;32m    505\u001b[0m             \u001b[0;32melif\u001b[0m \u001b[0mself\u001b[0m\u001b[0;34m.\u001b[0m\u001b[0maxis\u001b[0m \u001b[0;34m!=\u001b[0m \u001b[0;36m0\u001b[0m\u001b[0;34m:\u001b[0m\u001b[0;34m\u001b[0m\u001b[0;34m\u001b[0m\u001b[0m\n\u001b[1;32m    506\u001b[0m                 \u001b[0;32mraise\u001b[0m \u001b[0mValueError\u001b[0m\u001b[0;34m(\u001b[0m\u001b[0;34mf\"Operation {f} does not support axis=1\"\u001b[0m\u001b[0;34m)\u001b[0m\u001b[0;34m\u001b[0m\u001b[0;34m\u001b[0m\u001b[0m\n\u001b[0;32m--> 507\u001b[0;31m         \u001b[0;32mreturn\u001b[0m \u001b[0mself\u001b[0m\u001b[0;34m.\u001b[0m\u001b[0m_try_aggregate_string_function\u001b[0m\u001b[0;34m(\u001b[0m\u001b[0mobj\u001b[0m\u001b[0;34m,\u001b[0m \u001b[0mf\u001b[0m\u001b[0;34m,\u001b[0m \u001b[0;34m*\u001b[0m\u001b[0mself\u001b[0m\u001b[0;34m.\u001b[0m\u001b[0margs\u001b[0m\u001b[0;34m,\u001b[0m \u001b[0;34m**\u001b[0m\u001b[0mself\u001b[0m\u001b[0;34m.\u001b[0m\u001b[0mkwargs\u001b[0m\u001b[0;34m)\u001b[0m\u001b[0;34m\u001b[0m\u001b[0;34m\u001b[0m\u001b[0m\n\u001b[0m\u001b[1;32m    508\u001b[0m \u001b[0;34m\u001b[0m\u001b[0m\n\u001b[1;32m    509\u001b[0m     \u001b[0;32mdef\u001b[0m \u001b[0mapply_multiple\u001b[0m\u001b[0;34m(\u001b[0m\u001b[0mself\u001b[0m\u001b[0;34m)\u001b[0m \u001b[0;34m->\u001b[0m \u001b[0mFrameOrSeriesUnion\u001b[0m\u001b[0;34m:\u001b[0m\u001b[0;34m\u001b[0m\u001b[0;34m\u001b[0m\u001b[0m\n",
      "\u001b[0;32m~/opt/anaconda3/lib/python3.9/site-packages/pandas/core/apply.py\u001b[0m in \u001b[0;36m_try_aggregate_string_function\u001b[0;34m(self, obj, arg, *args, **kwargs)\u001b[0m\n\u001b[1;32m    575\u001b[0m         \u001b[0;32mif\u001b[0m \u001b[0mf\u001b[0m \u001b[0;32mis\u001b[0m \u001b[0;32mnot\u001b[0m \u001b[0;32mNone\u001b[0m\u001b[0;34m:\u001b[0m\u001b[0;34m\u001b[0m\u001b[0;34m\u001b[0m\u001b[0m\n\u001b[1;32m    576\u001b[0m             \u001b[0;32mif\u001b[0m \u001b[0mcallable\u001b[0m\u001b[0;34m(\u001b[0m\u001b[0mf\u001b[0m\u001b[0;34m)\u001b[0m\u001b[0;34m:\u001b[0m\u001b[0;34m\u001b[0m\u001b[0;34m\u001b[0m\u001b[0m\n\u001b[0;32m--> 577\u001b[0;31m                 \u001b[0;32mreturn\u001b[0m \u001b[0mf\u001b[0m\u001b[0;34m(\u001b[0m\u001b[0;34m*\u001b[0m\u001b[0margs\u001b[0m\u001b[0;34m,\u001b[0m \u001b[0;34m**\u001b[0m\u001b[0mkwargs\u001b[0m\u001b[0;34m)\u001b[0m\u001b[0;34m\u001b[0m\u001b[0;34m\u001b[0m\u001b[0m\n\u001b[0m\u001b[1;32m    578\u001b[0m \u001b[0;34m\u001b[0m\u001b[0m\n\u001b[1;32m    579\u001b[0m             \u001b[0;31m# people may try to aggregate on a non-callable attribute\u001b[0m\u001b[0;34m\u001b[0m\u001b[0;34m\u001b[0m\u001b[0m\n",
      "\u001b[0;32m~/opt/anaconda3/lib/python3.9/site-packages/pandas/core/groupby/groupby.py\u001b[0m in \u001b[0;36msum\u001b[0;34m(self, numeric_only, min_count)\u001b[0m\n\u001b[1;32m   1847\u001b[0m         \u001b[0;31m# _agg_general() returns. GH #31422\u001b[0m\u001b[0;34m\u001b[0m\u001b[0;34m\u001b[0m\u001b[0m\n\u001b[1;32m   1848\u001b[0m         \u001b[0;32mwith\u001b[0m \u001b[0mcom\u001b[0m\u001b[0;34m.\u001b[0m\u001b[0mtemp_setattr\u001b[0m\u001b[0;34m(\u001b[0m\u001b[0mself\u001b[0m\u001b[0;34m,\u001b[0m \u001b[0;34m\"observed\"\u001b[0m\u001b[0;34m,\u001b[0m \u001b[0;32mTrue\u001b[0m\u001b[0;34m)\u001b[0m\u001b[0;34m:\u001b[0m\u001b[0;34m\u001b[0m\u001b[0;34m\u001b[0m\u001b[0m\n\u001b[0;32m-> 1849\u001b[0;31m             result = self._agg_general(\n\u001b[0m\u001b[1;32m   1850\u001b[0m                 \u001b[0mnumeric_only\u001b[0m\u001b[0;34m=\u001b[0m\u001b[0mnumeric_only\u001b[0m\u001b[0;34m,\u001b[0m\u001b[0;34m\u001b[0m\u001b[0;34m\u001b[0m\u001b[0m\n\u001b[1;32m   1851\u001b[0m                 \u001b[0mmin_count\u001b[0m\u001b[0;34m=\u001b[0m\u001b[0mmin_count\u001b[0m\u001b[0;34m,\u001b[0m\u001b[0;34m\u001b[0m\u001b[0;34m\u001b[0m\u001b[0m\n",
      "\u001b[0;32m~/opt/anaconda3/lib/python3.9/site-packages/pandas/core/groupby/groupby.py\u001b[0m in \u001b[0;36m_agg_general\u001b[0;34m(self, numeric_only, min_count, alias, npfunc)\u001b[0m\n\u001b[1;32m   1362\u001b[0m         \u001b[0;32mwith\u001b[0m \u001b[0mgroup_selection_context\u001b[0m\u001b[0;34m(\u001b[0m\u001b[0mself\u001b[0m\u001b[0;34m)\u001b[0m\u001b[0;34m:\u001b[0m\u001b[0;34m\u001b[0m\u001b[0;34m\u001b[0m\u001b[0m\n\u001b[1;32m   1363\u001b[0m             \u001b[0;31m# try a cython aggregation if we can\u001b[0m\u001b[0;34m\u001b[0m\u001b[0;34m\u001b[0m\u001b[0m\n\u001b[0;32m-> 1364\u001b[0;31m             result = self._cython_agg_general(\n\u001b[0m\u001b[1;32m   1365\u001b[0m                 \u001b[0mhow\u001b[0m\u001b[0;34m=\u001b[0m\u001b[0malias\u001b[0m\u001b[0;34m,\u001b[0m\u001b[0;34m\u001b[0m\u001b[0;34m\u001b[0m\u001b[0m\n\u001b[1;32m   1366\u001b[0m                 \u001b[0malt\u001b[0m\u001b[0;34m=\u001b[0m\u001b[0mnpfunc\u001b[0m\u001b[0;34m,\u001b[0m\u001b[0;34m\u001b[0m\u001b[0;34m\u001b[0m\u001b[0m\n",
      "\u001b[0;32m~/opt/anaconda3/lib/python3.9/site-packages/pandas/core/groupby/generic.py\u001b[0m in \u001b[0;36m_cython_agg_general\u001b[0;34m(self, how, alt, numeric_only, min_count)\u001b[0m\n\u001b[1;32m   1080\u001b[0m         \u001b[0;31m# TypeError -> we may have an exception in trying to aggregate\u001b[0m\u001b[0;34m\u001b[0m\u001b[0;34m\u001b[0m\u001b[0m\n\u001b[1;32m   1081\u001b[0m         \u001b[0;31m#  continue and exclude the block\u001b[0m\u001b[0;34m\u001b[0m\u001b[0;34m\u001b[0m\u001b[0m\n\u001b[0;32m-> 1082\u001b[0;31m         \u001b[0mnew_mgr\u001b[0m \u001b[0;34m=\u001b[0m \u001b[0mdata\u001b[0m\u001b[0;34m.\u001b[0m\u001b[0mgrouped_reduce\u001b[0m\u001b[0;34m(\u001b[0m\u001b[0marray_func\u001b[0m\u001b[0;34m,\u001b[0m \u001b[0mignore_failures\u001b[0m\u001b[0;34m=\u001b[0m\u001b[0;32mTrue\u001b[0m\u001b[0;34m)\u001b[0m\u001b[0;34m\u001b[0m\u001b[0;34m\u001b[0m\u001b[0m\n\u001b[0m\u001b[1;32m   1083\u001b[0m \u001b[0;34m\u001b[0m\u001b[0m\n\u001b[1;32m   1084\u001b[0m         \u001b[0;32mif\u001b[0m \u001b[0mlen\u001b[0m\u001b[0;34m(\u001b[0m\u001b[0mnew_mgr\u001b[0m\u001b[0;34m)\u001b[0m \u001b[0;34m<\u001b[0m \u001b[0mlen\u001b[0m\u001b[0;34m(\u001b[0m\u001b[0mdata\u001b[0m\u001b[0;34m)\u001b[0m\u001b[0;34m:\u001b[0m\u001b[0;34m\u001b[0m\u001b[0;34m\u001b[0m\u001b[0m\n",
      "\u001b[0;32m~/opt/anaconda3/lib/python3.9/site-packages/pandas/core/internals/managers.py\u001b[0m in \u001b[0;36mgrouped_reduce\u001b[0;34m(self, func, ignore_failures)\u001b[0m\n\u001b[1;32m   1241\u001b[0m             \u001b[0;32melse\u001b[0m\u001b[0;34m:\u001b[0m\u001b[0;34m\u001b[0m\u001b[0;34m\u001b[0m\u001b[0m\n\u001b[1;32m   1242\u001b[0m                 \u001b[0;32mtry\u001b[0m\u001b[0;34m:\u001b[0m\u001b[0;34m\u001b[0m\u001b[0;34m\u001b[0m\u001b[0m\n\u001b[0;32m-> 1243\u001b[0;31m                     \u001b[0mapplied\u001b[0m \u001b[0;34m=\u001b[0m \u001b[0mblk\u001b[0m\u001b[0;34m.\u001b[0m\u001b[0mapply\u001b[0m\u001b[0;34m(\u001b[0m\u001b[0mfunc\u001b[0m\u001b[0;34m)\u001b[0m\u001b[0;34m\u001b[0m\u001b[0;34m\u001b[0m\u001b[0m\n\u001b[0m\u001b[1;32m   1244\u001b[0m                 \u001b[0;32mexcept\u001b[0m \u001b[0;34m(\u001b[0m\u001b[0mTypeError\u001b[0m\u001b[0;34m,\u001b[0m \u001b[0mNotImplementedError\u001b[0m\u001b[0;34m)\u001b[0m\u001b[0;34m:\u001b[0m\u001b[0;34m\u001b[0m\u001b[0;34m\u001b[0m\u001b[0m\n\u001b[1;32m   1245\u001b[0m                     \u001b[0;32mif\u001b[0m \u001b[0;32mnot\u001b[0m \u001b[0mignore_failures\u001b[0m\u001b[0;34m:\u001b[0m\u001b[0;34m\u001b[0m\u001b[0;34m\u001b[0m\u001b[0m\n",
      "\u001b[0;32m~/opt/anaconda3/lib/python3.9/site-packages/pandas/core/internals/blocks.py\u001b[0m in \u001b[0;36mapply\u001b[0;34m(self, func, **kwargs)\u001b[0m\n\u001b[1;32m    379\u001b[0m         \"\"\"\n\u001b[1;32m    380\u001b[0m         \u001b[0;32mwith\u001b[0m \u001b[0mnp\u001b[0m\u001b[0;34m.\u001b[0m\u001b[0merrstate\u001b[0m\u001b[0;34m(\u001b[0m\u001b[0mall\u001b[0m\u001b[0;34m=\u001b[0m\u001b[0;34m\"ignore\"\u001b[0m\u001b[0;34m)\u001b[0m\u001b[0;34m:\u001b[0m\u001b[0;34m\u001b[0m\u001b[0;34m\u001b[0m\u001b[0m\n\u001b[0;32m--> 381\u001b[0;31m             \u001b[0mresult\u001b[0m \u001b[0;34m=\u001b[0m \u001b[0mfunc\u001b[0m\u001b[0;34m(\u001b[0m\u001b[0mself\u001b[0m\u001b[0;34m.\u001b[0m\u001b[0mvalues\u001b[0m\u001b[0;34m,\u001b[0m \u001b[0;34m**\u001b[0m\u001b[0mkwargs\u001b[0m\u001b[0;34m)\u001b[0m\u001b[0;34m\u001b[0m\u001b[0;34m\u001b[0m\u001b[0m\n\u001b[0m\u001b[1;32m    382\u001b[0m \u001b[0;34m\u001b[0m\u001b[0m\n\u001b[1;32m    383\u001b[0m         \u001b[0;32mreturn\u001b[0m \u001b[0mself\u001b[0m\u001b[0;34m.\u001b[0m\u001b[0m_split_op_result\u001b[0m\u001b[0;34m(\u001b[0m\u001b[0mresult\u001b[0m\u001b[0;34m)\u001b[0m\u001b[0;34m\u001b[0m\u001b[0;34m\u001b[0m\u001b[0m\n",
      "\u001b[0;32m~/opt/anaconda3/lib/python3.9/site-packages/pandas/core/groupby/generic.py\u001b[0m in \u001b[0;36marray_func\u001b[0;34m(values)\u001b[0m\n\u001b[1;32m   1074\u001b[0m                 \u001b[0;31m# try to python agg\u001b[0m\u001b[0;34m\u001b[0m\u001b[0;34m\u001b[0m\u001b[0m\n\u001b[1;32m   1075\u001b[0m                 \u001b[0;31m# TODO: shouldn't min_count matter?\u001b[0m\u001b[0;34m\u001b[0m\u001b[0;34m\u001b[0m\u001b[0m\n\u001b[0;32m-> 1076\u001b[0;31m                 \u001b[0mresult\u001b[0m \u001b[0;34m=\u001b[0m \u001b[0mself\u001b[0m\u001b[0;34m.\u001b[0m\u001b[0m_agg_py_fallback\u001b[0m\u001b[0;34m(\u001b[0m\u001b[0mvalues\u001b[0m\u001b[0;34m,\u001b[0m \u001b[0mndim\u001b[0m\u001b[0;34m=\u001b[0m\u001b[0mdata\u001b[0m\u001b[0;34m.\u001b[0m\u001b[0mndim\u001b[0m\u001b[0;34m,\u001b[0m \u001b[0malt\u001b[0m\u001b[0;34m=\u001b[0m\u001b[0malt\u001b[0m\u001b[0;34m)\u001b[0m\u001b[0;34m\u001b[0m\u001b[0;34m\u001b[0m\u001b[0m\n\u001b[0m\u001b[1;32m   1077\u001b[0m \u001b[0;34m\u001b[0m\u001b[0m\n\u001b[1;32m   1078\u001b[0m             \u001b[0;32mreturn\u001b[0m \u001b[0mresult\u001b[0m\u001b[0;34m\u001b[0m\u001b[0;34m\u001b[0m\u001b[0m\n",
      "\u001b[0;32m~/opt/anaconda3/lib/python3.9/site-packages/pandas/core/groupby/groupby.py\u001b[0m in \u001b[0;36m_agg_py_fallback\u001b[0;34m(self, values, ndim, alt)\u001b[0m\n\u001b[1;32m   1396\u001b[0m         \u001b[0;31m#  should always be preserved by the implemented aggregations\u001b[0m\u001b[0;34m\u001b[0m\u001b[0;34m\u001b[0m\u001b[0m\n\u001b[1;32m   1397\u001b[0m         \u001b[0;31m# TODO: Is this exactly right; see WrappedCythonOp get_result_dtype?\u001b[0m\u001b[0;34m\u001b[0m\u001b[0;34m\u001b[0m\u001b[0m\n\u001b[0;32m-> 1398\u001b[0;31m         \u001b[0mres_values\u001b[0m \u001b[0;34m=\u001b[0m \u001b[0mself\u001b[0m\u001b[0;34m.\u001b[0m\u001b[0mgrouper\u001b[0m\u001b[0;34m.\u001b[0m\u001b[0magg_series\u001b[0m\u001b[0;34m(\u001b[0m\u001b[0mser\u001b[0m\u001b[0;34m,\u001b[0m \u001b[0malt\u001b[0m\u001b[0;34m,\u001b[0m \u001b[0mpreserve_dtype\u001b[0m\u001b[0;34m=\u001b[0m\u001b[0;32mTrue\u001b[0m\u001b[0;34m)\u001b[0m\u001b[0;34m\u001b[0m\u001b[0;34m\u001b[0m\u001b[0m\n\u001b[0m\u001b[1;32m   1399\u001b[0m \u001b[0;34m\u001b[0m\u001b[0m\n\u001b[1;32m   1400\u001b[0m         \u001b[0;32mif\u001b[0m \u001b[0misinstance\u001b[0m\u001b[0;34m(\u001b[0m\u001b[0mvalues\u001b[0m\u001b[0;34m,\u001b[0m \u001b[0mCategorical\u001b[0m\u001b[0;34m)\u001b[0m\u001b[0;34m:\u001b[0m\u001b[0;34m\u001b[0m\u001b[0;34m\u001b[0m\u001b[0m\n",
      "\u001b[0;32m~/opt/anaconda3/lib/python3.9/site-packages/pandas/core/groupby/ops.py\u001b[0m in \u001b[0;36magg_series\u001b[0;34m(self, obj, func, preserve_dtype)\u001b[0m\n\u001b[1;32m   1034\u001b[0m             \u001b[0;31m# In the datetime64tz case it would incorrectly cast to tz-naive\u001b[0m\u001b[0;34m\u001b[0m\u001b[0;34m\u001b[0m\u001b[0m\n\u001b[1;32m   1035\u001b[0m             \u001b[0;31m# TODO: can we get a performant workaround for EAs backed by ndarray?\u001b[0m\u001b[0;34m\u001b[0m\u001b[0;34m\u001b[0m\u001b[0m\n\u001b[0;32m-> 1036\u001b[0;31m             \u001b[0mresult\u001b[0m \u001b[0;34m=\u001b[0m \u001b[0mself\u001b[0m\u001b[0;34m.\u001b[0m\u001b[0m_aggregate_series_pure_python\u001b[0m\u001b[0;34m(\u001b[0m\u001b[0mobj\u001b[0m\u001b[0;34m,\u001b[0m \u001b[0mfunc\u001b[0m\u001b[0;34m)\u001b[0m\u001b[0;34m\u001b[0m\u001b[0;34m\u001b[0m\u001b[0m\n\u001b[0m\u001b[1;32m   1037\u001b[0m \u001b[0;34m\u001b[0m\u001b[0m\n\u001b[1;32m   1038\u001b[0m             \u001b[0;31m# we can preserve a little bit more aggressively with EA dtype\u001b[0m\u001b[0;34m\u001b[0m\u001b[0;34m\u001b[0m\u001b[0m\n",
      "\u001b[0;32m~/opt/anaconda3/lib/python3.9/site-packages/pandas/core/groupby/ops.py\u001b[0m in \u001b[0;36m_aggregate_series_pure_python\u001b[0;34m(self, obj, func)\u001b[0m\n\u001b[1;32m   1087\u001b[0m         \u001b[0msplitter\u001b[0m \u001b[0;34m=\u001b[0m \u001b[0mget_splitter\u001b[0m\u001b[0;34m(\u001b[0m\u001b[0mobj\u001b[0m\u001b[0;34m,\u001b[0m \u001b[0mids\u001b[0m\u001b[0;34m,\u001b[0m \u001b[0mngroups\u001b[0m\u001b[0;34m,\u001b[0m \u001b[0maxis\u001b[0m\u001b[0;34m=\u001b[0m\u001b[0;36m0\u001b[0m\u001b[0;34m)\u001b[0m\u001b[0;34m\u001b[0m\u001b[0;34m\u001b[0m\u001b[0m\n\u001b[1;32m   1088\u001b[0m \u001b[0;34m\u001b[0m\u001b[0m\n\u001b[0;32m-> 1089\u001b[0;31m         \u001b[0;32mfor\u001b[0m \u001b[0mi\u001b[0m\u001b[0;34m,\u001b[0m \u001b[0mgroup\u001b[0m \u001b[0;32min\u001b[0m \u001b[0menumerate\u001b[0m\u001b[0;34m(\u001b[0m\u001b[0msplitter\u001b[0m\u001b[0;34m)\u001b[0m\u001b[0;34m:\u001b[0m\u001b[0;34m\u001b[0m\u001b[0;34m\u001b[0m\u001b[0m\n\u001b[0m\u001b[1;32m   1090\u001b[0m \u001b[0;34m\u001b[0m\u001b[0m\n\u001b[1;32m   1091\u001b[0m             \u001b[0;31m# Each step of this loop corresponds to\u001b[0m\u001b[0;34m\u001b[0m\u001b[0;34m\u001b[0m\u001b[0m\n",
      "\u001b[0;32m~/opt/anaconda3/lib/python3.9/site-packages/pandas/core/groupby/ops.py\u001b[0m in \u001b[0;36m__iter__\u001b[0;34m(self)\u001b[0m\n\u001b[1;32m   1319\u001b[0m \u001b[0;34m\u001b[0m\u001b[0m\n\u001b[1;32m   1320\u001b[0m         \u001b[0;32mfor\u001b[0m \u001b[0mstart\u001b[0m\u001b[0;34m,\u001b[0m \u001b[0mend\u001b[0m \u001b[0;32min\u001b[0m \u001b[0mzip\u001b[0m\u001b[0;34m(\u001b[0m\u001b[0mstarts\u001b[0m\u001b[0;34m,\u001b[0m \u001b[0mends\u001b[0m\u001b[0;34m)\u001b[0m\u001b[0;34m:\u001b[0m\u001b[0;34m\u001b[0m\u001b[0;34m\u001b[0m\u001b[0m\n\u001b[0;32m-> 1321\u001b[0;31m             \u001b[0;32myield\u001b[0m \u001b[0mself\u001b[0m\u001b[0;34m.\u001b[0m\u001b[0m_chop\u001b[0m\u001b[0;34m(\u001b[0m\u001b[0msdata\u001b[0m\u001b[0;34m,\u001b[0m \u001b[0mslice\u001b[0m\u001b[0;34m(\u001b[0m\u001b[0mstart\u001b[0m\u001b[0;34m,\u001b[0m \u001b[0mend\u001b[0m\u001b[0;34m)\u001b[0m\u001b[0;34m)\u001b[0m\u001b[0;34m\u001b[0m\u001b[0;34m\u001b[0m\u001b[0m\n\u001b[0m\u001b[1;32m   1322\u001b[0m \u001b[0;34m\u001b[0m\u001b[0m\n\u001b[1;32m   1323\u001b[0m     \u001b[0;34m@\u001b[0m\u001b[0mcache_readonly\u001b[0m\u001b[0;34m\u001b[0m\u001b[0;34m\u001b[0m\u001b[0m\n",
      "\u001b[0;32m~/opt/anaconda3/lib/python3.9/site-packages/pandas/core/groupby/ops.py\u001b[0m in \u001b[0;36m_chop\u001b[0;34m(self, sdata, slice_obj)\u001b[0m\n\u001b[1;32m   1332\u001b[0m     \u001b[0;32mdef\u001b[0m \u001b[0m_chop\u001b[0m\u001b[0;34m(\u001b[0m\u001b[0mself\u001b[0m\u001b[0;34m,\u001b[0m \u001b[0msdata\u001b[0m\u001b[0;34m:\u001b[0m \u001b[0mSeries\u001b[0m\u001b[0;34m,\u001b[0m \u001b[0mslice_obj\u001b[0m\u001b[0;34m:\u001b[0m \u001b[0mslice\u001b[0m\u001b[0;34m)\u001b[0m \u001b[0;34m->\u001b[0m \u001b[0mSeries\u001b[0m\u001b[0;34m:\u001b[0m\u001b[0;34m\u001b[0m\u001b[0;34m\u001b[0m\u001b[0m\n\u001b[1;32m   1333\u001b[0m         \u001b[0;31m# fastpath equivalent to `sdata.iloc[slice_obj]`\u001b[0m\u001b[0;34m\u001b[0m\u001b[0;34m\u001b[0m\u001b[0m\n\u001b[0;32m-> 1334\u001b[0;31m         \u001b[0mmgr\u001b[0m \u001b[0;34m=\u001b[0m \u001b[0msdata\u001b[0m\u001b[0;34m.\u001b[0m\u001b[0m_mgr\u001b[0m\u001b[0;34m.\u001b[0m\u001b[0mget_slice\u001b[0m\u001b[0;34m(\u001b[0m\u001b[0mslice_obj\u001b[0m\u001b[0;34m)\u001b[0m\u001b[0;34m\u001b[0m\u001b[0;34m\u001b[0m\u001b[0m\n\u001b[0m\u001b[1;32m   1335\u001b[0m         \u001b[0;31m# __finalize__ not called here, must be applied by caller if applicable\u001b[0m\u001b[0;34m\u001b[0m\u001b[0;34m\u001b[0m\u001b[0m\n\u001b[1;32m   1336\u001b[0m \u001b[0;34m\u001b[0m\u001b[0m\n",
      "\u001b[0;32m~/opt/anaconda3/lib/python3.9/site-packages/pandas/core/internals/managers.py\u001b[0m in \u001b[0;36mget_slice\u001b[0;34m(self, slobj, axis)\u001b[0m\n\u001b[1;32m   1651\u001b[0m \u001b[0;34m\u001b[0m\u001b[0m\n\u001b[1;32m   1652\u001b[0m         \u001b[0mblk\u001b[0m \u001b[0;34m=\u001b[0m \u001b[0mself\u001b[0m\u001b[0;34m.\u001b[0m\u001b[0m_block\u001b[0m\u001b[0;34m\u001b[0m\u001b[0;34m\u001b[0m\u001b[0m\n\u001b[0;32m-> 1653\u001b[0;31m         \u001b[0marray\u001b[0m \u001b[0;34m=\u001b[0m \u001b[0mblk\u001b[0m\u001b[0;34m.\u001b[0m\u001b[0m_slice\u001b[0m\u001b[0;34m(\u001b[0m\u001b[0mslobj\u001b[0m\u001b[0;34m)\u001b[0m\u001b[0;34m\u001b[0m\u001b[0;34m\u001b[0m\u001b[0m\n\u001b[0m\u001b[1;32m   1654\u001b[0m         \u001b[0mbp\u001b[0m \u001b[0;34m=\u001b[0m \u001b[0mBlockPlacement\u001b[0m\u001b[0;34m(\u001b[0m\u001b[0mslice\u001b[0m\u001b[0;34m(\u001b[0m\u001b[0;36m0\u001b[0m\u001b[0;34m,\u001b[0m \u001b[0mlen\u001b[0m\u001b[0;34m(\u001b[0m\u001b[0marray\u001b[0m\u001b[0;34m)\u001b[0m\u001b[0;34m)\u001b[0m\u001b[0;34m)\u001b[0m\u001b[0;34m\u001b[0m\u001b[0;34m\u001b[0m\u001b[0m\n\u001b[1;32m   1655\u001b[0m         \u001b[0mblock\u001b[0m \u001b[0;34m=\u001b[0m \u001b[0mblk\u001b[0m\u001b[0;34m.\u001b[0m\u001b[0mmake_block_same_class\u001b[0m\u001b[0;34m(\u001b[0m\u001b[0marray\u001b[0m\u001b[0;34m,\u001b[0m \u001b[0mplacement\u001b[0m\u001b[0;34m=\u001b[0m\u001b[0mbp\u001b[0m\u001b[0;34m)\u001b[0m\u001b[0;34m\u001b[0m\u001b[0;34m\u001b[0m\u001b[0m\n",
      "\u001b[0;32m~/opt/anaconda3/lib/python3.9/site-packages/pandas/core/internals/blocks.py\u001b[0m in \u001b[0;36m_slice\u001b[0;34m(self, slicer)\u001b[0m\n\u001b[1;32m   1555\u001b[0m                 )\n\u001b[1;32m   1556\u001b[0m \u001b[0;34m\u001b[0m\u001b[0m\n\u001b[0;32m-> 1557\u001b[0;31m         \u001b[0;32mreturn\u001b[0m \u001b[0mself\u001b[0m\u001b[0;34m.\u001b[0m\u001b[0mvalues\u001b[0m\u001b[0;34m[\u001b[0m\u001b[0mslicer\u001b[0m\u001b[0;34m]\u001b[0m\u001b[0;34m\u001b[0m\u001b[0;34m\u001b[0m\u001b[0m\n\u001b[0m\u001b[1;32m   1558\u001b[0m \u001b[0;34m\u001b[0m\u001b[0m\n\u001b[1;32m   1559\u001b[0m     \u001b[0;34m@\u001b[0m\u001b[0mfinal\u001b[0m\u001b[0;34m\u001b[0m\u001b[0;34m\u001b[0m\u001b[0m\n",
      "\u001b[0;32m~/opt/anaconda3/lib/python3.9/site-packages/pandas/core/arrays/sparse/array.py\u001b[0m in \u001b[0;36m__getitem__\u001b[0;34m(self, key)\u001b[0m\n\u001b[1;32m    830\u001b[0m             \u001b[0;31m# TODO: this logic is surely elsewhere\u001b[0m\u001b[0;34m\u001b[0m\u001b[0;34m\u001b[0m\u001b[0m\n\u001b[1;32m    831\u001b[0m             \u001b[0;31m# TODO: this could be more efficient\u001b[0m\u001b[0;34m\u001b[0m\u001b[0;34m\u001b[0m\u001b[0m\n\u001b[0;32m--> 832\u001b[0;31m             \u001b[0mindices\u001b[0m \u001b[0;34m=\u001b[0m \u001b[0mnp\u001b[0m\u001b[0;34m.\u001b[0m\u001b[0marange\u001b[0m\u001b[0;34m(\u001b[0m\u001b[0mlen\u001b[0m\u001b[0;34m(\u001b[0m\u001b[0mself\u001b[0m\u001b[0;34m)\u001b[0m\u001b[0;34m,\u001b[0m \u001b[0mdtype\u001b[0m\u001b[0;34m=\u001b[0m\u001b[0mnp\u001b[0m\u001b[0;34m.\u001b[0m\u001b[0mint32\u001b[0m\u001b[0;34m)\u001b[0m\u001b[0;34m[\u001b[0m\u001b[0mkey\u001b[0m\u001b[0;34m]\u001b[0m\u001b[0;34m\u001b[0m\u001b[0;34m\u001b[0m\u001b[0m\n\u001b[0m\u001b[1;32m    833\u001b[0m             \u001b[0;32mreturn\u001b[0m \u001b[0mself\u001b[0m\u001b[0;34m.\u001b[0m\u001b[0mtake\u001b[0m\u001b[0;34m(\u001b[0m\u001b[0mindices\u001b[0m\u001b[0;34m)\u001b[0m\u001b[0;34m\u001b[0m\u001b[0;34m\u001b[0m\u001b[0m\n\u001b[1;32m    834\u001b[0m         \u001b[0;32melse\u001b[0m\u001b[0;34m:\u001b[0m\u001b[0;34m\u001b[0m\u001b[0;34m\u001b[0m\u001b[0m\n",
      "\u001b[0;31mKeyboardInterrupt\u001b[0m: "
     ]
    }
   ],
   "source": [
    "# group and aggregate the data so that each row represents each patient \n",
    "#tried, but took too long (over 3+ hours...)\n",
    "\n",
    "df = transformed_dc_df.groupby('PATIENT_ID').agg('sum')\n",
    "print(df)"
   ]
  },
  {
   "cell_type": "markdown",
   "id": "289c5d62",
   "metadata": {},
   "source": [
    "Therefore, using the transformed_dc_df and transformed_pt_df dataframes for analysis. Each patient has multiple rows."
   ]
  },
  {
   "cell_type": "code",
   "execution_count": 84,
   "id": "ac1fdfce",
   "metadata": {},
   "outputs": [
    {
     "data": {
      "text/html": [
       "<div>\n",
       "<style scoped>\n",
       "    .dataframe tbody tr th:only-of-type {\n",
       "        vertical-align: middle;\n",
       "    }\n",
       "\n",
       "    .dataframe tbody tr th {\n",
       "        vertical-align: top;\n",
       "    }\n",
       "\n",
       "    .dataframe thead th {\n",
       "        text-align: right;\n",
       "    }\n",
       "</style>\n",
       "<table border=\"1\" class=\"dataframe\">\n",
       "  <thead>\n",
       "    <tr style=\"text-align: right;\">\n",
       "      <th></th>\n",
       "      <th>priority_1.0</th>\n",
       "      <th>priority_2.0</th>\n",
       "      <th>priority_3.0</th>\n",
       "      <th>priority_4.0</th>\n",
       "      <th>priority_5.0</th>\n",
       "      <th>priority_6-25</th>\n",
       "      <th>CCS_code_1.0</th>\n",
       "      <th>CCS_code_10.0</th>\n",
       "      <th>CCS_code_100.0</th>\n",
       "      <th>CCS_code_101.0</th>\n",
       "      <th>...</th>\n",
       "      <th>ADMISSION_DATE_bin_cut_(200, 300]</th>\n",
       "      <th>ADMISSION_DATE_bin_cut_(300, 400]</th>\n",
       "      <th>ADMISSION_DATE_bin_cut_(400, 500]</th>\n",
       "      <th>ADMISSION_DATE_bin_cut_(500, 600]</th>\n",
       "      <th>ADMISSION_DATE_bin_cut_0</th>\n",
       "      <th>PATIENT_ID</th>\n",
       "      <th>SEX_F</th>\n",
       "      <th>SEX_M</th>\n",
       "      <th>HAS_ADMISSION</th>\n",
       "      <th>AGE</th>\n",
       "    </tr>\n",
       "  </thead>\n",
       "  <tbody>\n",
       "    <tr>\n",
       "      <th>0</th>\n",
       "      <td>1.0</td>\n",
       "      <td>0.0</td>\n",
       "      <td>0.0</td>\n",
       "      <td>0.0</td>\n",
       "      <td>0.0</td>\n",
       "      <td>0.0</td>\n",
       "      <td>0.0</td>\n",
       "      <td>0.0</td>\n",
       "      <td>0.0</td>\n",
       "      <td>0.0</td>\n",
       "      <td>...</td>\n",
       "      <td>1.0</td>\n",
       "      <td>0.0</td>\n",
       "      <td>0.0</td>\n",
       "      <td>0.0</td>\n",
       "      <td>0.0</td>\n",
       "      <td>50392.0</td>\n",
       "      <td>1.0</td>\n",
       "      <td>0.0</td>\n",
       "      <td>0.0</td>\n",
       "      <td>76.0</td>\n",
       "    </tr>\n",
       "    <tr>\n",
       "      <th>1</th>\n",
       "      <td>0.0</td>\n",
       "      <td>0.0</td>\n",
       "      <td>0.0</td>\n",
       "      <td>1.0</td>\n",
       "      <td>0.0</td>\n",
       "      <td>0.0</td>\n",
       "      <td>0.0</td>\n",
       "      <td>0.0</td>\n",
       "      <td>0.0</td>\n",
       "      <td>0.0</td>\n",
       "      <td>...</td>\n",
       "      <td>1.0</td>\n",
       "      <td>0.0</td>\n",
       "      <td>0.0</td>\n",
       "      <td>0.0</td>\n",
       "      <td>0.0</td>\n",
       "      <td>50392.0</td>\n",
       "      <td>1.0</td>\n",
       "      <td>0.0</td>\n",
       "      <td>0.0</td>\n",
       "      <td>76.0</td>\n",
       "    </tr>\n",
       "    <tr>\n",
       "      <th>2</th>\n",
       "      <td>0.0</td>\n",
       "      <td>1.0</td>\n",
       "      <td>0.0</td>\n",
       "      <td>0.0</td>\n",
       "      <td>0.0</td>\n",
       "      <td>0.0</td>\n",
       "      <td>0.0</td>\n",
       "      <td>0.0</td>\n",
       "      <td>0.0</td>\n",
       "      <td>0.0</td>\n",
       "      <td>...</td>\n",
       "      <td>1.0</td>\n",
       "      <td>0.0</td>\n",
       "      <td>0.0</td>\n",
       "      <td>0.0</td>\n",
       "      <td>0.0</td>\n",
       "      <td>50392.0</td>\n",
       "      <td>1.0</td>\n",
       "      <td>0.0</td>\n",
       "      <td>0.0</td>\n",
       "      <td>76.0</td>\n",
       "    </tr>\n",
       "    <tr>\n",
       "      <th>3</th>\n",
       "      <td>0.0</td>\n",
       "      <td>0.0</td>\n",
       "      <td>1.0</td>\n",
       "      <td>0.0</td>\n",
       "      <td>0.0</td>\n",
       "      <td>0.0</td>\n",
       "      <td>0.0</td>\n",
       "      <td>0.0</td>\n",
       "      <td>0.0</td>\n",
       "      <td>0.0</td>\n",
       "      <td>...</td>\n",
       "      <td>1.0</td>\n",
       "      <td>0.0</td>\n",
       "      <td>0.0</td>\n",
       "      <td>0.0</td>\n",
       "      <td>0.0</td>\n",
       "      <td>50392.0</td>\n",
       "      <td>1.0</td>\n",
       "      <td>0.0</td>\n",
       "      <td>0.0</td>\n",
       "      <td>76.0</td>\n",
       "    </tr>\n",
       "    <tr>\n",
       "      <th>4</th>\n",
       "      <td>1.0</td>\n",
       "      <td>0.0</td>\n",
       "      <td>0.0</td>\n",
       "      <td>0.0</td>\n",
       "      <td>0.0</td>\n",
       "      <td>0.0</td>\n",
       "      <td>0.0</td>\n",
       "      <td>0.0</td>\n",
       "      <td>0.0</td>\n",
       "      <td>0.0</td>\n",
       "      <td>...</td>\n",
       "      <td>1.0</td>\n",
       "      <td>0.0</td>\n",
       "      <td>0.0</td>\n",
       "      <td>0.0</td>\n",
       "      <td>0.0</td>\n",
       "      <td>50392.0</td>\n",
       "      <td>1.0</td>\n",
       "      <td>0.0</td>\n",
       "      <td>0.0</td>\n",
       "      <td>76.0</td>\n",
       "    </tr>\n",
       "    <tr>\n",
       "      <th>...</th>\n",
       "      <td>...</td>\n",
       "      <td>...</td>\n",
       "      <td>...</td>\n",
       "      <td>...</td>\n",
       "      <td>...</td>\n",
       "      <td>...</td>\n",
       "      <td>...</td>\n",
       "      <td>...</td>\n",
       "      <td>...</td>\n",
       "      <td>...</td>\n",
       "      <td>...</td>\n",
       "      <td>...</td>\n",
       "      <td>...</td>\n",
       "      <td>...</td>\n",
       "      <td>...</td>\n",
       "      <td>...</td>\n",
       "      <td>...</td>\n",
       "      <td>...</td>\n",
       "      <td>...</td>\n",
       "      <td>...</td>\n",
       "      <td>...</td>\n",
       "    </tr>\n",
       "    <tr>\n",
       "      <th>9547885</th>\n",
       "      <td>0.0</td>\n",
       "      <td>0.0</td>\n",
       "      <td>1.0</td>\n",
       "      <td>0.0</td>\n",
       "      <td>0.0</td>\n",
       "      <td>0.0</td>\n",
       "      <td>0.0</td>\n",
       "      <td>0.0</td>\n",
       "      <td>0.0</td>\n",
       "      <td>0.0</td>\n",
       "      <td>...</td>\n",
       "      <td>0.0</td>\n",
       "      <td>0.0</td>\n",
       "      <td>0.0</td>\n",
       "      <td>0.0</td>\n",
       "      <td>0.0</td>\n",
       "      <td>38048.0</td>\n",
       "      <td>0.0</td>\n",
       "      <td>1.0</td>\n",
       "      <td>1.0</td>\n",
       "      <td>67.0</td>\n",
       "    </tr>\n",
       "    <tr>\n",
       "      <th>9547886</th>\n",
       "      <td>1.0</td>\n",
       "      <td>0.0</td>\n",
       "      <td>0.0</td>\n",
       "      <td>0.0</td>\n",
       "      <td>0.0</td>\n",
       "      <td>0.0</td>\n",
       "      <td>0.0</td>\n",
       "      <td>0.0</td>\n",
       "      <td>0.0</td>\n",
       "      <td>0.0</td>\n",
       "      <td>...</td>\n",
       "      <td>0.0</td>\n",
       "      <td>0.0</td>\n",
       "      <td>0.0</td>\n",
       "      <td>0.0</td>\n",
       "      <td>0.0</td>\n",
       "      <td>38048.0</td>\n",
       "      <td>0.0</td>\n",
       "      <td>1.0</td>\n",
       "      <td>1.0</td>\n",
       "      <td>67.0</td>\n",
       "    </tr>\n",
       "    <tr>\n",
       "      <th>9547887</th>\n",
       "      <td>0.0</td>\n",
       "      <td>1.0</td>\n",
       "      <td>0.0</td>\n",
       "      <td>0.0</td>\n",
       "      <td>0.0</td>\n",
       "      <td>0.0</td>\n",
       "      <td>0.0</td>\n",
       "      <td>0.0</td>\n",
       "      <td>0.0</td>\n",
       "      <td>0.0</td>\n",
       "      <td>...</td>\n",
       "      <td>0.0</td>\n",
       "      <td>0.0</td>\n",
       "      <td>0.0</td>\n",
       "      <td>0.0</td>\n",
       "      <td>0.0</td>\n",
       "      <td>38048.0</td>\n",
       "      <td>0.0</td>\n",
       "      <td>1.0</td>\n",
       "      <td>1.0</td>\n",
       "      <td>67.0</td>\n",
       "    </tr>\n",
       "    <tr>\n",
       "      <th>9547888</th>\n",
       "      <td>1.0</td>\n",
       "      <td>0.0</td>\n",
       "      <td>0.0</td>\n",
       "      <td>0.0</td>\n",
       "      <td>0.0</td>\n",
       "      <td>0.0</td>\n",
       "      <td>0.0</td>\n",
       "      <td>0.0</td>\n",
       "      <td>0.0</td>\n",
       "      <td>0.0</td>\n",
       "      <td>...</td>\n",
       "      <td>1.0</td>\n",
       "      <td>0.0</td>\n",
       "      <td>0.0</td>\n",
       "      <td>0.0</td>\n",
       "      <td>0.0</td>\n",
       "      <td>99403.0</td>\n",
       "      <td>0.0</td>\n",
       "      <td>1.0</td>\n",
       "      <td>0.0</td>\n",
       "      <td>53.0</td>\n",
       "    </tr>\n",
       "    <tr>\n",
       "      <th>9547889</th>\n",
       "      <td>1.0</td>\n",
       "      <td>0.0</td>\n",
       "      <td>0.0</td>\n",
       "      <td>0.0</td>\n",
       "      <td>0.0</td>\n",
       "      <td>0.0</td>\n",
       "      <td>0.0</td>\n",
       "      <td>0.0</td>\n",
       "      <td>0.0</td>\n",
       "      <td>0.0</td>\n",
       "      <td>...</td>\n",
       "      <td>0.0</td>\n",
       "      <td>0.0</td>\n",
       "      <td>0.0</td>\n",
       "      <td>0.0</td>\n",
       "      <td>0.0</td>\n",
       "      <td>87169.0</td>\n",
       "      <td>1.0</td>\n",
       "      <td>0.0</td>\n",
       "      <td>0.0</td>\n",
       "      <td>65.0</td>\n",
       "    </tr>\n",
       "  </tbody>\n",
       "</table>\n",
       "<p>9547890 rows × 315 columns</p>\n",
       "</div>"
      ],
      "text/plain": [
       "         priority_1.0  priority_2.0  priority_3.0  priority_4.0  priority_5.0  \\\n",
       "0                 1.0           0.0           0.0           0.0           0.0   \n",
       "1                 0.0           0.0           0.0           1.0           0.0   \n",
       "2                 0.0           1.0           0.0           0.0           0.0   \n",
       "3                 0.0           0.0           1.0           0.0           0.0   \n",
       "4                 1.0           0.0           0.0           0.0           0.0   \n",
       "...               ...           ...           ...           ...           ...   \n",
       "9547885           0.0           0.0           1.0           0.0           0.0   \n",
       "9547886           1.0           0.0           0.0           0.0           0.0   \n",
       "9547887           0.0           1.0           0.0           0.0           0.0   \n",
       "9547888           1.0           0.0           0.0           0.0           0.0   \n",
       "9547889           1.0           0.0           0.0           0.0           0.0   \n",
       "\n",
       "         priority_6-25  CCS_code_1.0  CCS_code_10.0  CCS_code_100.0  \\\n",
       "0                  0.0           0.0            0.0             0.0   \n",
       "1                  0.0           0.0            0.0             0.0   \n",
       "2                  0.0           0.0            0.0             0.0   \n",
       "3                  0.0           0.0            0.0             0.0   \n",
       "4                  0.0           0.0            0.0             0.0   \n",
       "...                ...           ...            ...             ...   \n",
       "9547885            0.0           0.0            0.0             0.0   \n",
       "9547886            0.0           0.0            0.0             0.0   \n",
       "9547887            0.0           0.0            0.0             0.0   \n",
       "9547888            0.0           0.0            0.0             0.0   \n",
       "9547889            0.0           0.0            0.0             0.0   \n",
       "\n",
       "         CCS_code_101.0  ...  ADMISSION_DATE_bin_cut_(200, 300]  \\\n",
       "0                   0.0  ...                                1.0   \n",
       "1                   0.0  ...                                1.0   \n",
       "2                   0.0  ...                                1.0   \n",
       "3                   0.0  ...                                1.0   \n",
       "4                   0.0  ...                                1.0   \n",
       "...                 ...  ...                                ...   \n",
       "9547885             0.0  ...                                0.0   \n",
       "9547886             0.0  ...                                0.0   \n",
       "9547887             0.0  ...                                0.0   \n",
       "9547888             0.0  ...                                1.0   \n",
       "9547889             0.0  ...                                0.0   \n",
       "\n",
       "         ADMISSION_DATE_bin_cut_(300, 400]  ADMISSION_DATE_bin_cut_(400, 500]  \\\n",
       "0                                      0.0                                0.0   \n",
       "1                                      0.0                                0.0   \n",
       "2                                      0.0                                0.0   \n",
       "3                                      0.0                                0.0   \n",
       "4                                      0.0                                0.0   \n",
       "...                                    ...                                ...   \n",
       "9547885                                0.0                                0.0   \n",
       "9547886                                0.0                                0.0   \n",
       "9547887                                0.0                                0.0   \n",
       "9547888                                0.0                                0.0   \n",
       "9547889                                0.0                                0.0   \n",
       "\n",
       "         ADMISSION_DATE_bin_cut_(500, 600]  ADMISSION_DATE_bin_cut_0  \\\n",
       "0                                      0.0                       0.0   \n",
       "1                                      0.0                       0.0   \n",
       "2                                      0.0                       0.0   \n",
       "3                                      0.0                       0.0   \n",
       "4                                      0.0                       0.0   \n",
       "...                                    ...                       ...   \n",
       "9547885                                0.0                       0.0   \n",
       "9547886                                0.0                       0.0   \n",
       "9547887                                0.0                       0.0   \n",
       "9547888                                0.0                       0.0   \n",
       "9547889                                0.0                       0.0   \n",
       "\n",
       "         PATIENT_ID  SEX_F  SEX_M  HAS_ADMISSION   AGE  \n",
       "0           50392.0    1.0    0.0            0.0  76.0  \n",
       "1           50392.0    1.0    0.0            0.0  76.0  \n",
       "2           50392.0    1.0    0.0            0.0  76.0  \n",
       "3           50392.0    1.0    0.0            0.0  76.0  \n",
       "4           50392.0    1.0    0.0            0.0  76.0  \n",
       "...             ...    ...    ...            ...   ...  \n",
       "9547885     38048.0    0.0    1.0            1.0  67.0  \n",
       "9547886     38048.0    0.0    1.0            1.0  67.0  \n",
       "9547887     38048.0    0.0    1.0            1.0  67.0  \n",
       "9547888     99403.0    0.0    1.0            0.0  53.0  \n",
       "9547889     87169.0    1.0    0.0            0.0  65.0  \n",
       "\n",
       "[9547890 rows x 315 columns]"
      ]
     },
     "execution_count": 84,
     "metadata": {},
     "output_type": "execute_result"
    }
   ],
   "source": [
    "# merge the two dataframes (transformed_dc_df + transformed_pt_df)\n",
    "data = transformed_dc_df.merge(transformed_pt_df, how='left', on='PATIENT_ID')\n",
    "data"
   ]
  },
  {
   "cell_type": "markdown",
   "id": "c1fbb0b4",
   "metadata": {},
   "source": [
    "## Engineering Features Summary\n",
    "Total number of features: \n",
    "Numerical features:\n",
    "Categorical features: "
   ]
  },
  {
   "cell_type": "code",
   "execution_count": 85,
   "id": "98e0bce7",
   "metadata": {},
   "outputs": [
    {
     "data": {
      "text/plain": [
       "0"
      ]
     },
     "execution_count": 85,
     "metadata": {},
     "output_type": "execute_result"
    }
   ],
   "source": [
    "# check if we are missing any data\n",
    "data.columns.isnull().sum()#.sort_values(ascending=False)"
   ]
  },
  {
   "cell_type": "markdown",
   "id": "01b07660",
   "metadata": {},
   "source": [
    "## Building train/valid/test samples\n",
    "70% train, 15% valid, 15% test split"
   ]
  },
  {
   "cell_type": "markdown",
   "id": "1fa3ffc7",
   "metadata": {},
   "source": [
    "There are 9.5+ million rows. The run time will be too much so sub-setting the data to only the top 100,000 rows for now. "
   ]
  },
  {
   "cell_type": "code",
   "execution_count": 86,
   "id": "746d5d1f",
   "metadata": {},
   "outputs": [],
   "source": [
    "# not sure if data has some order, so shuffle + select 100,000 rows\n",
    "sub_data = data.sample(n=100000, random_state=41)\n",
    "sub_data = sub_data.reset_index(drop=True)"
   ]
  },
  {
   "cell_type": "code",
   "execution_count": 87,
   "id": "6151273d",
   "metadata": {},
   "outputs": [],
   "source": [
    "# save 30% of data to use as validation + test data\n",
    "df_valid_test = sub_data.sample(frac=0.30, random_state=41)\n",
    "\n",
    "# split test + valid using 50% fraction\n",
    "df_test = df_valid_test.sample(frac = 0.5, random_state=41)\n",
    "df_valid = df_valid_test.drop(df_test.index)\n",
    "\n",
    "# use rest of data as training data\n",
    "df_train_all = sub_data.drop(df_valid_test.index)"
   ]
  },
  {
   "cell_type": "markdown",
   "id": "c7dc10eb",
   "metadata": {},
   "source": [
    "Check prevalence of hospital admission (column HAS_ADMISSION) for train/valid/test samples. Ideally, all three groups should have similar prevalence."
   ]
  },
  {
   "cell_type": "code",
   "execution_count": 88,
   "id": "765b7aec",
   "metadata": {},
   "outputs": [
    {
     "name": "stdout",
     "output_type": "stream",
     "text": [
      "Test prevalence(n = 15000):0.159\n",
      "Valid prevalence(n = 15000):0.158\n",
      "Train all prevalence(n = 70000):0.161\n"
     ]
    }
   ],
   "source": [
    "print('Test prevalence(n = %d):%.3f'%(len(df_test),calc_prevalence(df_test.HAS_ADMISSION.values)))\n",
    "print('Valid prevalence(n = %d):%.3f'%(len(df_valid),calc_prevalence(df_valid.HAS_ADMISSION.values)))\n",
    "print('Train all prevalence(n = %d):%.3f'%(len(df_train_all), calc_prevalence(df_train_all.HAS_ADMISSION.values)))"
   ]
  },
  {
   "cell_type": "code",
   "execution_count": 91,
   "id": "2d894a8a",
   "metadata": {},
   "outputs": [
    {
     "name": "stdout",
     "output_type": "stream",
     "text": [
      "all samples (n = 100000)\n"
     ]
    }
   ],
   "source": [
    "# verify we used all the data.\n",
    "print('all samples (n = %d)'%len(sub_data))\n",
    "assert len(sub_data) == (len(df_test)+len(df_valid)+len(df_train_all)),'math didnt work'"
   ]
  },
  {
   "cell_type": "markdown",
   "id": "bba98f3a",
   "metadata": {},
   "source": [
    "Have an imbalanced dataset where there are much more negatives than positives, so model might assign all samples as negative. Therefore, balance the data (via sub-sample more dominant class, over-sample imbalanced class or create synthetic positive data). \n",
    "\n",
    "Since we have a few thousand positive cases, use sub-sample approach. Create balanced training dataset that has 50:50 positive:negative cases. "
   ]
  },
  {
   "cell_type": "code",
   "execution_count": 92,
   "id": "8474fe5d",
   "metadata": {},
   "outputs": [
    {
     "name": "stdout",
     "output_type": "stream",
     "text": [
      "Train balanced prevalence(n = 22476):0.500\n"
     ]
    }
   ],
   "source": [
    "# split the training data into positive and negative\n",
    "rows_pos = df_train_all.HAS_ADMISSION == 1\n",
    "df_train_pos = df_train_all.loc[rows_pos]\n",
    "df_train_neg = df_train_all.loc[~rows_pos]\n",
    "\n",
    "# merge the balanced data\n",
    "df_train = pd.concat([df_train_pos, df_train_neg.sample(n = len(df_train_pos), random_state = 41)],axis = 0)\n",
    "\n",
    "# shuffle the order of training samples \n",
    "df_train = df_train.sample(n = len(df_train), random_state = 41).reset_index(drop = True)\n",
    "\n",
    "print('Train balanced prevalence(n = %d):%.3f'%(len(df_train), calc_prevalence(df_train.HAS_ADMISSION.values)))"
   ]
  },
  {
   "cell_type": "markdown",
   "id": "27cd67e1",
   "metadata": {},
   "source": [
    "Save our data, just in case for future reference. (or if the notebook kernel dies)"
   ]
  },
  {
   "cell_type": "code",
   "execution_count": 93,
   "id": "f8a2f73f",
   "metadata": {},
   "outputs": [],
   "source": [
    "df_train_all.to_csv('df_train_all.csv',index=False)\n",
    "df_train.to_csv('df_train.csv',index=False)\n",
    "df_valid.to_csv('df_valid.csv',index=False)\n",
    "df_test.to_csv('df_test.csv',index=False)"
   ]
  },
  {
   "cell_type": "markdown",
   "id": "4c989167",
   "metadata": {},
   "source": [
    "Create input matrix X and output vector y (for ML packages). "
   ]
  },
  {
   "cell_type": "code",
   "execution_count": 94,
   "id": "e8d1a59f",
   "metadata": {},
   "outputs": [
    {
     "name": "stdout",
     "output_type": "stream",
     "text": [
      "Training All shapes: (70000, 314)\n",
      "Training shapes: (22476, 314) (22476,)\n",
      "Validation shapes: (15000, 314) (15000,)\n"
     ]
    }
   ],
   "source": [
    "col2use = data.columns.to_list()\n",
    "col2use.remove('HAS_ADMISSION')\n",
    "\n",
    "X_train = df_train[col2use].values\n",
    "X_train_all = df_train_all[col2use].values\n",
    "X_valid = df_valid[col2use].values\n",
    "\n",
    "y_train = df_train['HAS_ADMISSION'].values\n",
    "y_valid = df_valid['HAS_ADMISSION'].values\n",
    "\n",
    "print('Training All shapes:',X_train_all.shape)\n",
    "print('Training shapes:',X_train.shape, y_train.shape)\n",
    "print('Validation shapes:',X_valid.shape, y_valid.shape)"
   ]
  },
  {
   "cell_type": "markdown",
   "id": "5b0251a6",
   "metadata": {},
   "source": [
    "Scale the data with scikit learn's Standard Scaler to remove the mean and scale to unit variance. "
   ]
  },
  {
   "cell_type": "code",
   "execution_count": 95,
   "id": "e87286c8",
   "metadata": {},
   "outputs": [
    {
     "data": {
      "text/plain": [
       "StandardScaler()"
      ]
     },
     "execution_count": 95,
     "metadata": {},
     "output_type": "execute_result"
    }
   ],
   "source": [
    "from sklearn.preprocessing import StandardScaler\n",
    "\n",
    "scaler  = StandardScaler()\n",
    "scaler.fit(X_train_all)"
   ]
  },
  {
   "cell_type": "markdown",
   "id": "8eb5f68b",
   "metadata": {},
   "source": [
    "Need the scaler for the test data, so save it using the pickle package."
   ]
  },
  {
   "cell_type": "code",
   "execution_count": 96,
   "id": "4ebd6398",
   "metadata": {},
   "outputs": [],
   "source": [
    "import pickle\n",
    "scalerfile = 'scaler.sav'\n",
    "pickle.dump(scaler, open(scalerfile, 'wb'))"
   ]
  },
  {
   "cell_type": "code",
   "execution_count": 97,
   "id": "a641859a",
   "metadata": {},
   "outputs": [],
   "source": [
    "# load it back\n",
    "scaler = pickle.load(open(scalerfile, 'rb'))"
   ]
  },
  {
   "cell_type": "code",
   "execution_count": 98,
   "id": "f61c720a",
   "metadata": {},
   "outputs": [],
   "source": [
    "# transform out data matrices\n",
    "X_train_tf = scaler.transform(X_train)\n",
    "X_valid_tf = scaler.transform(X_valid)"
   ]
  },
  {
   "cell_type": "markdown",
   "id": "2e63dec1",
   "metadata": {},
   "source": [
    "# Model Selection"
   ]
  },
  {
   "cell_type": "markdown",
   "id": "e7027151",
   "metadata": {},
   "source": [
    "Use the following function to evaluate performance of the model. "
   ]
  },
  {
   "cell_type": "code",
   "execution_count": 99,
   "id": "c7cc7c64",
   "metadata": {},
   "outputs": [],
   "source": [
    "from sklearn.metrics import roc_auc_score, accuracy_score, precision_score, recall_score\n",
    "def calc_specificity(y_actual, y_pred, thresh):\n",
    "    # calculates specificity\n",
    "    return sum((y_pred < thresh) & (y_actual == 0)) /sum(y_actual ==0)\n",
    "\n",
    "def print_report(y_actual, y_pred, thresh):\n",
    "    \n",
    "    auc = roc_auc_score(y_actual, y_pred)\n",
    "    accuracy = accuracy_score(y_actual, (y_pred > thresh))\n",
    "    recall = recall_score(y_actual, (y_pred > thresh))\n",
    "    precision = precision_score(y_actual, (y_pred > thresh))\n",
    "    specificity = calc_specificity(y_actual, y_pred, thresh)\n",
    "    print('AUC:%.3f'%auc)\n",
    "    print('accuracy:%.3f'%accuracy)\n",
    "    print('recall:%.3f'%recall)\n",
    "    print('precision:%.3f'%precision)\n",
    "    print('specificity:%.3f'%specificity)\n",
    "    print('prevalence:%.3f'%calc_prevalence(y_actual))\n",
    "    print(' ')\n",
    "    return auc, accuracy, recall, precision, specificity "
   ]
  },
  {
   "cell_type": "markdown",
   "id": "e43242e8",
   "metadata": {},
   "source": [
    "Since we balanced our training data, set threshold at 0.5 to lable a predicted sample as positive. "
   ]
  },
  {
   "cell_type": "code",
   "execution_count": 100,
   "id": "26fc85a7",
   "metadata": {},
   "outputs": [],
   "source": [
    "thresh = 0.5"
   ]
  },
  {
   "cell_type": "markdown",
   "id": "7574cf04",
   "metadata": {},
   "source": [
    "### baseline models"
   ]
  },
  {
   "cell_type": "markdown",
   "id": "581e6c7f",
   "metadata": {},
   "source": [
    "**K Nearest Neighbors (KNN)**"
   ]
  },
  {
   "cell_type": "code",
   "execution_count": 101,
   "id": "b9c90521",
   "metadata": {},
   "outputs": [
    {
     "data": {
      "text/plain": [
       "KNeighborsClassifier(n_neighbors=100)"
      ]
     },
     "execution_count": 101,
     "metadata": {},
     "output_type": "execute_result"
    }
   ],
   "source": [
    "# k-nearest neighbors\n",
    "from sklearn.neighbors import KNeighborsClassifier\n",
    "knn=KNeighborsClassifier(n_neighbors = 100)\n",
    "knn.fit(X_train_tf, y_train)"
   ]
  },
  {
   "cell_type": "code",
   "execution_count": 102,
   "id": "6b1f5647",
   "metadata": {},
   "outputs": [
    {
     "name": "stdout",
     "output_type": "stream",
     "text": [
      "KNN\n",
      "Training:\n",
      "AUC:0.698\n",
      "accuracy:0.651\n",
      "recall:0.630\n",
      "precision:0.658\n",
      "specificity:0.655\n",
      "prevalence:0.500\n",
      " \n",
      "Validation:\n",
      "AUC:0.683\n",
      "accuracy:0.655\n",
      "recall:0.620\n",
      "precision:0.256\n",
      "specificity:0.643\n",
      "prevalence:0.158\n",
      " \n"
     ]
    }
   ],
   "source": [
    "y_train_preds = knn.predict_proba(X_train_tf)[:,1]\n",
    "y_valid_preds = knn.predict_proba(X_valid_tf)[:,1]\n",
    "\n",
    "print('KNN')\n",
    "print('Training:')\n",
    "knn_train_auc, knn_train_accuracy, knn_train_recall, \\\n",
    "    knn_train_precision, knn_train_specificity = print_report(y_train,y_train_preds, thresh)\n",
    "print('Validation:')\n",
    "knn_valid_auc, knn_valid_accuracy, knn_valid_recall, \\\n",
    "    knn_valid_precision, knn_valid_specificity = print_report(y_valid,y_valid_preds, thresh)"
   ]
  },
  {
   "cell_type": "markdown",
   "id": "c8869cd7",
   "metadata": {},
   "source": [
    "**Logistic Regression**"
   ]
  },
  {
   "cell_type": "code",
   "execution_count": 103,
   "id": "7df05658",
   "metadata": {},
   "outputs": [
    {
     "data": {
      "text/plain": [
       "LogisticRegression(random_state=42)"
      ]
     },
     "execution_count": 103,
     "metadata": {},
     "output_type": "execute_result"
    }
   ],
   "source": [
    "# logistic regression\n",
    "from sklearn.linear_model import LogisticRegression\n",
    "lr=LogisticRegression(random_state = 42)\n",
    "lr.fit(X_train_tf, y_train)"
   ]
  },
  {
   "cell_type": "code",
   "execution_count": 104,
   "id": "7838ee65",
   "metadata": {},
   "outputs": [
    {
     "name": "stdout",
     "output_type": "stream",
     "text": [
      "Logistic Regression\n",
      "Training:\n",
      "AUC:0.722\n",
      "accuracy:0.669\n",
      "recall:0.662\n",
      "precision:0.672\n",
      "specificity:0.677\n",
      "prevalence:0.500\n",
      " \n",
      "Validation:\n",
      "AUC:0.709\n",
      "accuracy:0.668\n",
      "recall:0.668\n",
      "precision:0.274\n",
      "specificity:0.668\n",
      "prevalence:0.158\n",
      " \n"
     ]
    }
   ],
   "source": [
    "y_train_preds = lr.predict_proba(X_train_tf)[:,1]\n",
    "y_valid_preds = lr.predict_proba(X_valid_tf)[:,1]\n",
    "\n",
    "print('Logistic Regression')\n",
    "print('Training:')\n",
    "lr_train_auc, lr_train_accuracy, lr_train_recall, \\\n",
    "    lr_train_precision, lr_train_specificity = print_report(y_train,y_train_preds, thresh)\n",
    "print('Validation:')\n",
    "lr_valid_auc, lr_valid_accuracy, lr_valid_recall, \\\n",
    "    lr_valid_precision, lr_valid_specificity = print_report(y_valid,y_valid_preds, thresh)"
   ]
  },
  {
   "cell_type": "markdown",
   "id": "01853fbe",
   "metadata": {},
   "source": [
    "**Stochastic Gradient Descent**\n",
    "\n",
    "When you have a lot of data logistic regression may take a long time to compute. An alternative approach is called stochastic gradient descent that works similarly to logistic regression but doesn't use all the data at each iteration."
   ]
  },
  {
   "cell_type": "code",
   "execution_count": 105,
   "id": "402d25af",
   "metadata": {},
   "outputs": [
    {
     "data": {
      "text/plain": [
       "SGDClassifier(alpha=0.1, loss='log', random_state=42)"
      ]
     },
     "execution_count": 105,
     "metadata": {},
     "output_type": "execute_result"
    }
   ],
   "source": [
    "from sklearn.linear_model import SGDClassifier\n",
    "sgdc=SGDClassifier(loss = 'log',alpha = 0.1,random_state = 42)\n",
    "sgdc.fit(X_train_tf, y_train)"
   ]
  },
  {
   "cell_type": "code",
   "execution_count": 106,
   "id": "fcd41d50",
   "metadata": {},
   "outputs": [
    {
     "name": "stdout",
     "output_type": "stream",
     "text": [
      "Stochastic Gradient Descend\n",
      "Training:\n",
      "AUC:0.722\n",
      "accuracy:0.669\n",
      "recall:0.660\n",
      "precision:0.672\n",
      "specificity:0.678\n",
      "prevalence:0.500\n",
      " \n",
      "Validation:\n",
      "AUC:0.711\n",
      "accuracy:0.667\n",
      "recall:0.663\n",
      "precision:0.273\n",
      "specificity:0.668\n",
      "prevalence:0.158\n",
      " \n"
     ]
    }
   ],
   "source": [
    "y_train_preds = sgdc.predict_proba(X_train_tf)[:,1]\n",
    "y_valid_preds = sgdc.predict_proba(X_valid_tf)[:,1]\n",
    "\n",
    "print('Stochastic Gradient Descend')\n",
    "print('Training:')\n",
    "sgdc_train_auc, sgdc_train_accuracy, sgdc_train_recall, sgdc_train_precision, sgdc_train_specificity =print_report(y_train,y_train_preds, thresh)\n",
    "print('Validation:')\n",
    "sgdc_valid_auc, sgdc_valid_accuracy, sgdc_valid_recall, sgdc_valid_precision, sgdc_valid_specificity = print_report(y_valid,y_valid_preds, thresh)"
   ]
  },
  {
   "cell_type": "markdown",
   "id": "0aca5de8",
   "metadata": {},
   "source": [
    "**Naive Bayes**"
   ]
  },
  {
   "cell_type": "code",
   "execution_count": 107,
   "id": "ca4e7c96",
   "metadata": {},
   "outputs": [
    {
     "data": {
      "text/plain": [
       "GaussianNB()"
      ]
     },
     "execution_count": 107,
     "metadata": {},
     "output_type": "execute_result"
    }
   ],
   "source": [
    "from sklearn.naive_bayes import GaussianNB\n",
    "\n",
    "nb = GaussianNB()\n",
    "nb.fit(X_train_tf, y_train)"
   ]
  },
  {
   "cell_type": "code",
   "execution_count": 108,
   "id": "be3d329b",
   "metadata": {},
   "outputs": [
    {
     "name": "stdout",
     "output_type": "stream",
     "text": [
      "Naive Bayes\n",
      "Training:\n",
      "AUC:0.657\n",
      "accuracy:0.576\n",
      "recall:0.871\n",
      "precision:0.548\n",
      "specificity:0.281\n",
      "prevalence:0.500\n",
      " \n",
      "Validation:\n",
      "AUC:0.645\n",
      "accuracy:0.375\n",
      "recall:0.865\n",
      "precision:0.185\n",
      "specificity:0.283\n",
      "prevalence:0.158\n",
      " \n"
     ]
    }
   ],
   "source": [
    "y_train_preds = nb.predict_proba(X_train_tf)[:,1]\n",
    "y_valid_preds = nb.predict_proba(X_valid_tf)[:,1]\n",
    "\n",
    "print('Naive Bayes')\n",
    "print('Training:')\n",
    "nb_train_auc, nb_train_accuracy, nb_train_recall, nb_train_precision, nb_train_specificity =print_report(y_train,y_train_preds, thresh)\n",
    "print('Validation:')\n",
    "nb_valid_auc, nb_valid_accuracy, nb_valid_recall, nb_valid_precision, nb_valid_specificity = print_report(y_valid,y_valid_preds, thresh)"
   ]
  },
  {
   "cell_type": "markdown",
   "id": "50ebf2e9",
   "metadata": {},
   "source": [
    "**Decision Tree Classifier**"
   ]
  },
  {
   "cell_type": "code",
   "execution_count": 109,
   "id": "c4dc6006",
   "metadata": {},
   "outputs": [
    {
     "data": {
      "text/plain": [
       "DecisionTreeClassifier(max_depth=10, random_state=42)"
      ]
     },
     "execution_count": 109,
     "metadata": {},
     "output_type": "execute_result"
    }
   ],
   "source": [
    "from sklearn.tree import DecisionTreeClassifier\n",
    "\n",
    "tree = DecisionTreeClassifier(max_depth = 10, random_state = 42)\n",
    "tree.fit(X_train_tf, y_train)"
   ]
  },
  {
   "cell_type": "code",
   "execution_count": 110,
   "id": "438ce3a6",
   "metadata": {},
   "outputs": [
    {
     "name": "stdout",
     "output_type": "stream",
     "text": [
      "Decision Tree\n",
      "Training:\n",
      "AUC:0.782\n",
      "accuracy:0.709\n",
      "recall:0.669\n",
      "precision:0.727\n",
      "specificity:0.749\n",
      "prevalence:0.500\n",
      " \n",
      "Validation:\n",
      "AUC:0.729\n",
      "accuracy:0.704\n",
      "recall:0.641\n",
      "precision:0.298\n",
      "specificity:0.716\n",
      "prevalence:0.158\n",
      " \n"
     ]
    }
   ],
   "source": [
    "y_train_preds = tree.predict_proba(X_train_tf)[:,1]\n",
    "y_valid_preds = tree.predict_proba(X_valid_tf)[:,1]\n",
    "\n",
    "print('Decision Tree')\n",
    "print('Training:')\n",
    "tree_train_auc, tree_train_accuracy, tree_train_recall, tree_train_precision, tree_train_specificity =print_report(y_train,y_train_preds, thresh)\n",
    "print('Validation:')\n",
    "tree_valid_auc, tree_valid_accuracy, tree_valid_recall, tree_valid_precision, tree_valid_specificity = print_report(y_valid,y_valid_preds, thresh)"
   ]
  },
  {
   "cell_type": "markdown",
   "id": "0ffd1492",
   "metadata": {},
   "source": [
    "**Random Forest**"
   ]
  },
  {
   "cell_type": "code",
   "execution_count": 111,
   "id": "05e231bf",
   "metadata": {},
   "outputs": [
    {
     "data": {
      "text/plain": [
       "RandomForestClassifier(max_depth=6, random_state=42)"
      ]
     },
     "execution_count": 111,
     "metadata": {},
     "output_type": "execute_result"
    }
   ],
   "source": [
    "from sklearn.ensemble import RandomForestClassifier\n",
    "rf=RandomForestClassifier(max_depth = 6, random_state = 42)\n",
    "rf.fit(X_train_tf, y_train)"
   ]
  },
  {
   "cell_type": "code",
   "execution_count": 112,
   "id": "0d4141e2",
   "metadata": {},
   "outputs": [
    {
     "name": "stdout",
     "output_type": "stream",
     "text": [
      "Random Forest\n",
      "Training:\n",
      "AUC:0.719\n",
      "accuracy:0.664\n",
      "recall:0.646\n",
      "precision:0.670\n",
      "specificity:0.682\n",
      "prevalence:0.500\n",
      " \n",
      "Validation:\n",
      "AUC:0.712\n",
      "accuracy:0.673\n",
      "recall:0.646\n",
      "precision:0.274\n",
      "specificity:0.678\n",
      "prevalence:0.158\n",
      " \n"
     ]
    }
   ],
   "source": [
    "y_train_preds = rf.predict_proba(X_train_tf)[:,1]\n",
    "y_valid_preds = rf.predict_proba(X_valid_tf)[:,1]\n",
    "\n",
    "print('Random Forest')\n",
    "print('Training:')\n",
    "rf_train_auc, rf_train_accuracy, rf_train_recall, rf_train_precision, rf_train_specificity =print_report(y_train,y_train_preds, thresh)\n",
    "print('Validation:')\n",
    "rf_valid_auc, rf_valid_accuracy, rf_valid_recall, rf_valid_precision, rf_valid_specificity = print_report(y_valid,y_valid_preds, thresh)"
   ]
  },
  {
   "cell_type": "markdown",
   "id": "b33f9e96",
   "metadata": {},
   "source": [
    "**Gradient Boosting Classifier**"
   ]
  },
  {
   "cell_type": "code",
   "execution_count": 113,
   "id": "e55435b2",
   "metadata": {},
   "outputs": [
    {
     "data": {
      "text/plain": [
       "GradientBoostingClassifier(learning_rate=1.0, random_state=42)"
      ]
     },
     "execution_count": 113,
     "metadata": {},
     "output_type": "execute_result"
    }
   ],
   "source": [
    "from sklearn.ensemble import GradientBoostingClassifier\n",
    "gbc =GradientBoostingClassifier(n_estimators=100, learning_rate=1.0,\n",
    "     max_depth=3, random_state=42)\n",
    "gbc.fit(X_train_tf, y_train)"
   ]
  },
  {
   "cell_type": "code",
   "execution_count": 114,
   "id": "5e89936d",
   "metadata": {},
   "outputs": [
    {
     "name": "stdout",
     "output_type": "stream",
     "text": [
      "Gradient Boosting Classifier\n",
      "Training:\n",
      "AUC:0.835\n",
      "accuracy:0.748\n",
      "recall:0.755\n",
      "precision:0.745\n",
      "specificity:0.742\n",
      "prevalence:0.500\n",
      " \n",
      "Validation:\n",
      "AUC:0.771\n",
      "accuracy:0.696\n",
      "recall:0.713\n",
      "precision:0.304\n",
      "specificity:0.693\n",
      "prevalence:0.158\n",
      " \n"
     ]
    }
   ],
   "source": [
    "y_train_preds = gbc.predict_proba(X_train_tf)[:,1]\n",
    "y_valid_preds = gbc.predict_proba(X_valid_tf)[:,1]\n",
    "\n",
    "print('Gradient Boosting Classifier')\n",
    "print('Training:')\n",
    "gbc_train_auc, gbc_train_accuracy, gbc_train_recall, gbc_train_precision, gbc_train_specificity = print_report(y_train,y_train_preds, thresh)\n",
    "print('Validation:')\n",
    "gbc_valid_auc, gbc_valid_accuracy, gbc_valid_recall, gbc_valid_precision, gbc_valid_specificity = print_report(y_valid,y_valid_preds, thresh)"
   ]
  },
  {
   "cell_type": "markdown",
   "id": "4ee301e0",
   "metadata": {},
   "source": [
    "## Analyze results of baseline models\n",
    "Use AUC (Area under the ROC curve) to evaluate the best model. This is a good data science performance metric for picking the best model since it captures the trade off between the true positive and false positive and does not require selecting a threshold."
   ]
  },
  {
   "cell_type": "code",
   "execution_count": 115,
   "id": "2c1a1e72",
   "metadata": {},
   "outputs": [],
   "source": [
    "df_results = pd.DataFrame({'classifier':['KNN','KNN','LR','LR','SGD','SGD','NB','NB','DT','DT','RF','RF','GB','GB'],\n",
    "                           'data_set':['train','valid']*7,\n",
    "                          'auc':[knn_train_auc, knn_valid_auc,lr_train_auc,lr_valid_auc,sgdc_train_auc,sgdc_valid_auc,nb_train_auc,nb_valid_auc,tree_train_auc,tree_valid_auc,rf_train_auc,rf_valid_auc,gbc_valid_auc,gbc_valid_auc,],\n",
    "                          'accuracy':[knn_train_accuracy, knn_valid_accuracy,lr_train_accuracy,lr_valid_accuracy,sgdc_train_accuracy,sgdc_valid_accuracy,nb_train_accuracy,nb_valid_accuracy,tree_train_accuracy,tree_valid_accuracy,rf_train_accuracy,rf_valid_accuracy,gbc_valid_accuracy,gbc_valid_accuracy,],\n",
    "                          'recall':[knn_train_recall, knn_valid_recall,lr_train_recall,lr_valid_recall,sgdc_train_recall,sgdc_valid_recall,nb_train_recall,nb_valid_recall,tree_train_recall,tree_valid_recall,rf_train_recall,rf_valid_recall,gbc_valid_recall,gbc_valid_recall,],\n",
    "                          'precision':[knn_train_precision, knn_valid_precision,lr_train_precision,lr_valid_precision,sgdc_train_precision,sgdc_valid_precision,nb_train_precision,nb_valid_precision,tree_train_precision,tree_valid_precision,rf_train_precision,rf_valid_precision,gbc_valid_auc,gbc_valid_precision,],\n",
    "                          'specificity':[knn_train_specificity, knn_valid_specificity,lr_train_specificity,lr_valid_specificity,sgdc_train_specificity,sgdc_valid_specificity,nb_train_specificity,nb_valid_specificity,tree_train_specificity,tree_valid_specificity,rf_train_specificity,rf_valid_specificity,gbc_valid_specificity,gbc_valid_specificity,]})"
   ]
  },
  {
   "cell_type": "code",
   "execution_count": 116,
   "id": "c0c9338e",
   "metadata": {},
   "outputs": [],
   "source": [
    "import seaborn as sns\n",
    "import matplotlib.pyplot as plt\n",
    "sns.set(style=\"darkgrid\")"
   ]
  },
  {
   "cell_type": "code",
   "execution_count": 117,
   "id": "db0408d7",
   "metadata": {},
   "outputs": [
    {
     "data": {
      "image/png": "[encoded data removed]",
      "text/plain": [
       "<Figure size 432x288 with 1 Axes>"
      ]
     },
     "metadata": {},
     "output_type": "display_data"
    }
   ],
   "source": [
    "ax = sns.barplot(x=\"classifier\", y=\"auc\", hue=\"data_set\", data=df_results)\n",
    "ax.set_xlabel('Classifier',fontsize = 15)\n",
    "ax.set_ylabel('AUC', fontsize = 15)\n",
    "ax.tick_params(labelsize=15)\n",
    "\n",
    "# Put the legend out of the figure\n",
    "plt.legend(bbox_to_anchor=(1.05, 1), loc=2, borderaxespad=0., fontsize = 15)\n",
    "plt.show()"
   ]
  },
  {
   "cell_type": "markdown",
   "id": "d0af8848",
   "metadata": {},
   "source": [
    "### Learning Curve\n",
    "To diagnose how the model is doing by plotting a learning curve. Use learning curve code from scikit-learn's website and chance plotting AUC instead of accuracy. "
   ]
  },
  {
   "cell_type": "code",
   "execution_count": 118,
   "id": "221655a8",
   "metadata": {},
   "outputs": [],
   "source": [
    "import numpy as np\n",
    "from sklearn.model_selection import learning_curve\n",
    "from sklearn.model_selection import ShuffleSplit\n",
    "\n",
    "def plot_learning_curve(estimator, title, X, y, ylim=None, cv=None,\n",
    "                        n_jobs=1, train_sizes=np.linspace(.1, 1.0, 5)):\n",
    "    \"\"\"\n",
    "    Generate a simple plot of the test and training learning curve.\n",
    "\n",
    "    Parameters\n",
    "    ----------\n",
    "    estimator : object type that implements the \"fit\" and \"predict\" methods\n",
    "        An object of that type which is cloned for each validation.\n",
    "\n",
    "    title : string\n",
    "        Title for the chart.\n",
    "\n",
    "    X : array-like, shape (n_samples, n_features)\n",
    "        Training vector, where n_samples is the number of samples and\n",
    "        n_features is the number of features.\n",
    "\n",
    "    y : array-like, shape (n_samples) or (n_samples, n_features), optional\n",
    "        Target relative to X for classification or regression;\n",
    "        None for unsupervised learning.\n",
    "\n",
    "    ylim : tuple, shape (ymin, ymax), optional\n",
    "        Defines minimum and maximum yvalues plotted.\n",
    "\n",
    "    cv : int, cross-validation generator or an iterable, optional\n",
    "        Determines the cross-validation splitting strategy.\n",
    "        Possible inputs for cv are:\n",
    "          - None, to use the default 3-fold cross-validation,\n",
    "          - integer, to specify the number of folds.\n",
    "          - An object to be used as a cross-validation generator.\n",
    "          - An iterable yielding train/test splits.\n",
    "\n",
    "        For integer/None inputs, if ``y`` is binary or multiclass,\n",
    "        :class:`StratifiedKFold` used. If the estimator is not a classifier\n",
    "        or if ``y`` is neither binary nor multiclass, :class:`KFold` is used.\n",
    "\n",
    "        Refer :ref:`User Guide <cross_validation>` for the various\n",
    "        cross-validators that can be used here.\n",
    "\n",
    "    n_jobs : integer, optional\n",
    "        Number of jobs to run in parallel (default 1).\n",
    "    \"\"\"\n",
    "    plt.figure()\n",
    "    plt.title(title)\n",
    "    if ylim is not None:\n",
    "        plt.ylim(*ylim)\n",
    "    plt.xlabel(\"Training examples\")\n",
    "    plt.ylabel(\"AUC\")\n",
    "    train_sizes, train_scores, test_scores = learning_curve(\n",
    "        estimator, X, y, cv=cv, n_jobs=n_jobs, train_sizes=train_sizes, scoring = 'roc_auc')\n",
    "    train_scores_mean = np.mean(train_scores, axis=1)\n",
    "    train_scores_std = np.std(train_scores, axis=1)\n",
    "    test_scores_mean = np.mean(test_scores, axis=1)\n",
    "    test_scores_std = np.std(test_scores, axis=1)\n",
    "    plt.grid()\n",
    "\n",
    "    plt.fill_between(train_sizes, train_scores_mean - train_scores_std,\n",
    "                     train_scores_mean + train_scores_std, alpha=0.1,\n",
    "                     color=\"r\")\n",
    "    plt.fill_between(train_sizes, test_scores_mean - test_scores_std,\n",
    "                     test_scores_mean + test_scores_std, alpha=0.1, color=\"b\")\n",
    "    plt.plot(train_sizes, train_scores_mean, 'o-', color=\"r\",\n",
    "             label=\"Training score\")\n",
    "    plt.plot(train_sizes, test_scores_mean, 'o-', color=\"b\",\n",
    "             label=\"Cross-validation score\")\n",
    "\n",
    "    plt.legend(loc=\"best\")\n",
    "    return plt"
   ]
  },
  {
   "cell_type": "code",
   "execution_count": 120,
   "id": "8868f43c",
   "metadata": {},
   "outputs": [
    {
     "data": {
      "image/png": "[encoded data removed]",
      "text/plain": [
       "<Figure size 432x288 with 1 Axes>"
      ]
     },
     "metadata": {},
     "output_type": "display_data"
    }
   ],
   "source": [
    "title = \"Learning Curves (DecisionTreeClassifier)\"\n",
    "# Cross validation with 5 iterations to get smoother mean test and train\n",
    "# score curves, each time with 20% data randomly selected as a validation set.\n",
    "cv = ShuffleSplit(n_splits=5, test_size=0.2, random_state=42)\n",
    "estimator = DecisionTreeClassifier(max_depth = 10, random_state = 42)\n",
    "plot_learning_curve(estimator, title, X_train_tf, y_train, ylim=(0.2, 1.01), cv=cv, n_jobs=4)\n",
    "\n",
    "plt.show()"
   ]
  },
  {
   "cell_type": "code",
   "execution_count": 119,
   "id": "2af86704",
   "metadata": {},
   "outputs": [
    {
     "data": {
      "image/png": "[encoded data removed]",
      "text/plain": [
       "<Figure size 432x288 with 1 Axes>"
      ]
     },
     "metadata": {},
     "output_type": "display_data"
    }
   ],
   "source": [
    "title = \"Learning Curves (GradientBoostingClassifier)\"\n",
    "cv = ShuffleSplit(n_splits=5, test_size=0.2, random_state=42)\n",
    "estimator = GradientBoostingClassifier(n_estimators=100, learning_rate=1.0, max_depth=3, random_state=42)\n",
    "plot_learning_curve(estimator, title, X_train_tf, y_train, ylim=(0.2, 1.01), cv=cv, n_jobs=4)\n",
    "\n",
    "plt.show()"
   ]
  },
  {
   "cell_type": "markdown",
   "id": "681dd156",
   "metadata": {},
   "source": [
    "In the DecisionTreeClassifier, the training scores are higher than the validation scores, indicating overfitting. In the GradientBoostingClassifier, the training and validation scores are similar but slighly low, which may indicate high bias and underfitting. "
   ]
  },
  {
   "cell_type": "markdown",
   "id": "ee420808",
   "metadata": {},
   "source": [
    "Depending on your learning curve, there are a few strategies you can employ to improve your models\n",
    "\n",
    "High Bias:\n",
    "\n",
    "- Add new features\n",
    "- Increase model complexity\n",
    "- Reduce regularization\n",
    "- Change model architecture\n",
    "\n",
    "High Variance:\n",
    "- Add more samples \n",
    "- Add regularization\n",
    "- Reduce number of features\n",
    "- Decrease model complexity\n",
    "- Add better features\n",
    "- Change model architecture"
   ]
  },
  {
   "cell_type": "markdown",
   "id": "a521e459",
   "metadata": {},
   "source": [
    "## Feature Importance\n",
    "One way to improve the model is to understand what features are important to the model. This analysis can help to:\n",
    "- inspire new feature ideas --> helps with both high bias and high variance\n",
    "- obtain a list of the top features to be used for feature reduction --> helps with high variance\n",
    "- point out errors in your pipeline --> helps with robustness of model"
   ]
  },
  {
   "cell_type": "markdown",
   "id": "270dda34",
   "metadata": {},
   "source": [
    "**Logistic Regression: features**\n",
    "\n",
    "Note: must have normalized data in order for the coefficients to be comparable between variables. Extract the coefficients using `coef_` and store in a new dataframe (sorted by importance). "
   ]
  },
  {
   "cell_type": "code",
   "execution_count": 121,
   "id": "a8aa1a3f",
   "metadata": {},
   "outputs": [],
   "source": [
    "feature_importances = pd.DataFrame(lr.coef_[0],\n",
    "                                   index = col2use,\n",
    "                                    columns=['importance']).sort_values('importance',\n",
    "                                                                        ascending=False)"
   ]
  },
  {
   "cell_type": "code",
   "execution_count": 122,
   "id": "4c7e75cc",
   "metadata": {},
   "outputs": [
    {
     "data": {
      "text/html": [
       "<div>\n",
       "<style scoped>\n",
       "    .dataframe tbody tr th:only-of-type {\n",
       "        vertical-align: middle;\n",
       "    }\n",
       "\n",
       "    .dataframe tbody tr th {\n",
       "        vertical-align: top;\n",
       "    }\n",
       "\n",
       "    .dataframe thead th {\n",
       "        text-align: right;\n",
       "    }\n",
       "</style>\n",
       "<table border=\"1\" class=\"dataframe\">\n",
       "  <thead>\n",
       "    <tr style=\"text-align: right;\">\n",
       "      <th></th>\n",
       "      <th>importance</th>\n",
       "    </tr>\n",
       "  </thead>\n",
       "  <tbody>\n",
       "    <tr>\n",
       "      <th>AGE</th>\n",
       "      <td>0.319212</td>\n",
       "    </tr>\n",
       "    <tr>\n",
       "      <th>PLACE_OF_SERVICE_21</th>\n",
       "      <td>0.255449</td>\n",
       "    </tr>\n",
       "    <tr>\n",
       "      <th>PLACE_OF_SERVICE_22</th>\n",
       "      <td>0.161782</td>\n",
       "    </tr>\n",
       "    <tr>\n",
       "      <th>CCS_code_35.0</th>\n",
       "      <td>0.107407</td>\n",
       "    </tr>\n",
       "    <tr>\n",
       "      <th>PLACE_OF_SERVICE_23</th>\n",
       "      <td>0.095904</td>\n",
       "    </tr>\n",
       "  </tbody>\n",
       "</table>\n",
       "</div>"
      ],
      "text/plain": [
       "                     importance\n",
       "AGE                    0.319212\n",
       "PLACE_OF_SERVICE_21    0.255449\n",
       "PLACE_OF_SERVICE_22    0.161782\n",
       "CCS_code_35.0          0.107407\n",
       "PLACE_OF_SERVICE_23    0.095904"
      ]
     },
     "execution_count": 122,
     "metadata": {},
     "output_type": "execute_result"
    }
   ],
   "source": [
    "feature_importances.head()"
   ]
  },
  {
   "cell_type": "code",
   "execution_count": 123,
   "id": "ac340fce",
   "metadata": {},
   "outputs": [
    {
     "data": {
      "image/png": "[encoded data removed]",
      "text/plain": [
       "<Figure size 640x1200 with 1 Axes>"
      ]
     },
     "metadata": {},
     "output_type": "display_data"
    }
   ],
   "source": [
    "num = 50\n",
    "ylocs = np.arange(num)\n",
    "# get the feature importance for top num and sort in reverse order\n",
    "values_to_plot = feature_importances.iloc[:num].values.ravel()[::-1]\n",
    "feature_labels = list(feature_importances.iloc[:num].index)[::-1]\n",
    "\n",
    "plt.figure(num=None, figsize=(8, 15), dpi=80, facecolor='w', edgecolor='k');\n",
    "plt.barh(ylocs, values_to_plot, align = 'center')\n",
    "plt.ylabel('Features')\n",
    "plt.xlabel('Importance Score')\n",
    "plt.title('Positive Feature Importance Score - Logistic Regression')\n",
    "plt.yticks(ylocs, feature_labels)\n",
    "plt.show()"
   ]
  },
  {
   "cell_type": "code",
   "execution_count": 124,
   "id": "22f54d78",
   "metadata": {
    "scrolled": false
   },
   "outputs": [
    {
     "data": {
      "image/png": "[encoded data removed]",
      "text/plain": [
       "<Figure size 640x1200 with 1 Axes>"
      ]
     },
     "metadata": {},
     "output_type": "display_data"
    }
   ],
   "source": [
    "values_to_plot = feature_importances.iloc[-num:].values.ravel()\n",
    "feature_labels = list(feature_importances.iloc[-num:].index)\n",
    "\n",
    "plt.figure(num=None, figsize=(8, 15), dpi=80, facecolor='w', edgecolor='k');\n",
    "plt.barh(ylocs, values_to_plot, align = 'center')\n",
    "plt.ylabel('Features')\n",
    "plt.xlabel('Importance Score')\n",
    "plt.title('Negative Feature Importance Score - Logistic Regression')\n",
    "plt.yticks(ylocs, feature_labels)\n",
    "plt.show()"
   ]
  },
  {
   "cell_type": "markdown",
   "id": "2fe90b80",
   "metadata": {},
   "source": [
    "For logistic regression, the variables with highest positive coefficients are predictive of hospitalization and the variables with highest negative coefficients are predictive of not being hospitalized. "
   ]
  },
  {
   "cell_type": "markdown",
   "id": "e91ba248",
   "metadata": {},
   "source": [
    "**Random Forest: features**\n",
    "\n",
    "Note: feature importance in random forests show how often a feature is used to split the data. (no correlation between positive or negative class)"
   ]
  },
  {
   "cell_type": "code",
   "execution_count": 125,
   "id": "b673d0e6",
   "metadata": {},
   "outputs": [],
   "source": [
    "feature_importances = pd.DataFrame(rf.feature_importances_,\n",
    "                                   index = col2use,\n",
    "                                    columns=['importance']).sort_values('importance',\n",
    "                                                                        ascending=False)"
   ]
  },
  {
   "cell_type": "code",
   "execution_count": 126,
   "id": "9bd4b98d",
   "metadata": {},
   "outputs": [
    {
     "data": {
      "text/html": [
       "<div>\n",
       "<style scoped>\n",
       "    .dataframe tbody tr th:only-of-type {\n",
       "        vertical-align: middle;\n",
       "    }\n",
       "\n",
       "    .dataframe tbody tr th {\n",
       "        vertical-align: top;\n",
       "    }\n",
       "\n",
       "    .dataframe thead th {\n",
       "        text-align: right;\n",
       "    }\n",
       "</style>\n",
       "<table border=\"1\" class=\"dataframe\">\n",
       "  <thead>\n",
       "    <tr style=\"text-align: right;\">\n",
       "      <th></th>\n",
       "      <th>importance</th>\n",
       "    </tr>\n",
       "  </thead>\n",
       "  <tbody>\n",
       "    <tr>\n",
       "      <th>PLACE_OF_SERVICE_11</th>\n",
       "      <td>0.154149</td>\n",
       "    </tr>\n",
       "    <tr>\n",
       "      <th>PLACE_OF_SERVICE_21</th>\n",
       "      <td>0.147830</td>\n",
       "    </tr>\n",
       "    <tr>\n",
       "      <th>AGE</th>\n",
       "      <td>0.105088</td>\n",
       "    </tr>\n",
       "    <tr>\n",
       "      <th>priority_6-25</th>\n",
       "      <td>0.089588</td>\n",
       "    </tr>\n",
       "    <tr>\n",
       "      <th>PLACE_OF_SERVICE_81</th>\n",
       "      <td>0.074855</td>\n",
       "    </tr>\n",
       "  </tbody>\n",
       "</table>\n",
       "</div>"
      ],
      "text/plain": [
       "                     importance\n",
       "PLACE_OF_SERVICE_11    0.154149\n",
       "PLACE_OF_SERVICE_21    0.147830\n",
       "AGE                    0.105088\n",
       "priority_6-25          0.089588\n",
       "PLACE_OF_SERVICE_81    0.074855"
      ]
     },
     "execution_count": 126,
     "metadata": {},
     "output_type": "execute_result"
    }
   ],
   "source": [
    "feature_importances.head()"
   ]
  },
  {
   "cell_type": "code",
   "execution_count": 127,
   "id": "fcbf7517",
   "metadata": {},
   "outputs": [
    {
     "data": {
      "image/png": "[encoded data removed]",
      "text/plain": [
       "<Figure size 640x1200 with 1 Axes>"
      ]
     },
     "metadata": {},
     "output_type": "display_data"
    }
   ],
   "source": [
    "num = 50\n",
    "ylocs = np.arange(num)\n",
    "# get the feature importance for top num and sort in reverse order\n",
    "values_to_plot = feature_importances.iloc[:num].values.ravel()[::-1]\n",
    "feature_labels = list(feature_importances.iloc[:num].index)[::-1]\n",
    "\n",
    "plt.figure(num=None, figsize=(8, 15), dpi=80, facecolor='w', edgecolor='k');\n",
    "plt.barh(ylocs, values_to_plot, align = 'center')\n",
    "plt.ylabel('Features')\n",
    "plt.xlabel('Importance Score')\n",
    "plt.title('Feature Importance Score - Random Forest')\n",
    "plt.yticks(ylocs, feature_labels)\n",
    "plt.show()"
   ]
  },
  {
   "cell_type": "markdown",
   "id": "fad1cc7c",
   "metadata": {},
   "source": [
    "## Hyperparameter tuning\n",
    "\n",
    "Only optimize hyperparameters for gradient boost because this baseline model performed the best. "
   ]
  },
  {
   "cell_type": "code",
   "execution_count": 132,
   "id": "fa1ed5f8",
   "metadata": {},
   "outputs": [
    {
     "name": "stdout",
     "output_type": "stream",
     "text": [
      "248.31298685073853\n"
     ]
    }
   ],
   "source": [
    "import time\n",
    "from sklearn.model_selection import RandomizedSearchCV\n",
    "from sklearn.metrics import make_scorer, roc_auc_score\n",
    "auc_scoring = make_scorer(roc_auc_score)\n",
    "\n",
    "# number of trees\n",
    "n_estimators = range(100,500,100)\n",
    "# maximum depth of the tree\n",
    "max_depth = range(1,5,1)\n",
    "# learning rate\n",
    "learning_rate = [0.001,0.01,0.1]\n",
    "\n",
    "# random grid\n",
    "random_grid_gbc = {'n_estimators':n_estimators,\n",
    "              'max_depth':max_depth,\n",
    "              'learning_rate':learning_rate}\n",
    "\n",
    "# create the randomized search cross-validation\n",
    "gbc_random = RandomizedSearchCV(estimator = gbc, param_distributions = random_grid_gbc,\n",
    "                                n_iter = 20, cv = 2, scoring=auc_scoring,\n",
    "                                verbose = 0, random_state = 42)\n",
    "\n",
    "t1 = time.time()\n",
    "gbc_random.fit(X_train_tf, y_train)\n",
    "t2 = time.time()\n",
    "print(t2-t1)"
   ]
  },
  {
   "cell_type": "code",
   "execution_count": 133,
   "id": "7ad74775",
   "metadata": {},
   "outputs": [
    {
     "data": {
      "text/plain": [
       "{'n_estimators': 200, 'max_depth': 4, 'learning_rate': 0.1}"
      ]
     },
     "execution_count": 133,
     "metadata": {},
     "output_type": "execute_result"
    }
   ],
   "source": [
    "gbc_random.best_params_"
   ]
  },
  {
   "cell_type": "code",
   "execution_count": 140,
   "id": "747593fa",
   "metadata": {},
   "outputs": [
    {
     "name": "stdout",
     "output_type": "stream",
     "text": [
      "Baseline gbc\n",
      "Training AUC:0.835\n",
      "Validation AUC:0.771\n",
      " \n",
      "Optimized gbc\n",
      "Training AUC:0.784\n",
      "Validation AUC:0.744\n"
     ]
    }
   ],
   "source": [
    "y_train_preds = gbc.predict_proba(X_train_tf)[:,1]\n",
    "y_valid_preds = gbc.predict_proba(X_valid_tf)[:,1]\n",
    "\n",
    "print('Baseline gbc')\n",
    "gbc_train_auc_base = roc_auc_score(y_train, y_train_preds)\n",
    "gbc_valid_auc_base = roc_auc_score(y_valid, y_valid_preds)\n",
    "\n",
    "print('Training AUC:%.3f'%(gbc_train_auc_base))\n",
    "print('Validation AUC:%.3f'%(gbc_valid_auc_base))\n",
    "\n",
    "print(\" \")\n",
    "print('Optimized gbc')\n",
    "y_train_preds_random = gbc_random.best_estimator_.predict_proba(X_train_tf)[:,1]\n",
    "y_valid_preds_random = gbc_random.best_estimator_.predict_proba(X_valid_tf)[:,1]\n",
    "gbc_train_auc = roc_auc_score(y_train, y_train_preds_random)\n",
    "gbc_valid_auc = roc_auc_score(y_valid, y_valid_preds_random)\n",
    "\n",
    "print('Training AUC:%.3f'%(gbc_train_auc))\n",
    "print('Validation AUC:%.3f'%(gbc_valid_auc))"
   ]
  },
  {
   "cell_type": "markdown",
   "id": "4efcfc76",
   "metadata": {},
   "source": [
    "Well, it looks like the baseline Gradient Boost Classifier model performed the best. Save the classifier so we don't have to retrain every time we want to run new predictions. "
   ]
  },
  {
   "cell_type": "code",
   "execution_count": 141,
   "id": "acd9fd3e",
   "metadata": {},
   "outputs": [],
   "source": [
    "# save the best classifier \n",
    "pickle.dump(gbc, open('best_classifier.pkl', 'wb'),protocol = 4)"
   ]
  },
  {
   "cell_type": "markdown",
   "id": "f81ee57b",
   "metadata": {},
   "source": [
    "# Model Evaluation\n",
    "Evaluate performance of the best model on the test set."
   ]
  },
  {
   "cell_type": "code",
   "execution_count": 142,
   "id": "cde03848",
   "metadata": {},
   "outputs": [],
   "source": [
    "X_test = df_test[col2use].values\n",
    "y_test = df_test['HAS_ADMISSION'].values\n",
    "\n",
    "scaler = pickle.load(open('scaler.sav', 'rb'))\n",
    "X_test_tf = scaler.transform(X_test)"
   ]
  },
  {
   "cell_type": "code",
   "execution_count": 143,
   "id": "9155d555",
   "metadata": {},
   "outputs": [],
   "source": [
    "best_model = pickle.load(open('best_classifier.pkl','rb'))"
   ]
  },
  {
   "cell_type": "code",
   "execution_count": 144,
   "id": "f209a3d0",
   "metadata": {},
   "outputs": [],
   "source": [
    "y_train_preds = best_model.predict_proba(X_train_tf)[:,1]\n",
    "y_valid_preds = best_model.predict_proba(X_valid_tf)[:,1]\n",
    "y_test_preds = best_model.predict_proba(X_test_tf)[:,1]"
   ]
  },
  {
   "cell_type": "code",
   "execution_count": 145,
   "id": "9273c83d",
   "metadata": {},
   "outputs": [
    {
     "name": "stdout",
     "output_type": "stream",
     "text": [
      "Training:\n",
      "AUC:0.835\n",
      "accuracy:0.748\n",
      "recall:0.755\n",
      "precision:0.745\n",
      "specificity:0.742\n",
      "prevalence:0.500\n",
      " \n",
      "Validation:\n",
      "AUC:0.771\n",
      "accuracy:0.696\n",
      "recall:0.713\n",
      "precision:0.304\n",
      "specificity:0.693\n",
      "prevalence:0.158\n",
      " \n",
      "Test:\n",
      "AUC:0.765\n",
      "accuracy:0.694\n",
      "recall:0.702\n",
      "precision:0.302\n",
      "specificity:0.693\n",
      "prevalence:0.159\n",
      " \n"
     ]
    }
   ],
   "source": [
    "thresh = 0.5\n",
    "\n",
    "print('Training:')\n",
    "train_auc, train_accuracy, train_recall, train_precision, train_specificity = print_report(y_train,y_train_preds, thresh)\n",
    "print('Validation:')\n",
    "valid_auc, valid_accuracy, valid_recall, valid_precision, valid_specificity = print_report(y_valid,y_valid_preds, thresh)\n",
    "print('Test:')\n",
    "test_auc, test_accuracy, test_recall, test_precision, test_specificity = print_report(y_test,y_test_preds, thresh)"
   ]
  },
  {
   "cell_type": "code",
   "execution_count": 146,
   "id": "74060fdc",
   "metadata": {},
   "outputs": [
    {
     "data": {
      "image/png": "[encoded data removed]",
      "text/plain": [
       "<Figure size 432x288 with 1 Axes>"
      ]
     },
     "metadata": {},
     "output_type": "display_data"
    }
   ],
   "source": [
    "from sklearn.metrics import roc_curve \n",
    "\n",
    "# ROC AUC \n",
    "fpr_train, tpr_train, thresholds_train = roc_curve(y_train, y_train_preds)\n",
    "auc_train = roc_auc_score(y_train, y_train_preds)\n",
    "\n",
    "fpr_valid, tpr_valid, thresholds_valid = roc_curve(y_valid, y_valid_preds)\n",
    "auc_valid = roc_auc_score(y_valid, y_valid_preds)\n",
    "\n",
    "fpr_test, tpr_test, thresholds_test = roc_curve(y_test, y_test_preds)\n",
    "auc_test = roc_auc_score(y_test, y_test_preds)\n",
    "\n",
    "plt.plot(fpr_train, tpr_train, 'r-',label ='Train AUC:%.3f'%auc_train)\n",
    "plt.plot(fpr_valid, tpr_valid, 'b-',label ='Valid AUC:%.3f'%auc_valid)\n",
    "plt.plot(fpr_test, tpr_test, 'g-',label ='Test AUC:%.3f'%auc_test)\n",
    "plt.plot([0,1],[0,1],'k--')\n",
    "plt.xlabel('False Positive Rate')\n",
    "plt.ylabel('True Positive Rate')\n",
    "plt.legend()\n",
    "plt.show()"
   ]
  },
  {
   "cell_type": "code",
   "execution_count": 155,
   "id": "b9d9852c",
   "metadata": {},
   "outputs": [
    {
     "data": {
      "text/plain": [
       "<sklearn.metrics._plot.precision_recall_curve.PrecisionRecallDisplay at 0x7fd3349fe850>"
      ]
     },
     "execution_count": 155,
     "metadata": {},
     "output_type": "execute_result"
    },
    {
     "data": {
      "image/png": "[encoded data removed]",
      "text/plain": [
       "<Figure size 432x288 with 1 Axes>"
      ]
     },
     "metadata": {},
     "output_type": "display_data"
    }
   ],
   "source": [
    "# precision-recall curve AUC\n",
    "from sklearn.metrics import plot_precision_recall_curve\n",
    "\n",
    "plot_precision_recall_curve(gbc, X_test_tf, y_test, name = 'Gradient Boosted Classifier')"
   ]
  },
  {
   "cell_type": "markdown",
   "id": "86408a40",
   "metadata": {},
   "source": [
    "# Wrap up \n",
    "In this assignment, created a binary classifier to predict the probability that a patient will have a hopsital admission in the next 180 days. On the test data, the best model had an AUC of 0.765 with accuracy of 0.694. The recall is 0.702 with this model, which means that we are able to catch 70% of the readmissions -- the model performs approximately 1.4 times better than randomly selecting patients. \n",
    "\n",
    "\n",
    "Due to limited compute power, the model was trained, validated, and tested on only 100,000 rows (as opposed to the 9.5+ million rows available). In addition, I initially intended to group by Patient IDs in order to create a dataframe where each row represents each individual patient (and all their respective datapoints). However, due to limited compute power, I was unable to run this line of code. As next steps, I would recommend modeling with this dataframe. "
   ]
  },
  {
   "cell_type": "markdown",
   "id": "11ee02b8",
   "metadata": {},
   "source": [
    "**References**\n",
    "- https://towardsdatascience.com/predicting-hospital-readmission-for-patients-with-diabetes-using-scikit-learn-a2e359b15f0\n",
    "- https://scikit-learn.org/stable/auto_examples/model_selection/plot_learning_curve.html\n",
    "- https://learnopencv.com/bias-variance-tradeoff-in-machine-learning/"
   ]
  }
 ],
 "metadata": {
  "kernelspec": {
   "display_name": "Python 3 (ipykernel)",
   "language": "python",
   "name": "python3"
  },
  "language_info": {
   "codemirror_mode": {
    "name": "ipython",
    "version": 3
   },
   "file_extension": ".py",
   "mimetype": "text/x-python",
   "name": "python",
   "nbconvert_exporter": "python",
   "pygments_lexer": "ipython3",
   "version": "3.9.7"
  }
 },
 "nbformat": 4,
 "nbformat_minor": 5
}
